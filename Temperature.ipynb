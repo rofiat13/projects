{
  "nbformat": 4,
  "nbformat_minor": 0,
  "metadata": {
    "colab": {
      "name": "Temperature.ipynb",
      "provenance": [],
      "authorship_tag": "ABX9TyN/ywSDAteICxv7Ph/QggH3",
      "include_colab_link": true
    },
    "kernelspec": {
      "name": "python3",
      "display_name": "Python 3"
    },
    "language_info": {
      "name": "python"
    }
  },
  "cells": [
    {
      "cell_type": "markdown",
      "metadata": {
        "id": "view-in-github",
        "colab_type": "text"
      },
      "source": [
        "<a href=\"https://colab.research.google.com/github/rofiat13/projects/blob/main/Temperature.ipynb\" target=\"_parent\"><img src=\"https://colab.research.google.com/assets/colab-badge.svg\" alt=\"Open In Colab\"/></a>"
      ]
    },
    {
      "cell_type": "code",
      "execution_count": 3,
      "metadata": {
        "colab": {
          "base_uri": "https://localhost:8080/"
        },
        "id": "hDMriB5k7Io1",
        "outputId": "ea456895-7df3-4c3d-e090-e29bfd8c4571"
      },
      "outputs": [
        {
          "output_type": "stream",
          "name": "stdout",
          "text": [
            "Looking in indexes: https://pypi.org/simple, https://us-python.pkg.dev/colab-wheels/public/simple/\n",
            "Collecting selectorlib\n",
            "  Downloading selectorlib-0.16.0-py2.py3-none-any.whl (5.8 kB)\n",
            "Collecting parsel>=1.5.1\n",
            "  Downloading parsel-1.6.0-py2.py3-none-any.whl (13 kB)\n",
            "Requirement already satisfied: Click>=6.0 in /usr/local/lib/python3.7/dist-packages (from selectorlib) (7.1.2)\n",
            "Requirement already satisfied: pyyaml>=3.12 in /usr/local/lib/python3.7/dist-packages (from selectorlib) (3.13)\n",
            "Collecting cssselect>=0.9\n",
            "  Downloading cssselect-1.1.0-py2.py3-none-any.whl (16 kB)\n",
            "Requirement already satisfied: six>=1.6.0 in /usr/local/lib/python3.7/dist-packages (from parsel>=1.5.1->selectorlib) (1.15.0)\n",
            "Collecting w3lib>=1.19.0\n",
            "  Downloading w3lib-1.22.0-py2.py3-none-any.whl (20 kB)\n",
            "Requirement already satisfied: lxml in /usr/local/lib/python3.7/dist-packages (from parsel>=1.5.1->selectorlib) (4.2.6)\n",
            "Installing collected packages: w3lib, cssselect, parsel, selectorlib\n",
            "Successfully installed cssselect-1.1.0 parsel-1.6.0 selectorlib-0.16.0 w3lib-1.22.0\n"
          ]
        }
      ],
      "source": [
        "!pip install selectorlib\n",
        "from selectorlib import Extractor\n",
        "import requests"
      ]
    },
    {
      "cell_type": "code",
      "source": [
        "class Temperature:\n",
        "    \"\"\"\n",
        "    This class will get a temperature value from the 'timeanddate.com/weather' webpage\n",
        "    \"\"\"\n",
        "\n",
        "    base_url = 'https://www.timeanddate.com/weather/'\n",
        "    yml_path = 'temperature.yaml'\n"
      ],
      "metadata": {
        "id": "cPz3tQby7LA6"
      },
      "execution_count": 4,
      "outputs": []
    },
    {
      "cell_type": "code",
      "source": [
        "def __init__(self, country, city):\n",
        "        self.country = country.replace(\" \", \"-\")\n",
        "        self.city = city.replace(\" \", \"-\")"
      ],
      "metadata": {
        "id": "eKI_Z_Oh7l9x"
      },
      "execution_count": 5,
      "outputs": []
    },
    {
      "cell_type": "code",
      "source": [
        " def build_url(self):\n",
        "\n",
        "        url = self.base_url + self.country + \"/\" + self.city\n",
        "        return url"
      ],
      "metadata": {
        "id": "hEBYgbsF7pI6"
      },
      "execution_count": 6,
      "outputs": []
    },
    {
      "cell_type": "code",
      "source": [
        " def scrape(self):\n",
        "\n",
        "        url = self.build_url()\n",
        "        extractor = Extractor.from_yaml_file(self.yml_path)\n",
        "        r = requests.get(url)\n",
        "        full_content = r.text\n",
        "        raw_content = extractor.extract(full_content)\n",
        "\n",
        "        return  raw_content\n"
      ],
      "metadata": {
        "id": "iGGwxOVR7r8D"
      },
      "execution_count": 7,
      "outputs": []
    },
    {
      "cell_type": "code",
      "source": [
        "def get(self):\n",
        "\n",
        "        scraped_content = self.scrape()\n",
        "        return float(scraped_content['temp'].replace(\"\\xa0°C\", \"\").strip())"
      ],
      "metadata": {
        "id": "89Be1Mdz7vjf"
      },
      "execution_count": 8,
      "outputs": []
    }
  ]
}
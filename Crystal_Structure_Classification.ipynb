{
  "nbformat": 4,
  "nbformat_minor": 0,
  "metadata": {
    "colab": {
      "name": "Crystal Structure Classification.ipynb",
      "provenance": [],
      "collapsed_sections": [],
      "authorship_tag": "ABX9TyMdYC30vZm8d5YoQyaaEFCm",
      "include_colab_link": true
    },
    "kernelspec": {
      "name": "python3",
      "display_name": "Python 3"
    },
    "language_info": {
      "name": "python"
    }
  },
  "cells": [
    {
      "cell_type": "markdown",
      "metadata": {
        "id": "view-in-github",
        "colab_type": "text"
      },
      "source": [
        "<a href=\"https://colab.research.google.com/github/rofiat13/projects/blob/main/Crystal_Structure_Classification.ipynb\" target=\"_parent\"><img src=\"https://colab.research.google.com/assets/colab-badge.svg\" alt=\"Open In Colab\"/></a>"
      ]
    },
    {
      "cell_type": "code",
      "execution_count": 1,
      "metadata": {
        "id": "mX4EV_PTI8Rl"
      },
      "outputs": [],
      "source": [
        "import numpy as np\n",
        "import pandas as pd\n",
        "import matplotlib.pyplot as plt\n",
        "import seaborn as sns"
      ]
    },
    {
      "cell_type": "code",
      "source": [
        "csc=pd.read_csv('https://s3.us-west-1.wasabisys.com/dphi/datasets/206/train_dataset.csv?AWSAccessKeyId=ABSZWDH67WW3G8YX40WD&Signature=yOmWsNSC2tV27YyhZFX5GCteJAE%3D&Expires=1654464284')"
      ],
      "metadata": {
        "id": "923Vk3sNOg1x"
      },
      "execution_count": 2,
      "outputs": []
    },
    {
      "cell_type": "code",
      "source": [
        "csc.head()"
      ],
      "metadata": {
        "colab": {
          "base_uri": "https://localhost:8080/",
          "height": 267
        },
        "id": "3APnZ_PtOvlR",
        "outputId": "4dbf2a59-ecc8-41cb-91bc-1009b044026c"
      },
      "execution_count": 3,
      "outputs": [
        {
          "output_type": "execute_result",
          "data": {
            "text/plain": [
              "   v(A)  v(B)  r(AXII)(Å)  r(AVI)(Å)  r(BVI)(Å)  EN(A)  EN(B)  l(A-O)(Å)  \\\n",
              "0     0     0        0.52       0.52       0.93   2.18   2.54   2.214685   \n",
              "1     0     0        1.03       0.86       0.60   1.27   1.90   2.500930   \n",
              "2     2     4        0.92       0.67       0.53   1.83   1.88   2.290644   \n",
              "3     1     5        1.64       1.38       0.62   0.82   2.36   3.025719   \n",
              "4     0     0        0.57       0.57       0.71   2.20   1.30   2.300109   \n",
              "\n",
              "   l(B-O)(Å)      ΔENR        tG         τ         μ Lowest distortion  \n",
              "0   2.313698 -1.728214  0.582680  0.000000  0.664286             cubic  \n",
              "1   0.000000 -1.768643  0.859135  0.000000  0.428571             cubic  \n",
              "2   1.930311 -1.468464  0.849994  4.936558  0.378571             cubic  \n",
              "3   1.745600 -1.974429  1.064161  3.977376  0.442857      orthorhombic  \n",
              "4   2.027412 -1.622357  0.660190  0.000000  0.507143             cubic  "
            ],
            "text/html": [
              "\n",
              "  <div id=\"df-74bcb9ee-596c-4141-9ef8-609a9b832f48\">\n",
              "    <div class=\"colab-df-container\">\n",
              "      <div>\n",
              "<style scoped>\n",
              "    .dataframe tbody tr th:only-of-type {\n",
              "        vertical-align: middle;\n",
              "    }\n",
              "\n",
              "    .dataframe tbody tr th {\n",
              "        vertical-align: top;\n",
              "    }\n",
              "\n",
              "    .dataframe thead th {\n",
              "        text-align: right;\n",
              "    }\n",
              "</style>\n",
              "<table border=\"1\" class=\"dataframe\">\n",
              "  <thead>\n",
              "    <tr style=\"text-align: right;\">\n",
              "      <th></th>\n",
              "      <th>v(A)</th>\n",
              "      <th>v(B)</th>\n",
              "      <th>r(AXII)(Å)</th>\n",
              "      <th>r(AVI)(Å)</th>\n",
              "      <th>r(BVI)(Å)</th>\n",
              "      <th>EN(A)</th>\n",
              "      <th>EN(B)</th>\n",
              "      <th>l(A-O)(Å)</th>\n",
              "      <th>l(B-O)(Å)</th>\n",
              "      <th>ΔENR</th>\n",
              "      <th>tG</th>\n",
              "      <th>τ</th>\n",
              "      <th>μ</th>\n",
              "      <th>Lowest distortion</th>\n",
              "    </tr>\n",
              "  </thead>\n",
              "  <tbody>\n",
              "    <tr>\n",
              "      <th>0</th>\n",
              "      <td>0</td>\n",
              "      <td>0</td>\n",
              "      <td>0.52</td>\n",
              "      <td>0.52</td>\n",
              "      <td>0.93</td>\n",
              "      <td>2.18</td>\n",
              "      <td>2.54</td>\n",
              "      <td>2.214685</td>\n",
              "      <td>2.313698</td>\n",
              "      <td>-1.728214</td>\n",
              "      <td>0.582680</td>\n",
              "      <td>0.000000</td>\n",
              "      <td>0.664286</td>\n",
              "      <td>cubic</td>\n",
              "    </tr>\n",
              "    <tr>\n",
              "      <th>1</th>\n",
              "      <td>0</td>\n",
              "      <td>0</td>\n",
              "      <td>1.03</td>\n",
              "      <td>0.86</td>\n",
              "      <td>0.60</td>\n",
              "      <td>1.27</td>\n",
              "      <td>1.90</td>\n",
              "      <td>2.500930</td>\n",
              "      <td>0.000000</td>\n",
              "      <td>-1.768643</td>\n",
              "      <td>0.859135</td>\n",
              "      <td>0.000000</td>\n",
              "      <td>0.428571</td>\n",
              "      <td>cubic</td>\n",
              "    </tr>\n",
              "    <tr>\n",
              "      <th>2</th>\n",
              "      <td>2</td>\n",
              "      <td>4</td>\n",
              "      <td>0.92</td>\n",
              "      <td>0.67</td>\n",
              "      <td>0.53</td>\n",
              "      <td>1.83</td>\n",
              "      <td>1.88</td>\n",
              "      <td>2.290644</td>\n",
              "      <td>1.930311</td>\n",
              "      <td>-1.468464</td>\n",
              "      <td>0.849994</td>\n",
              "      <td>4.936558</td>\n",
              "      <td>0.378571</td>\n",
              "      <td>cubic</td>\n",
              "    </tr>\n",
              "    <tr>\n",
              "      <th>3</th>\n",
              "      <td>1</td>\n",
              "      <td>5</td>\n",
              "      <td>1.64</td>\n",
              "      <td>1.38</td>\n",
              "      <td>0.62</td>\n",
              "      <td>0.82</td>\n",
              "      <td>2.36</td>\n",
              "      <td>3.025719</td>\n",
              "      <td>1.745600</td>\n",
              "      <td>-1.974429</td>\n",
              "      <td>1.064161</td>\n",
              "      <td>3.977376</td>\n",
              "      <td>0.442857</td>\n",
              "      <td>orthorhombic</td>\n",
              "    </tr>\n",
              "    <tr>\n",
              "      <th>4</th>\n",
              "      <td>0</td>\n",
              "      <td>0</td>\n",
              "      <td>0.57</td>\n",
              "      <td>0.57</td>\n",
              "      <td>0.71</td>\n",
              "      <td>2.20</td>\n",
              "      <td>1.30</td>\n",
              "      <td>2.300109</td>\n",
              "      <td>2.027412</td>\n",
              "      <td>-1.622357</td>\n",
              "      <td>0.660190</td>\n",
              "      <td>0.000000</td>\n",
              "      <td>0.507143</td>\n",
              "      <td>cubic</td>\n",
              "    </tr>\n",
              "  </tbody>\n",
              "</table>\n",
              "</div>\n",
              "      <button class=\"colab-df-convert\" onclick=\"convertToInteractive('df-74bcb9ee-596c-4141-9ef8-609a9b832f48')\"\n",
              "              title=\"Convert this dataframe to an interactive table.\"\n",
              "              style=\"display:none;\">\n",
              "        \n",
              "  <svg xmlns=\"http://www.w3.org/2000/svg\" height=\"24px\"viewBox=\"0 0 24 24\"\n",
              "       width=\"24px\">\n",
              "    <path d=\"M0 0h24v24H0V0z\" fill=\"none\"/>\n",
              "    <path d=\"M18.56 5.44l.94 2.06.94-2.06 2.06-.94-2.06-.94-.94-2.06-.94 2.06-2.06.94zm-11 1L8.5 8.5l.94-2.06 2.06-.94-2.06-.94L8.5 2.5l-.94 2.06-2.06.94zm10 10l.94 2.06.94-2.06 2.06-.94-2.06-.94-.94-2.06-.94 2.06-2.06.94z\"/><path d=\"M17.41 7.96l-1.37-1.37c-.4-.4-.92-.59-1.43-.59-.52 0-1.04.2-1.43.59L10.3 9.45l-7.72 7.72c-.78.78-.78 2.05 0 2.83L4 21.41c.39.39.9.59 1.41.59.51 0 1.02-.2 1.41-.59l7.78-7.78 2.81-2.81c.8-.78.8-2.07 0-2.86zM5.41 20L4 18.59l7.72-7.72 1.47 1.35L5.41 20z\"/>\n",
              "  </svg>\n",
              "      </button>\n",
              "      \n",
              "  <style>\n",
              "    .colab-df-container {\n",
              "      display:flex;\n",
              "      flex-wrap:wrap;\n",
              "      gap: 12px;\n",
              "    }\n",
              "\n",
              "    .colab-df-convert {\n",
              "      background-color: #E8F0FE;\n",
              "      border: none;\n",
              "      border-radius: 50%;\n",
              "      cursor: pointer;\n",
              "      display: none;\n",
              "      fill: #1967D2;\n",
              "      height: 32px;\n",
              "      padding: 0 0 0 0;\n",
              "      width: 32px;\n",
              "    }\n",
              "\n",
              "    .colab-df-convert:hover {\n",
              "      background-color: #E2EBFA;\n",
              "      box-shadow: 0px 1px 2px rgba(60, 64, 67, 0.3), 0px 1px 3px 1px rgba(60, 64, 67, 0.15);\n",
              "      fill: #174EA6;\n",
              "    }\n",
              "\n",
              "    [theme=dark] .colab-df-convert {\n",
              "      background-color: #3B4455;\n",
              "      fill: #D2E3FC;\n",
              "    }\n",
              "\n",
              "    [theme=dark] .colab-df-convert:hover {\n",
              "      background-color: #434B5C;\n",
              "      box-shadow: 0px 1px 3px 1px rgba(0, 0, 0, 0.15);\n",
              "      filter: drop-shadow(0px 1px 2px rgba(0, 0, 0, 0.3));\n",
              "      fill: #FFFFFF;\n",
              "    }\n",
              "  </style>\n",
              "\n",
              "      <script>\n",
              "        const buttonEl =\n",
              "          document.querySelector('#df-74bcb9ee-596c-4141-9ef8-609a9b832f48 button.colab-df-convert');\n",
              "        buttonEl.style.display =\n",
              "          google.colab.kernel.accessAllowed ? 'block' : 'none';\n",
              "\n",
              "        async function convertToInteractive(key) {\n",
              "          const element = document.querySelector('#df-74bcb9ee-596c-4141-9ef8-609a9b832f48');\n",
              "          const dataTable =\n",
              "            await google.colab.kernel.invokeFunction('convertToInteractive',\n",
              "                                                     [key], {});\n",
              "          if (!dataTable) return;\n",
              "\n",
              "          const docLinkHtml = 'Like what you see? Visit the ' +\n",
              "            '<a target=\"_blank\" href=https://colab.research.google.com/notebooks/data_table.ipynb>data table notebook</a>'\n",
              "            + ' to learn more about interactive tables.';\n",
              "          element.innerHTML = '';\n",
              "          dataTable['output_type'] = 'display_data';\n",
              "          await google.colab.output.renderOutput(dataTable, element);\n",
              "          const docLink = document.createElement('div');\n",
              "          docLink.innerHTML = docLinkHtml;\n",
              "          element.appendChild(docLink);\n",
              "        }\n",
              "      </script>\n",
              "    </div>\n",
              "  </div>\n",
              "  "
            ]
          },
          "metadata": {},
          "execution_count": 3
        }
      ]
    },
    {
      "cell_type": "code",
      "source": [
        "csc.shape"
      ],
      "metadata": {
        "colab": {
          "base_uri": "https://localhost:8080/"
        },
        "id": "IzCEslNMOxXW",
        "outputId": "c82df673-eb6e-4506-c733-709bc683a123"
      },
      "execution_count": 4,
      "outputs": [
        {
          "output_type": "execute_result",
          "data": {
            "text/plain": [
              "(4165, 14)"
            ]
          },
          "metadata": {},
          "execution_count": 4
        }
      ]
    },
    {
      "cell_type": "code",
      "source": [
        "csc.info()"
      ],
      "metadata": {
        "colab": {
          "base_uri": "https://localhost:8080/"
        },
        "id": "9Xw1uo_fOy7V",
        "outputId": "b0f168f6-dbbe-40b5-949c-4c02712383e7"
      },
      "execution_count": 5,
      "outputs": [
        {
          "output_type": "stream",
          "name": "stdout",
          "text": [
            "<class 'pandas.core.frame.DataFrame'>\n",
            "RangeIndex: 4165 entries, 0 to 4164\n",
            "Data columns (total 14 columns):\n",
            " #   Column             Non-Null Count  Dtype  \n",
            "---  ------             --------------  -----  \n",
            " 0   v(A)               4165 non-null   int64  \n",
            " 1   v(B)               4165 non-null   int64  \n",
            " 2   r(AXII)(Å)         4165 non-null   float64\n",
            " 3   r(AVI)(Å)          4165 non-null   float64\n",
            " 4   r(BVI)(Å)          4165 non-null   float64\n",
            " 5   EN(A)              4165 non-null   float64\n",
            " 6   EN(B)              4165 non-null   float64\n",
            " 7   l(A-O)(Å)          4165 non-null   float64\n",
            " 8   l(B-O)(Å)          4165 non-null   float64\n",
            " 9   ΔENR               4165 non-null   float64\n",
            " 10  tG                 4165 non-null   float64\n",
            " 11  τ                  4165 non-null   float64\n",
            " 12  μ                  4165 non-null   float64\n",
            " 13  Lowest distortion  4165 non-null   object \n",
            "dtypes: float64(11), int64(2), object(1)\n",
            "memory usage: 455.7+ KB\n"
          ]
        }
      ]
    },
    {
      "cell_type": "code",
      "source": [
        "csc.describe()"
      ],
      "metadata": {
        "colab": {
          "base_uri": "https://localhost:8080/",
          "height": 364
        },
        "id": "Pcyoas71O8qF",
        "outputId": "ce633754-bd77-42b5-a2ca-d682d818f4fd"
      },
      "execution_count": 6,
      "outputs": [
        {
          "output_type": "execute_result",
          "data": {
            "text/plain": [
              "              v(A)         v(B)  r(AXII)(Å)    r(AVI)(Å)    r(BVI)(Å)  \\\n",
              "count  4165.000000  4165.000000  4165.00000  4165.000000  4165.000000   \n",
              "mean      0.882353     1.385114     1.00557     0.841789     0.801999   \n",
              "std       1.672111     2.161707     0.33694     0.240549     0.234891   \n",
              "min      -1.000000    -1.000000     0.27000     0.270000     0.270000   \n",
              "25%      -1.000000    -1.000000     0.73000     0.670000     0.630000   \n",
              "50%       0.000000     0.000000     0.98000     0.860000     0.760000   \n",
              "75%       2.000000     3.000000     1.24000     0.960000     0.940000   \n",
              "max       5.000000     5.000000     1.88000     1.670000     1.670000   \n",
              "\n",
              "             EN(A)        EN(B)    l(A-O)(Å)    l(B-O)(Å)         ΔENR  \\\n",
              "count  4165.000000  4165.000000  4165.000000  4165.000000  4165.000000   \n",
              "mean      1.547309     1.599059     2.323011     2.017219    -2.186093   \n",
              "std       0.447277     0.442961     0.635699     0.555599     0.636470   \n",
              "min       0.790000     0.790000     0.000000     0.000000    -5.411536   \n",
              "25%       1.200000     1.220000     2.294004     1.956808    -2.570036   \n",
              "50%       1.500000     1.600000     2.422517     2.075849    -2.084214   \n",
              "75%       1.910000     1.960000     2.582926     2.284156    -1.734643   \n",
              "max       2.540000     2.540000     3.300176     3.009747    -0.601714   \n",
              "\n",
              "                tG            τ            μ  \n",
              "count  4165.000000  4165.000000  4165.000000  \n",
              "mean      0.781040     1.332182     0.572857  \n",
              "std       0.135816    20.804362     0.167778  \n",
              "min       0.384648  -480.827696     0.192857  \n",
              "25%       0.680809     0.000000     0.450000  \n",
              "50%       0.776944     0.000000     0.542857  \n",
              "75%       0.873123     3.892903     0.671429  \n",
              "max       1.321062   305.871348     1.192857  "
            ],
            "text/html": [
              "\n",
              "  <div id=\"df-80ebb228-1b3e-4433-b027-d875eecabc29\">\n",
              "    <div class=\"colab-df-container\">\n",
              "      <div>\n",
              "<style scoped>\n",
              "    .dataframe tbody tr th:only-of-type {\n",
              "        vertical-align: middle;\n",
              "    }\n",
              "\n",
              "    .dataframe tbody tr th {\n",
              "        vertical-align: top;\n",
              "    }\n",
              "\n",
              "    .dataframe thead th {\n",
              "        text-align: right;\n",
              "    }\n",
              "</style>\n",
              "<table border=\"1\" class=\"dataframe\">\n",
              "  <thead>\n",
              "    <tr style=\"text-align: right;\">\n",
              "      <th></th>\n",
              "      <th>v(A)</th>\n",
              "      <th>v(B)</th>\n",
              "      <th>r(AXII)(Å)</th>\n",
              "      <th>r(AVI)(Å)</th>\n",
              "      <th>r(BVI)(Å)</th>\n",
              "      <th>EN(A)</th>\n",
              "      <th>EN(B)</th>\n",
              "      <th>l(A-O)(Å)</th>\n",
              "      <th>l(B-O)(Å)</th>\n",
              "      <th>ΔENR</th>\n",
              "      <th>tG</th>\n",
              "      <th>τ</th>\n",
              "      <th>μ</th>\n",
              "    </tr>\n",
              "  </thead>\n",
              "  <tbody>\n",
              "    <tr>\n",
              "      <th>count</th>\n",
              "      <td>4165.000000</td>\n",
              "      <td>4165.000000</td>\n",
              "      <td>4165.00000</td>\n",
              "      <td>4165.000000</td>\n",
              "      <td>4165.000000</td>\n",
              "      <td>4165.000000</td>\n",
              "      <td>4165.000000</td>\n",
              "      <td>4165.000000</td>\n",
              "      <td>4165.000000</td>\n",
              "      <td>4165.000000</td>\n",
              "      <td>4165.000000</td>\n",
              "      <td>4165.000000</td>\n",
              "      <td>4165.000000</td>\n",
              "    </tr>\n",
              "    <tr>\n",
              "      <th>mean</th>\n",
              "      <td>0.882353</td>\n",
              "      <td>1.385114</td>\n",
              "      <td>1.00557</td>\n",
              "      <td>0.841789</td>\n",
              "      <td>0.801999</td>\n",
              "      <td>1.547309</td>\n",
              "      <td>1.599059</td>\n",
              "      <td>2.323011</td>\n",
              "      <td>2.017219</td>\n",
              "      <td>-2.186093</td>\n",
              "      <td>0.781040</td>\n",
              "      <td>1.332182</td>\n",
              "      <td>0.572857</td>\n",
              "    </tr>\n",
              "    <tr>\n",
              "      <th>std</th>\n",
              "      <td>1.672111</td>\n",
              "      <td>2.161707</td>\n",
              "      <td>0.33694</td>\n",
              "      <td>0.240549</td>\n",
              "      <td>0.234891</td>\n",
              "      <td>0.447277</td>\n",
              "      <td>0.442961</td>\n",
              "      <td>0.635699</td>\n",
              "      <td>0.555599</td>\n",
              "      <td>0.636470</td>\n",
              "      <td>0.135816</td>\n",
              "      <td>20.804362</td>\n",
              "      <td>0.167778</td>\n",
              "    </tr>\n",
              "    <tr>\n",
              "      <th>min</th>\n",
              "      <td>-1.000000</td>\n",
              "      <td>-1.000000</td>\n",
              "      <td>0.27000</td>\n",
              "      <td>0.270000</td>\n",
              "      <td>0.270000</td>\n",
              "      <td>0.790000</td>\n",
              "      <td>0.790000</td>\n",
              "      <td>0.000000</td>\n",
              "      <td>0.000000</td>\n",
              "      <td>-5.411536</td>\n",
              "      <td>0.384648</td>\n",
              "      <td>-480.827696</td>\n",
              "      <td>0.192857</td>\n",
              "    </tr>\n",
              "    <tr>\n",
              "      <th>25%</th>\n",
              "      <td>-1.000000</td>\n",
              "      <td>-1.000000</td>\n",
              "      <td>0.73000</td>\n",
              "      <td>0.670000</td>\n",
              "      <td>0.630000</td>\n",
              "      <td>1.200000</td>\n",
              "      <td>1.220000</td>\n",
              "      <td>2.294004</td>\n",
              "      <td>1.956808</td>\n",
              "      <td>-2.570036</td>\n",
              "      <td>0.680809</td>\n",
              "      <td>0.000000</td>\n",
              "      <td>0.450000</td>\n",
              "    </tr>\n",
              "    <tr>\n",
              "      <th>50%</th>\n",
              "      <td>0.000000</td>\n",
              "      <td>0.000000</td>\n",
              "      <td>0.98000</td>\n",
              "      <td>0.860000</td>\n",
              "      <td>0.760000</td>\n",
              "      <td>1.500000</td>\n",
              "      <td>1.600000</td>\n",
              "      <td>2.422517</td>\n",
              "      <td>2.075849</td>\n",
              "      <td>-2.084214</td>\n",
              "      <td>0.776944</td>\n",
              "      <td>0.000000</td>\n",
              "      <td>0.542857</td>\n",
              "    </tr>\n",
              "    <tr>\n",
              "      <th>75%</th>\n",
              "      <td>2.000000</td>\n",
              "      <td>3.000000</td>\n",
              "      <td>1.24000</td>\n",
              "      <td>0.960000</td>\n",
              "      <td>0.940000</td>\n",
              "      <td>1.910000</td>\n",
              "      <td>1.960000</td>\n",
              "      <td>2.582926</td>\n",
              "      <td>2.284156</td>\n",
              "      <td>-1.734643</td>\n",
              "      <td>0.873123</td>\n",
              "      <td>3.892903</td>\n",
              "      <td>0.671429</td>\n",
              "    </tr>\n",
              "    <tr>\n",
              "      <th>max</th>\n",
              "      <td>5.000000</td>\n",
              "      <td>5.000000</td>\n",
              "      <td>1.88000</td>\n",
              "      <td>1.670000</td>\n",
              "      <td>1.670000</td>\n",
              "      <td>2.540000</td>\n",
              "      <td>2.540000</td>\n",
              "      <td>3.300176</td>\n",
              "      <td>3.009747</td>\n",
              "      <td>-0.601714</td>\n",
              "      <td>1.321062</td>\n",
              "      <td>305.871348</td>\n",
              "      <td>1.192857</td>\n",
              "    </tr>\n",
              "  </tbody>\n",
              "</table>\n",
              "</div>\n",
              "      <button class=\"colab-df-convert\" onclick=\"convertToInteractive('df-80ebb228-1b3e-4433-b027-d875eecabc29')\"\n",
              "              title=\"Convert this dataframe to an interactive table.\"\n",
              "              style=\"display:none;\">\n",
              "        \n",
              "  <svg xmlns=\"http://www.w3.org/2000/svg\" height=\"24px\"viewBox=\"0 0 24 24\"\n",
              "       width=\"24px\">\n",
              "    <path d=\"M0 0h24v24H0V0z\" fill=\"none\"/>\n",
              "    <path d=\"M18.56 5.44l.94 2.06.94-2.06 2.06-.94-2.06-.94-.94-2.06-.94 2.06-2.06.94zm-11 1L8.5 8.5l.94-2.06 2.06-.94-2.06-.94L8.5 2.5l-.94 2.06-2.06.94zm10 10l.94 2.06.94-2.06 2.06-.94-2.06-.94-.94-2.06-.94 2.06-2.06.94z\"/><path d=\"M17.41 7.96l-1.37-1.37c-.4-.4-.92-.59-1.43-.59-.52 0-1.04.2-1.43.59L10.3 9.45l-7.72 7.72c-.78.78-.78 2.05 0 2.83L4 21.41c.39.39.9.59 1.41.59.51 0 1.02-.2 1.41-.59l7.78-7.78 2.81-2.81c.8-.78.8-2.07 0-2.86zM5.41 20L4 18.59l7.72-7.72 1.47 1.35L5.41 20z\"/>\n",
              "  </svg>\n",
              "      </button>\n",
              "      \n",
              "  <style>\n",
              "    .colab-df-container {\n",
              "      display:flex;\n",
              "      flex-wrap:wrap;\n",
              "      gap: 12px;\n",
              "    }\n",
              "\n",
              "    .colab-df-convert {\n",
              "      background-color: #E8F0FE;\n",
              "      border: none;\n",
              "      border-radius: 50%;\n",
              "      cursor: pointer;\n",
              "      display: none;\n",
              "      fill: #1967D2;\n",
              "      height: 32px;\n",
              "      padding: 0 0 0 0;\n",
              "      width: 32px;\n",
              "    }\n",
              "\n",
              "    .colab-df-convert:hover {\n",
              "      background-color: #E2EBFA;\n",
              "      box-shadow: 0px 1px 2px rgba(60, 64, 67, 0.3), 0px 1px 3px 1px rgba(60, 64, 67, 0.15);\n",
              "      fill: #174EA6;\n",
              "    }\n",
              "\n",
              "    [theme=dark] .colab-df-convert {\n",
              "      background-color: #3B4455;\n",
              "      fill: #D2E3FC;\n",
              "    }\n",
              "\n",
              "    [theme=dark] .colab-df-convert:hover {\n",
              "      background-color: #434B5C;\n",
              "      box-shadow: 0px 1px 3px 1px rgba(0, 0, 0, 0.15);\n",
              "      filter: drop-shadow(0px 1px 2px rgba(0, 0, 0, 0.3));\n",
              "      fill: #FFFFFF;\n",
              "    }\n",
              "  </style>\n",
              "\n",
              "      <script>\n",
              "        const buttonEl =\n",
              "          document.querySelector('#df-80ebb228-1b3e-4433-b027-d875eecabc29 button.colab-df-convert');\n",
              "        buttonEl.style.display =\n",
              "          google.colab.kernel.accessAllowed ? 'block' : 'none';\n",
              "\n",
              "        async function convertToInteractive(key) {\n",
              "          const element = document.querySelector('#df-80ebb228-1b3e-4433-b027-d875eecabc29');\n",
              "          const dataTable =\n",
              "            await google.colab.kernel.invokeFunction('convertToInteractive',\n",
              "                                                     [key], {});\n",
              "          if (!dataTable) return;\n",
              "\n",
              "          const docLinkHtml = 'Like what you see? Visit the ' +\n",
              "            '<a target=\"_blank\" href=https://colab.research.google.com/notebooks/data_table.ipynb>data table notebook</a>'\n",
              "            + ' to learn more about interactive tables.';\n",
              "          element.innerHTML = '';\n",
              "          dataTable['output_type'] = 'display_data';\n",
              "          await google.colab.output.renderOutput(dataTable, element);\n",
              "          const docLink = document.createElement('div');\n",
              "          docLink.innerHTML = docLinkHtml;\n",
              "          element.appendChild(docLink);\n",
              "        }\n",
              "      </script>\n",
              "    </div>\n",
              "  </div>\n",
              "  "
            ]
          },
          "metadata": {},
          "execution_count": 6
        }
      ]
    },
    {
      "cell_type": "code",
      "source": [
        "csc['Lowest distortion'].value_counts()"
      ],
      "metadata": {
        "colab": {
          "base_uri": "https://localhost:8080/"
        },
        "id": "4N0GpdcjoIO3",
        "outputId": "8d1eef83-4886-4e3f-8eac-acc9980969f8"
      },
      "execution_count": 7,
      "outputs": [
        {
          "output_type": "execute_result",
          "data": {
            "text/plain": [
              "cubic           2460\n",
              "orthorhombic    1354\n",
              "rhombohedral     249\n",
              "tetragonal       102\n",
              "Name: Lowest distortion, dtype: int64"
            ]
          },
          "metadata": {},
          "execution_count": 7
        }
      ]
    },
    {
      "cell_type": "code",
      "source": [
        "sns.countplot(csc['Lowest distortion'])"
      ],
      "metadata": {
        "colab": {
          "base_uri": "https://localhost:8080/",
          "height": 351
        },
        "id": "BhamDuUxo0Zz",
        "outputId": "0f3e4e8b-dba6-4e82-fdc8-700424176886"
      },
      "execution_count": 8,
      "outputs": [
        {
          "output_type": "stream",
          "name": "stderr",
          "text": [
            "/usr/local/lib/python3.7/dist-packages/seaborn/_decorators.py:43: FutureWarning: Pass the following variable as a keyword arg: x. From version 0.12, the only valid positional argument will be `data`, and passing other arguments without an explicit keyword will result in an error or misinterpretation.\n",
            "  FutureWarning\n"
          ]
        },
        {
          "output_type": "execute_result",
          "data": {
            "text/plain": [
              "<matplotlib.axes._subplots.AxesSubplot at 0x7f576303f990>"
            ]
          },
          "metadata": {},
          "execution_count": 8
        },
        {
          "output_type": "display_data",
          "data": {
            "text/plain": [
              "<Figure size 432x288 with 1 Axes>"
            ],
            "image/png": "[encoded data removed]"
          },
          "metadata": {
            "needs_background": "light"
          }
        }
      ]
    },
    {
      "cell_type": "code",
      "source": [
        "y=csc['Lowest distortion']\n",
        "x=csc.drop('Lowest distortion',axis=1)"
      ],
      "metadata": {
        "id": "YS7cVl_OcDeW"
      },
      "execution_count": 9,
      "outputs": []
    },
    {
      "cell_type": "code",
      "source": [
        "y=pd.get_dummies(y)\n",
        "y"
      ],
      "metadata": {
        "id": "y62F-CIPQF-e",
        "colab": {
          "base_uri": "https://localhost:8080/",
          "height": 424
        },
        "outputId": "acd2918b-b36f-4333-96d9-414341f49668"
      },
      "execution_count": 10,
      "outputs": [
        {
          "output_type": "execute_result",
          "data": {
            "text/plain": [
              "      cubic  orthorhombic  rhombohedral  tetragonal\n",
              "0         1             0             0           0\n",
              "1         1             0             0           0\n",
              "2         1             0             0           0\n",
              "3         0             1             0           0\n",
              "4         1             0             0           0\n",
              "...     ...           ...           ...         ...\n",
              "4160      0             1             0           0\n",
              "4161      1             0             0           0\n",
              "4162      1             0             0           0\n",
              "4163      1             0             0           0\n",
              "4164      0             1             0           0\n",
              "\n",
              "[4165 rows x 4 columns]"
            ],
            "text/html": [
              "\n",
              "  <div id=\"df-f60ec93a-49d5-4955-8990-3e3247b2ef3c\">\n",
              "    <div class=\"colab-df-container\">\n",
              "      <div>\n",
              "<style scoped>\n",
              "    .dataframe tbody tr th:only-of-type {\n",
              "        vertical-align: middle;\n",
              "    }\n",
              "\n",
              "    .dataframe tbody tr th {\n",
              "        vertical-align: top;\n",
              "    }\n",
              "\n",
              "    .dataframe thead th {\n",
              "        text-align: right;\n",
              "    }\n",
              "</style>\n",
              "<table border=\"1\" class=\"dataframe\">\n",
              "  <thead>\n",
              "    <tr style=\"text-align: right;\">\n",
              "      <th></th>\n",
              "      <th>cubic</th>\n",
              "      <th>orthorhombic</th>\n",
              "      <th>rhombohedral</th>\n",
              "      <th>tetragonal</th>\n",
              "    </tr>\n",
              "  </thead>\n",
              "  <tbody>\n",
              "    <tr>\n",
              "      <th>0</th>\n",
              "      <td>1</td>\n",
              "      <td>0</td>\n",
              "      <td>0</td>\n",
              "      <td>0</td>\n",
              "    </tr>\n",
              "    <tr>\n",
              "      <th>1</th>\n",
              "      <td>1</td>\n",
              "      <td>0</td>\n",
              "      <td>0</td>\n",
              "      <td>0</td>\n",
              "    </tr>\n",
              "    <tr>\n",
              "      <th>2</th>\n",
              "      <td>1</td>\n",
              "      <td>0</td>\n",
              "      <td>0</td>\n",
              "      <td>0</td>\n",
              "    </tr>\n",
              "    <tr>\n",
              "      <th>3</th>\n",
              "      <td>0</td>\n",
              "      <td>1</td>\n",
              "      <td>0</td>\n",
              "      <td>0</td>\n",
              "    </tr>\n",
              "    <tr>\n",
              "      <th>4</th>\n",
              "      <td>1</td>\n",
              "      <td>0</td>\n",
              "      <td>0</td>\n",
              "      <td>0</td>\n",
              "    </tr>\n",
              "    <tr>\n",
              "      <th>...</th>\n",
              "      <td>...</td>\n",
              "      <td>...</td>\n",
              "      <td>...</td>\n",
              "      <td>...</td>\n",
              "    </tr>\n",
              "    <tr>\n",
              "      <th>4160</th>\n",
              "      <td>0</td>\n",
              "      <td>1</td>\n",
              "      <td>0</td>\n",
              "      <td>0</td>\n",
              "    </tr>\n",
              "    <tr>\n",
              "      <th>4161</th>\n",
              "      <td>1</td>\n",
              "      <td>0</td>\n",
              "      <td>0</td>\n",
              "      <td>0</td>\n",
              "    </tr>\n",
              "    <tr>\n",
              "      <th>4162</th>\n",
              "      <td>1</td>\n",
              "      <td>0</td>\n",
              "      <td>0</td>\n",
              "      <td>0</td>\n",
              "    </tr>\n",
              "    <tr>\n",
              "      <th>4163</th>\n",
              "      <td>1</td>\n",
              "      <td>0</td>\n",
              "      <td>0</td>\n",
              "      <td>0</td>\n",
              "    </tr>\n",
              "    <tr>\n",
              "      <th>4164</th>\n",
              "      <td>0</td>\n",
              "      <td>1</td>\n",
              "      <td>0</td>\n",
              "      <td>0</td>\n",
              "    </tr>\n",
              "  </tbody>\n",
              "</table>\n",
              "<p>4165 rows × 4 columns</p>\n",
              "</div>\n",
              "      <button class=\"colab-df-convert\" onclick=\"convertToInteractive('df-f60ec93a-49d5-4955-8990-3e3247b2ef3c')\"\n",
              "              title=\"Convert this dataframe to an interactive table.\"\n",
              "              style=\"display:none;\">\n",
              "        \n",
              "  <svg xmlns=\"http://www.w3.org/2000/svg\" height=\"24px\"viewBox=\"0 0 24 24\"\n",
              "       width=\"24px\">\n",
              "    <path d=\"M0 0h24v24H0V0z\" fill=\"none\"/>\n",
              "    <path d=\"M18.56 5.44l.94 2.06.94-2.06 2.06-.94-2.06-.94-.94-2.06-.94 2.06-2.06.94zm-11 1L8.5 8.5l.94-2.06 2.06-.94-2.06-.94L8.5 2.5l-.94 2.06-2.06.94zm10 10l.94 2.06.94-2.06 2.06-.94-2.06-.94-.94-2.06-.94 2.06-2.06.94z\"/><path d=\"M17.41 7.96l-1.37-1.37c-.4-.4-.92-.59-1.43-.59-.52 0-1.04.2-1.43.59L10.3 9.45l-7.72 7.72c-.78.78-.78 2.05 0 2.83L4 21.41c.39.39.9.59 1.41.59.51 0 1.02-.2 1.41-.59l7.78-7.78 2.81-2.81c.8-.78.8-2.07 0-2.86zM5.41 20L4 18.59l7.72-7.72 1.47 1.35L5.41 20z\"/>\n",
              "  </svg>\n",
              "      </button>\n",
              "      \n",
              "  <style>\n",
              "    .colab-df-container {\n",
              "      display:flex;\n",
              "      flex-wrap:wrap;\n",
              "      gap: 12px;\n",
              "    }\n",
              "\n",
              "    .colab-df-convert {\n",
              "      background-color: #E8F0FE;\n",
              "      border: none;\n",
              "      border-radius: 50%;\n",
              "      cursor: pointer;\n",
              "      display: none;\n",
              "      fill: #1967D2;\n",
              "      height: 32px;\n",
              "      padding: 0 0 0 0;\n",
              "      width: 32px;\n",
              "    }\n",
              "\n",
              "    .colab-df-convert:hover {\n",
              "      background-color: #E2EBFA;\n",
              "      box-shadow: 0px 1px 2px rgba(60, 64, 67, 0.3), 0px 1px 3px 1px rgba(60, 64, 67, 0.15);\n",
              "      fill: #174EA6;\n",
              "    }\n",
              "\n",
              "    [theme=dark] .colab-df-convert {\n",
              "      background-color: #3B4455;\n",
              "      fill: #D2E3FC;\n",
              "    }\n",
              "\n",
              "    [theme=dark] .colab-df-convert:hover {\n",
              "      background-color: #434B5C;\n",
              "      box-shadow: 0px 1px 3px 1px rgba(0, 0, 0, 0.15);\n",
              "      filter: drop-shadow(0px 1px 2px rgba(0, 0, 0, 0.3));\n",
              "      fill: #FFFFFF;\n",
              "    }\n",
              "  </style>\n",
              "\n",
              "      <script>\n",
              "        const buttonEl =\n",
              "          document.querySelector('#df-f60ec93a-49d5-4955-8990-3e3247b2ef3c button.colab-df-convert');\n",
              "        buttonEl.style.display =\n",
              "          google.colab.kernel.accessAllowed ? 'block' : 'none';\n",
              "\n",
              "        async function convertToInteractive(key) {\n",
              "          const element = document.querySelector('#df-f60ec93a-49d5-4955-8990-3e3247b2ef3c');\n",
              "          const dataTable =\n",
              "            await google.colab.kernel.invokeFunction('convertToInteractive',\n",
              "                                                     [key], {});\n",
              "          if (!dataTable) return;\n",
              "\n",
              "          const docLinkHtml = 'Like what you see? Visit the ' +\n",
              "            '<a target=\"_blank\" href=https://colab.research.google.com/notebooks/data_table.ipynb>data table notebook</a>'\n",
              "            + ' to learn more about interactive tables.';\n",
              "          element.innerHTML = '';\n",
              "          dataTable['output_type'] = 'display_data';\n",
              "          await google.colab.output.renderOutput(dataTable, element);\n",
              "          const docLink = document.createElement('div');\n",
              "          docLink.innerHTML = docLinkHtml;\n",
              "          element.appendChild(docLink);\n",
              "        }\n",
              "      </script>\n",
              "    </div>\n",
              "  </div>\n",
              "  "
            ]
          },
          "metadata": {},
          "execution_count": 10
        }
      ]
    },
    {
      "cell_type": "code",
      "source": [
        "y=y.drop('cubic', axis=1)"
      ],
      "metadata": {
        "id": "rIu9enV3dQOU"
      },
      "execution_count": 11,
      "outputs": []
    },
    {
      "cell_type": "code",
      "source": [
        "y"
      ],
      "metadata": {
        "colab": {
          "base_uri": "https://localhost:8080/",
          "height": 424
        },
        "id": "C-MYO6D9dmcM",
        "outputId": "06a843de-c34d-46cc-c7a0-6faa7471e6e4"
      },
      "execution_count": 12,
      "outputs": [
        {
          "output_type": "execute_result",
          "data": {
            "text/plain": [
              "      orthorhombic  rhombohedral  tetragonal\n",
              "0                0             0           0\n",
              "1                0             0           0\n",
              "2                0             0           0\n",
              "3                1             0           0\n",
              "4                0             0           0\n",
              "...            ...           ...         ...\n",
              "4160             1             0           0\n",
              "4161             0             0           0\n",
              "4162             0             0           0\n",
              "4163             0             0           0\n",
              "4164             1             0           0\n",
              "\n",
              "[4165 rows x 3 columns]"
            ],
            "text/html": [
              "\n",
              "  <div id=\"df-56fc4787-34f0-4362-9867-9dd753458c83\">\n",
              "    <div class=\"colab-df-container\">\n",
              "      <div>\n",
              "<style scoped>\n",
              "    .dataframe tbody tr th:only-of-type {\n",
              "        vertical-align: middle;\n",
              "    }\n",
              "\n",
              "    .dataframe tbody tr th {\n",
              "        vertical-align: top;\n",
              "    }\n",
              "\n",
              "    .dataframe thead th {\n",
              "        text-align: right;\n",
              "    }\n",
              "</style>\n",
              "<table border=\"1\" class=\"dataframe\">\n",
              "  <thead>\n",
              "    <tr style=\"text-align: right;\">\n",
              "      <th></th>\n",
              "      <th>orthorhombic</th>\n",
              "      <th>rhombohedral</th>\n",
              "      <th>tetragonal</th>\n",
              "    </tr>\n",
              "  </thead>\n",
              "  <tbody>\n",
              "    <tr>\n",
              "      <th>0</th>\n",
              "      <td>0</td>\n",
              "      <td>0</td>\n",
              "      <td>0</td>\n",
              "    </tr>\n",
              "    <tr>\n",
              "      <th>1</th>\n",
              "      <td>0</td>\n",
              "      <td>0</td>\n",
              "      <td>0</td>\n",
              "    </tr>\n",
              "    <tr>\n",
              "      <th>2</th>\n",
              "      <td>0</td>\n",
              "      <td>0</td>\n",
              "      <td>0</td>\n",
              "    </tr>\n",
              "    <tr>\n",
              "      <th>3</th>\n",
              "      <td>1</td>\n",
              "      <td>0</td>\n",
              "      <td>0</td>\n",
              "    </tr>\n",
              "    <tr>\n",
              "      <th>4</th>\n",
              "      <td>0</td>\n",
              "      <td>0</td>\n",
              "      <td>0</td>\n",
              "    </tr>\n",
              "    <tr>\n",
              "      <th>...</th>\n",
              "      <td>...</td>\n",
              "      <td>...</td>\n",
              "      <td>...</td>\n",
              "    </tr>\n",
              "    <tr>\n",
              "      <th>4160</th>\n",
              "      <td>1</td>\n",
              "      <td>0</td>\n",
              "      <td>0</td>\n",
              "    </tr>\n",
              "    <tr>\n",
              "      <th>4161</th>\n",
              "      <td>0</td>\n",
              "      <td>0</td>\n",
              "      <td>0</td>\n",
              "    </tr>\n",
              "    <tr>\n",
              "      <th>4162</th>\n",
              "      <td>0</td>\n",
              "      <td>0</td>\n",
              "      <td>0</td>\n",
              "    </tr>\n",
              "    <tr>\n",
              "      <th>4163</th>\n",
              "      <td>0</td>\n",
              "      <td>0</td>\n",
              "      <td>0</td>\n",
              "    </tr>\n",
              "    <tr>\n",
              "      <th>4164</th>\n",
              "      <td>1</td>\n",
              "      <td>0</td>\n",
              "      <td>0</td>\n",
              "    </tr>\n",
              "  </tbody>\n",
              "</table>\n",
              "<p>4165 rows × 3 columns</p>\n",
              "</div>\n",
              "      <button class=\"colab-df-convert\" onclick=\"convertToInteractive('df-56fc4787-34f0-4362-9867-9dd753458c83')\"\n",
              "              title=\"Convert this dataframe to an interactive table.\"\n",
              "              style=\"display:none;\">\n",
              "        \n",
              "  <svg xmlns=\"http://www.w3.org/2000/svg\" height=\"24px\"viewBox=\"0 0 24 24\"\n",
              "       width=\"24px\">\n",
              "    <path d=\"M0 0h24v24H0V0z\" fill=\"none\"/>\n",
              "    <path d=\"M18.56 5.44l.94 2.06.94-2.06 2.06-.94-2.06-.94-.94-2.06-.94 2.06-2.06.94zm-11 1L8.5 8.5l.94-2.06 2.06-.94-2.06-.94L8.5 2.5l-.94 2.06-2.06.94zm10 10l.94 2.06.94-2.06 2.06-.94-2.06-.94-.94-2.06-.94 2.06-2.06.94z\"/><path d=\"M17.41 7.96l-1.37-1.37c-.4-.4-.92-.59-1.43-.59-.52 0-1.04.2-1.43.59L10.3 9.45l-7.72 7.72c-.78.78-.78 2.05 0 2.83L4 21.41c.39.39.9.59 1.41.59.51 0 1.02-.2 1.41-.59l7.78-7.78 2.81-2.81c.8-.78.8-2.07 0-2.86zM5.41 20L4 18.59l7.72-7.72 1.47 1.35L5.41 20z\"/>\n",
              "  </svg>\n",
              "      </button>\n",
              "      \n",
              "  <style>\n",
              "    .colab-df-container {\n",
              "      display:flex;\n",
              "      flex-wrap:wrap;\n",
              "      gap: 12px;\n",
              "    }\n",
              "\n",
              "    .colab-df-convert {\n",
              "      background-color: #E8F0FE;\n",
              "      border: none;\n",
              "      border-radius: 50%;\n",
              "      cursor: pointer;\n",
              "      display: none;\n",
              "      fill: #1967D2;\n",
              "      height: 32px;\n",
              "      padding: 0 0 0 0;\n",
              "      width: 32px;\n",
              "    }\n",
              "\n",
              "    .colab-df-convert:hover {\n",
              "      background-color: #E2EBFA;\n",
              "      box-shadow: 0px 1px 2px rgba(60, 64, 67, 0.3), 0px 1px 3px 1px rgba(60, 64, 67, 0.15);\n",
              "      fill: #174EA6;\n",
              "    }\n",
              "\n",
              "    [theme=dark] .colab-df-convert {\n",
              "      background-color: #3B4455;\n",
              "      fill: #D2E3FC;\n",
              "    }\n",
              "\n",
              "    [theme=dark] .colab-df-convert:hover {\n",
              "      background-color: #434B5C;\n",
              "      box-shadow: 0px 1px 3px 1px rgba(0, 0, 0, 0.15);\n",
              "      filter: drop-shadow(0px 1px 2px rgba(0, 0, 0, 0.3));\n",
              "      fill: #FFFFFF;\n",
              "    }\n",
              "  </style>\n",
              "\n",
              "      <script>\n",
              "        const buttonEl =\n",
              "          document.querySelector('#df-56fc4787-34f0-4362-9867-9dd753458c83 button.colab-df-convert');\n",
              "        buttonEl.style.display =\n",
              "          google.colab.kernel.accessAllowed ? 'block' : 'none';\n",
              "\n",
              "        async function convertToInteractive(key) {\n",
              "          const element = document.querySelector('#df-56fc4787-34f0-4362-9867-9dd753458c83');\n",
              "          const dataTable =\n",
              "            await google.colab.kernel.invokeFunction('convertToInteractive',\n",
              "                                                     [key], {});\n",
              "          if (!dataTable) return;\n",
              "\n",
              "          const docLinkHtml = 'Like what you see? Visit the ' +\n",
              "            '<a target=\"_blank\" href=https://colab.research.google.com/notebooks/data_table.ipynb>data table notebook</a>'\n",
              "            + ' to learn more about interactive tables.';\n",
              "          element.innerHTML = '';\n",
              "          dataTable['output_type'] = 'display_data';\n",
              "          await google.colab.output.renderOutput(dataTable, element);\n",
              "          const docLink = document.createElement('div');\n",
              "          docLink.innerHTML = docLinkHtml;\n",
              "          element.appendChild(docLink);\n",
              "        }\n",
              "      </script>\n",
              "    </div>\n",
              "  </div>\n",
              "  "
            ]
          },
          "metadata": {},
          "execution_count": 12
        }
      ]
    },
    {
      "cell_type": "code",
      "source": [
        "from sklearn.model_selection import train_test_split\n",
        "\n",
        "x_train,x_test,y_train, y_test = train_test_split(x,y,test_size=0.3, random_state=0)"
      ],
      "metadata": {
        "id": "5S7FnwlMdnGy"
      },
      "execution_count": 13,
      "outputs": []
    },
    {
      "cell_type": "code",
      "source": [
        "print(y_train.shape)\n",
        "print(x_train.shape)\n",
        "print(x_test.shape)\n",
        "print(y_test.shape)"
      ],
      "metadata": {
        "colab": {
          "base_uri": "https://localhost:8080/"
        },
        "id": "20kAopNXnHVK",
        "outputId": "5895c4ba-faa1-4ee5-ae82-4154d54f69a2"
      },
      "execution_count": 17,
      "outputs": [
        {
          "output_type": "stream",
          "name": "stdout",
          "text": [
            "(2915, 3)\n",
            "(2915, 13)\n",
            "(1250, 13)\n",
            "(1250, 3)\n"
          ]
        }
      ]
    },
    {
      "cell_type": "code",
      "source": [
        "from sklearn.preprocessing import StandardScaler\n",
        "sc= StandardScaler()\n",
        "x_train= sc.fit_transform(x_train)\n",
        "x_test= sc.transform(x_test)"
      ],
      "metadata": {
        "id": "rU3YfYs8nQYG"
      },
      "execution_count": 18,
      "outputs": []
    },
    {
      "cell_type": "code",
      "source": [
        "from sklearn.decomposition import PCA\n",
        "pca= PCA()\n",
        "pca.fit(x_train)"
      ],
      "metadata": {
        "colab": {
          "base_uri": "https://localhost:8080/"
        },
        "id": "TrD1rsEAnWjx",
        "outputId": "a7aa6285-034e-4f1d-97f9-ed270a7d5370"
      },
      "execution_count": 19,
      "outputs": [
        {
          "output_type": "execute_result",
          "data": {
            "text/plain": [
              "PCA()"
            ]
          },
          "metadata": {},
          "execution_count": 19
        }
      ]
    },
    {
      "cell_type": "code",
      "source": [
        "pca.n_components_"
      ],
      "metadata": {
        "colab": {
          "base_uri": "https://localhost:8080/"
        },
        "id": "8F-HZLSInXt4",
        "outputId": "07461497-ef9d-466e-bcab-e7062a980d97"
      },
      "execution_count": 20,
      "outputs": [
        {
          "output_type": "execute_result",
          "data": {
            "text/plain": [
              "13"
            ]
          },
          "metadata": {},
          "execution_count": 20
        }
      ]
    },
    {
      "cell_type": "code",
      "source": [
        "pca.transform(x_train)\n",
        "pca.transform(x_test)"
      ],
      "metadata": {
        "colab": {
          "base_uri": "https://localhost:8080/"
        },
        "id": "gROet3_znf_J",
        "outputId": "727f3e27-7f52-4d80-87cf-ab98a2c74c05"
      },
      "execution_count": 21,
      "outputs": [
        {
          "output_type": "execute_result",
          "data": {
            "text/plain": [
              "array([[-8.97096480e-01, -2.32778723e+00, -1.12195111e+00, ...,\n",
              "        -1.50768408e-01,  7.31895988e-02,  8.01985340e-06],\n",
              "       [ 1.23892334e+00,  1.24065345e+00, -8.19234016e-01, ...,\n",
              "        -1.21496183e-01, -5.39540805e-02, -3.67281692e-06],\n",
              "       [ 1.08124954e+00, -1.83989643e+00,  2.02322710e+00, ...,\n",
              "         6.08048094e-02, -6.53261977e-02, -1.22711008e-06],\n",
              "       ...,\n",
              "       [-2.04495506e+00, -8.25901306e-01,  6.29830684e-01, ...,\n",
              "         1.76457838e-03,  4.88347383e-02, -2.38973948e-05],\n",
              "       [-2.09645502e+00,  3.61241212e-01,  6.16994542e-01, ...,\n",
              "         4.33703364e-02, -1.04847755e-02, -1.81934747e-05],\n",
              "       [ 1.59576143e+00, -8.72729685e-01, -7.93781516e-01, ...,\n",
              "        -4.69807280e-02,  1.50633700e-02,  1.36772070e-05]])"
            ]
          },
          "metadata": {},
          "execution_count": 21
        }
      ]
    },
    {
      "cell_type": "code",
      "source": [
        "from sklearn.tree import DecisionTreeClassifier\n",
        "from sklearn import tree\n",
        "classifier= DecisionTreeClassifier()\n",
        "classifier.fit(x_train, y_train)"
      ],
      "metadata": {
        "colab": {
          "base_uri": "https://localhost:8080/"
        },
        "id": "fbil9ME2njoX",
        "outputId": "dcff876f-2ef5-4c14-f440-2b3c60b95c39"
      },
      "execution_count": 22,
      "outputs": [
        {
          "output_type": "execute_result",
          "data": {
            "text/plain": [
              "DecisionTreeClassifier()"
            ]
          },
          "metadata": {},
          "execution_count": 22
        }
      ]
    },
    {
      "cell_type": "code",
      "source": [
        "pred=classifier.predict(x_test)\n",
        "pred"
      ],
      "metadata": {
        "colab": {
          "base_uri": "https://localhost:8080/"
        },
        "id": "955Iepzwnobi",
        "outputId": "6c303630-8332-4c5e-d986-84a8618bb119"
      },
      "execution_count": 23,
      "outputs": [
        {
          "output_type": "execute_result",
          "data": {
            "text/plain": [
              "array([[0, 0, 0],\n",
              "       [0, 0, 0],\n",
              "       [1, 0, 0],\n",
              "       ...,\n",
              "       [0, 0, 0],\n",
              "       [0, 0, 0],\n",
              "       [1, 0, 0]], dtype=uint8)"
            ]
          },
          "metadata": {},
          "execution_count": 23
        }
      ]
    },
    {
      "cell_type": "code",
      "source": [
        "classifier.score(x_test, y_test)"
      ],
      "metadata": {
        "colab": {
          "base_uri": "https://localhost:8080/"
        },
        "id": "OKDE2K6AoB06",
        "outputId": "b9d0225c-a9cf-445c-b790-02f09cad6d79"
      },
      "execution_count": 24,
      "outputs": [
        {
          "output_type": "execute_result",
          "data": {
            "text/plain": [
              "0.7256"
            ]
          },
          "metadata": {},
          "execution_count": 24
        }
      ]
    },
    {
      "cell_type": "code",
      "source": [
        "from sklearn.metrics import accuracy_score\n",
        "accuracy_score(y_test,pred)"
      ],
      "metadata": {
        "id": "QrXFjvbJpCgv"
      },
      "execution_count": null,
      "outputs": []
    },
    {
      "cell_type": "code",
      "source": [
        "from sklearn.metrics import multilabel_confusion_matrix\n",
        "cm= multilabel_confusion_matrix(y_test, pred)\n",
        "print(cm)"
      ],
      "metadata": {
        "colab": {
          "base_uri": "https://localhost:8080/"
        },
        "id": "abJpScbQpGCL",
        "outputId": "60df9e84-5c76-4c2c-8837-828e11504cec"
      },
      "execution_count": 26,
      "outputs": [
        {
          "output_type": "stream",
          "name": "stdout",
          "text": [
            "[[[ 682  147]\n",
            "  [ 134  287]]\n",
            "\n",
            " [[1110   55]\n",
            "  [  59   26]]\n",
            "\n",
            " [[1202   11]\n",
            "  [  20   17]]]\n"
          ]
        }
      ]
    },
    {
      "cell_type": "code",
      "source": [
        "from sklearn.metrics import classification_report\n",
        "clr=classification_report(y_test, pred)\n",
        "print(clr)"
      ],
      "metadata": {
        "colab": {
          "base_uri": "https://localhost:8080/"
        },
        "id": "KS8vYSGjpK3v",
        "outputId": "f6e72ed8-de3b-4cce-888e-ecae87b126d4"
      },
      "execution_count": 27,
      "outputs": [
        {
          "output_type": "stream",
          "name": "stdout",
          "text": [
            "              precision    recall  f1-score   support\n",
            "\n",
            "           0       0.66      0.68      0.67       421\n",
            "           1       0.32      0.31      0.31        85\n",
            "           2       0.61      0.46      0.52        37\n",
            "\n",
            "   micro avg       0.61      0.61      0.61       543\n",
            "   macro avg       0.53      0.48      0.50       543\n",
            "weighted avg       0.60      0.61      0.61       543\n",
            " samples avg       0.26      0.26      0.26       543\n",
            "\n"
          ]
        },
        {
          "output_type": "stream",
          "name": "stderr",
          "text": [
            "/usr/local/lib/python3.7/dist-packages/sklearn/metrics/_classification.py:1318: UndefinedMetricWarning: Precision and F-score are ill-defined and being set to 0.0 in samples with no predicted labels. Use `zero_division` parameter to control this behavior.\n",
            "  _warn_prf(average, modifier, msg_start, len(result))\n",
            "/usr/local/lib/python3.7/dist-packages/sklearn/metrics/_classification.py:1318: UndefinedMetricWarning: Recall and F-score are ill-defined and being set to 0.0 in samples with no true labels. Use `zero_division` parameter to control this behavior.\n",
            "  _warn_prf(average, modifier, msg_start, len(result))\n"
          ]
        }
      ]
    }
  ]
}
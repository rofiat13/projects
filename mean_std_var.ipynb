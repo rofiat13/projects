{
  "nbformat": 4,
  "nbformat_minor": 0,
  "metadata": {
    "colab": {
      "name": "mean_std_var.ipynb",
      "provenance": [],
      "authorship_tag": "ABX9TyO/MuASia9tO1UjcXkJsys7",
      "include_colab_link": true
    },
    "kernelspec": {
      "name": "python3",
      "display_name": "Python 3"
    },
    "language_info": {
      "name": "python"
    }
  },
  "cells": [
    {
      "cell_type": "markdown",
      "metadata": {
        "id": "view-in-github",
        "colab_type": "text"
      },
      "source": [
        "<a href=\"https://colab.research.google.com/github/rofiat13/projects/blob/main/mean_std_var.ipynb\" target=\"_parent\"><img src=\"https://colab.research.google.com/assets/colab-badge.svg\" alt=\"Open In Colab\"/></a>"
      ]
    },
    {
      "cell_type": "code",
      "execution_count": 1,
      "metadata": {
        "id": "Sj9H3FsQ2v1t"
      },
      "outputs": [],
      "source": [
        "import numpy as np\n",
        "\n",
        "def calculate(list):\n",
        "    \n",
        "\n",
        "    while True:\n",
        "        \n",
        "        try:\n",
        "            array = (np.array(list)).reshape(3,3)\n",
        "            calculations = {\n",
        "                'mean': [np.mean(array,axis=0),np.mean(array,axis=1),np.mean(array.flatten())],\n",
        "                'variance': [array.var(axis=0),array.var(axis=1),array.flatten().var()],\n",
        "                'standard deviation': [array.std(axis=0),array.std(axis=1),array.flatten().std()],\n",
        "                'min': [array.min(axis=0),array.min(axis=1),array.flatten().min()],\n",
        "                'max': [array.max(axis=0),array.max(axis=1),array.flatten().max()],\n",
        "                'sum': [array.sum(axis=0),array.sum(axis=1),array.flatten().sum()]\n",
        "            }\n",
        "            return calculations\n",
        "        except ValueError:\n",
        "            print('List must contain nine numbers')\n",
        "            break"
      ]
    }
  ]
}
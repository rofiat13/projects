{
  "nbformat": 4,
  "nbformat_minor": 0,
  "metadata": {
    "colab": {
      "name": "predicting the price of houses.ipynb",
      "provenance": [],
      "collapsed_sections": [],
      "authorship_tag": "ABX9TyOlA4lxfHOTMH71gV+4NpjJ",
      "include_colab_link": true
    },
    "kernelspec": {
      "display_name": "Python 3",
      "name": "python3"
    }
  },
  "cells": [
    {
      "cell_type": "markdown",
      "metadata": {
        "id": "view-in-github",
        "colab_type": "text"
      },
      "source": [
        "<a href=\"https://colab.research.google.com/github/rofiat13/projects/blob/main/predicting_the_price_of_houses.ipynb\" target=\"_parent\"><img src=\"https://colab.research.google.com/assets/colab-badge.svg\" alt=\"Open In Colab\"/></a>"
      ]
    },
    {
      "cell_type": "code",
      "metadata": {
        "id": "m0tFjyC0cvON"
      },
      "source": [
        " import pandas as pd\n",
        " import numpy as np\n",
        " import matplotlib.pyplot as plt"
      ],
      "execution_count": null,
      "outputs": []
    },
    {
      "cell_type": "code",
      "metadata": {
        "id": "0biGUL5OICUe"
      },
      "source": [
        "df=pd.read_csv('House_Price.csv')"
      ],
      "execution_count": null,
      "outputs": []
    },
    {
      "cell_type": "code",
      "metadata": {
        "id": "XepL-gg4Iax1",
        "colab": {
          "base_uri": "https://localhost:8080/",
          "height": 224
        },
        "outputId": "27d67f18-6306-4146-ab41-550858a7fcdc"
      },
      "source": [
        "df.head()"
      ],
      "execution_count": null,
      "outputs": [
        {
          "output_type": "execute_result",
          "data": {
            "text/html": [
              "<div>\n",
              "<style scoped>\n",
              "    .dataframe tbody tr th:only-of-type {\n",
              "        vertical-align: middle;\n",
              "    }\n",
              "\n",
              "    .dataframe tbody tr th {\n",
              "        vertical-align: top;\n",
              "    }\n",
              "\n",
              "    .dataframe thead th {\n",
              "        text-align: right;\n",
              "    }\n",
              "</style>\n",
              "<table border=\"1\" class=\"dataframe\">\n",
              "  <thead>\n",
              "    <tr style=\"text-align: right;\">\n",
              "      <th></th>\n",
              "      <th>price</th>\n",
              "      <th>crime_rate</th>\n",
              "      <th>resid_area</th>\n",
              "      <th>air_qual</th>\n",
              "      <th>room_num</th>\n",
              "      <th>age</th>\n",
              "      <th>dist1</th>\n",
              "      <th>dist2</th>\n",
              "      <th>dist3</th>\n",
              "      <th>dist4</th>\n",
              "      <th>teachers</th>\n",
              "      <th>poor_prop</th>\n",
              "      <th>airport</th>\n",
              "      <th>n_hos_beds</th>\n",
              "      <th>n_hot_rooms</th>\n",
              "      <th>waterbody</th>\n",
              "      <th>rainfall</th>\n",
              "      <th>bus_ter</th>\n",
              "      <th>parks</th>\n",
              "    </tr>\n",
              "  </thead>\n",
              "  <tbody>\n",
              "    <tr>\n",
              "      <th>0</th>\n",
              "      <td>24.0</td>\n",
              "      <td>0.00632</td>\n",
              "      <td>32.31</td>\n",
              "      <td>0.538</td>\n",
              "      <td>6.575</td>\n",
              "      <td>65.2</td>\n",
              "      <td>4.35</td>\n",
              "      <td>3.81</td>\n",
              "      <td>4.18</td>\n",
              "      <td>4.01</td>\n",
              "      <td>24.7</td>\n",
              "      <td>4.98</td>\n",
              "      <td>YES</td>\n",
              "      <td>5.480</td>\n",
              "      <td>11.1920</td>\n",
              "      <td>River</td>\n",
              "      <td>23</td>\n",
              "      <td>YES</td>\n",
              "      <td>0.049347</td>\n",
              "    </tr>\n",
              "    <tr>\n",
              "      <th>1</th>\n",
              "      <td>21.6</td>\n",
              "      <td>0.02731</td>\n",
              "      <td>37.07</td>\n",
              "      <td>0.469</td>\n",
              "      <td>6.421</td>\n",
              "      <td>78.9</td>\n",
              "      <td>4.99</td>\n",
              "      <td>4.70</td>\n",
              "      <td>5.12</td>\n",
              "      <td>5.06</td>\n",
              "      <td>22.2</td>\n",
              "      <td>9.14</td>\n",
              "      <td>NO</td>\n",
              "      <td>7.332</td>\n",
              "      <td>12.1728</td>\n",
              "      <td>Lake</td>\n",
              "      <td>42</td>\n",
              "      <td>YES</td>\n",
              "      <td>0.046146</td>\n",
              "    </tr>\n",
              "    <tr>\n",
              "      <th>2</th>\n",
              "      <td>34.7</td>\n",
              "      <td>0.02729</td>\n",
              "      <td>37.07</td>\n",
              "      <td>0.469</td>\n",
              "      <td>7.185</td>\n",
              "      <td>61.1</td>\n",
              "      <td>5.03</td>\n",
              "      <td>4.86</td>\n",
              "      <td>5.01</td>\n",
              "      <td>4.97</td>\n",
              "      <td>22.2</td>\n",
              "      <td>4.03</td>\n",
              "      <td>NO</td>\n",
              "      <td>7.394</td>\n",
              "      <td>101.1200</td>\n",
              "      <td>None</td>\n",
              "      <td>38</td>\n",
              "      <td>YES</td>\n",
              "      <td>0.045764</td>\n",
              "    </tr>\n",
              "    <tr>\n",
              "      <th>3</th>\n",
              "      <td>33.4</td>\n",
              "      <td>0.03237</td>\n",
              "      <td>32.18</td>\n",
              "      <td>0.458</td>\n",
              "      <td>6.998</td>\n",
              "      <td>45.8</td>\n",
              "      <td>6.21</td>\n",
              "      <td>5.93</td>\n",
              "      <td>6.16</td>\n",
              "      <td>5.96</td>\n",
              "      <td>21.3</td>\n",
              "      <td>2.94</td>\n",
              "      <td>YES</td>\n",
              "      <td>9.268</td>\n",
              "      <td>11.2672</td>\n",
              "      <td>Lake</td>\n",
              "      <td>45</td>\n",
              "      <td>YES</td>\n",
              "      <td>0.047151</td>\n",
              "    </tr>\n",
              "    <tr>\n",
              "      <th>4</th>\n",
              "      <td>36.2</td>\n",
              "      <td>0.06905</td>\n",
              "      <td>32.18</td>\n",
              "      <td>0.458</td>\n",
              "      <td>7.147</td>\n",
              "      <td>54.2</td>\n",
              "      <td>6.16</td>\n",
              "      <td>5.86</td>\n",
              "      <td>6.37</td>\n",
              "      <td>5.86</td>\n",
              "      <td>21.3</td>\n",
              "      <td>5.33</td>\n",
              "      <td>NO</td>\n",
              "      <td>8.824</td>\n",
              "      <td>11.2896</td>\n",
              "      <td>Lake</td>\n",
              "      <td>55</td>\n",
              "      <td>YES</td>\n",
              "      <td>0.039474</td>\n",
              "    </tr>\n",
              "  </tbody>\n",
              "</table>\n",
              "</div>"
            ],
            "text/plain": [
              "   price  crime_rate  resid_area  ...  rainfall  bus_ter     parks\n",
              "0   24.0     0.00632       32.31  ...        23      YES  0.049347\n",
              "1   21.6     0.02731       37.07  ...        42      YES  0.046146\n",
              "2   34.7     0.02729       37.07  ...        38      YES  0.045764\n",
              "3   33.4     0.03237       32.18  ...        45      YES  0.047151\n",
              "4   36.2     0.06905       32.18  ...        55      YES  0.039474\n",
              "\n",
              "[5 rows x 19 columns]"
            ]
          },
          "metadata": {
            "tags": []
          },
          "execution_count": 4
        }
      ]
    },
    {
      "cell_type": "code",
      "metadata": {
        "id": "0Y30XJuTMOb2",
        "colab": {
          "base_uri": "https://localhost:8080/",
          "height": 317
        },
        "outputId": "742a8a78-530d-4335-848f-312a939e8134"
      },
      "source": [
        "df.describe()"
      ],
      "execution_count": null,
      "outputs": [
        {
          "output_type": "execute_result",
          "data": {
            "text/html": [
              "<div>\n",
              "<style scoped>\n",
              "    .dataframe tbody tr th:only-of-type {\n",
              "        vertical-align: middle;\n",
              "    }\n",
              "\n",
              "    .dataframe tbody tr th {\n",
              "        vertical-align: top;\n",
              "    }\n",
              "\n",
              "    .dataframe thead th {\n",
              "        text-align: right;\n",
              "    }\n",
              "</style>\n",
              "<table border=\"1\" class=\"dataframe\">\n",
              "  <thead>\n",
              "    <tr style=\"text-align: right;\">\n",
              "      <th></th>\n",
              "      <th>price</th>\n",
              "      <th>crime_rate</th>\n",
              "      <th>resid_area</th>\n",
              "      <th>air_qual</th>\n",
              "      <th>room_num</th>\n",
              "      <th>age</th>\n",
              "      <th>dist1</th>\n",
              "      <th>dist2</th>\n",
              "      <th>dist3</th>\n",
              "      <th>dist4</th>\n",
              "      <th>teachers</th>\n",
              "      <th>poor_prop</th>\n",
              "      <th>n_hos_beds</th>\n",
              "      <th>n_hot_rooms</th>\n",
              "      <th>rainfall</th>\n",
              "      <th>parks</th>\n",
              "    </tr>\n",
              "  </thead>\n",
              "  <tbody>\n",
              "    <tr>\n",
              "      <th>count</th>\n",
              "      <td>506.000000</td>\n",
              "      <td>506.000000</td>\n",
              "      <td>506.000000</td>\n",
              "      <td>506.000000</td>\n",
              "      <td>506.000000</td>\n",
              "      <td>506.000000</td>\n",
              "      <td>506.000000</td>\n",
              "      <td>506.000000</td>\n",
              "      <td>506.000000</td>\n",
              "      <td>506.000000</td>\n",
              "      <td>506.000000</td>\n",
              "      <td>506.000000</td>\n",
              "      <td>498.000000</td>\n",
              "      <td>506.000000</td>\n",
              "      <td>506.000000</td>\n",
              "      <td>506.000000</td>\n",
              "    </tr>\n",
              "    <tr>\n",
              "      <th>mean</th>\n",
              "      <td>22.528854</td>\n",
              "      <td>3.613524</td>\n",
              "      <td>41.136779</td>\n",
              "      <td>0.554695</td>\n",
              "      <td>6.284634</td>\n",
              "      <td>68.574901</td>\n",
              "      <td>3.971996</td>\n",
              "      <td>3.628775</td>\n",
              "      <td>3.960672</td>\n",
              "      <td>3.618972</td>\n",
              "      <td>21.544466</td>\n",
              "      <td>12.653063</td>\n",
              "      <td>7.899767</td>\n",
              "      <td>13.041605</td>\n",
              "      <td>39.181818</td>\n",
              "      <td>0.054454</td>\n",
              "    </tr>\n",
              "    <tr>\n",
              "      <th>std</th>\n",
              "      <td>9.182176</td>\n",
              "      <td>8.601545</td>\n",
              "      <td>6.860353</td>\n",
              "      <td>0.115878</td>\n",
              "      <td>0.702617</td>\n",
              "      <td>28.148861</td>\n",
              "      <td>2.108532</td>\n",
              "      <td>2.108580</td>\n",
              "      <td>2.119797</td>\n",
              "      <td>2.099203</td>\n",
              "      <td>2.164946</td>\n",
              "      <td>7.141062</td>\n",
              "      <td>1.476683</td>\n",
              "      <td>5.238957</td>\n",
              "      <td>12.513697</td>\n",
              "      <td>0.010632</td>\n",
              "    </tr>\n",
              "    <tr>\n",
              "      <th>min</th>\n",
              "      <td>5.000000</td>\n",
              "      <td>0.006320</td>\n",
              "      <td>30.460000</td>\n",
              "      <td>0.385000</td>\n",
              "      <td>3.561000</td>\n",
              "      <td>2.900000</td>\n",
              "      <td>1.130000</td>\n",
              "      <td>0.920000</td>\n",
              "      <td>1.150000</td>\n",
              "      <td>0.730000</td>\n",
              "      <td>18.000000</td>\n",
              "      <td>1.730000</td>\n",
              "      <td>5.268000</td>\n",
              "      <td>10.057600</td>\n",
              "      <td>3.000000</td>\n",
              "      <td>0.033292</td>\n",
              "    </tr>\n",
              "    <tr>\n",
              "      <th>25%</th>\n",
              "      <td>17.025000</td>\n",
              "      <td>0.082045</td>\n",
              "      <td>35.190000</td>\n",
              "      <td>0.449000</td>\n",
              "      <td>5.885500</td>\n",
              "      <td>45.025000</td>\n",
              "      <td>2.270000</td>\n",
              "      <td>1.940000</td>\n",
              "      <td>2.232500</td>\n",
              "      <td>1.940000</td>\n",
              "      <td>19.800000</td>\n",
              "      <td>6.950000</td>\n",
              "      <td>6.634500</td>\n",
              "      <td>11.189800</td>\n",
              "      <td>28.000000</td>\n",
              "      <td>0.046464</td>\n",
              "    </tr>\n",
              "    <tr>\n",
              "      <th>50%</th>\n",
              "      <td>21.200000</td>\n",
              "      <td>0.256510</td>\n",
              "      <td>39.690000</td>\n",
              "      <td>0.538000</td>\n",
              "      <td>6.208500</td>\n",
              "      <td>77.500000</td>\n",
              "      <td>3.385000</td>\n",
              "      <td>3.010000</td>\n",
              "      <td>3.375000</td>\n",
              "      <td>3.070000</td>\n",
              "      <td>20.950000</td>\n",
              "      <td>11.360000</td>\n",
              "      <td>7.999000</td>\n",
              "      <td>12.720000</td>\n",
              "      <td>39.000000</td>\n",
              "      <td>0.053507</td>\n",
              "    </tr>\n",
              "    <tr>\n",
              "      <th>75%</th>\n",
              "      <td>25.000000</td>\n",
              "      <td>3.677082</td>\n",
              "      <td>48.100000</td>\n",
              "      <td>0.624000</td>\n",
              "      <td>6.623500</td>\n",
              "      <td>94.075000</td>\n",
              "      <td>5.367500</td>\n",
              "      <td>4.992500</td>\n",
              "      <td>5.407500</td>\n",
              "      <td>4.985000</td>\n",
              "      <td>22.600000</td>\n",
              "      <td>16.955000</td>\n",
              "      <td>9.088000</td>\n",
              "      <td>14.170800</td>\n",
              "      <td>50.000000</td>\n",
              "      <td>0.061397</td>\n",
              "    </tr>\n",
              "    <tr>\n",
              "      <th>max</th>\n",
              "      <td>50.000000</td>\n",
              "      <td>88.976200</td>\n",
              "      <td>57.740000</td>\n",
              "      <td>0.871000</td>\n",
              "      <td>8.780000</td>\n",
              "      <td>100.000000</td>\n",
              "      <td>12.320000</td>\n",
              "      <td>11.930000</td>\n",
              "      <td>12.320000</td>\n",
              "      <td>11.940000</td>\n",
              "      <td>27.400000</td>\n",
              "      <td>37.970000</td>\n",
              "      <td>10.876000</td>\n",
              "      <td>101.120000</td>\n",
              "      <td>60.000000</td>\n",
              "      <td>0.086711</td>\n",
              "    </tr>\n",
              "  </tbody>\n",
              "</table>\n",
              "</div>"
            ],
            "text/plain": [
              "            price  crime_rate  resid_area  ...  n_hot_rooms    rainfall       parks\n",
              "count  506.000000  506.000000  506.000000  ...   506.000000  506.000000  506.000000\n",
              "mean    22.528854    3.613524   41.136779  ...    13.041605   39.181818    0.054454\n",
              "std      9.182176    8.601545    6.860353  ...     5.238957   12.513697    0.010632\n",
              "min      5.000000    0.006320   30.460000  ...    10.057600    3.000000    0.033292\n",
              "25%     17.025000    0.082045   35.190000  ...    11.189800   28.000000    0.046464\n",
              "50%     21.200000    0.256510   39.690000  ...    12.720000   39.000000    0.053507\n",
              "75%     25.000000    3.677082   48.100000  ...    14.170800   50.000000    0.061397\n",
              "max     50.000000   88.976200   57.740000  ...   101.120000   60.000000    0.086711\n",
              "\n",
              "[8 rows x 16 columns]"
            ]
          },
          "metadata": {
            "tags": []
          },
          "execution_count": 5
        }
      ]
    },
    {
      "cell_type": "code",
      "metadata": {
        "id": "k4If7Yf8IfPd",
        "colab": {
          "base_uri": "https://localhost:8080/"
        },
        "outputId": "68008b24-eeeb-4eef-e05b-4cb8990fea7f"
      },
      "source": [
        "df.shape"
      ],
      "execution_count": null,
      "outputs": [
        {
          "output_type": "execute_result",
          "data": {
            "text/plain": [
              "(506, 19)"
            ]
          },
          "metadata": {
            "tags": []
          },
          "execution_count": 6
        }
      ]
    },
    {
      "cell_type": "code",
      "metadata": {
        "id": "ShBdwwGSI623"
      },
      "source": [
        "x=df.iloc[:,1:]\n",
        "y=df['price']"
      ],
      "execution_count": null,
      "outputs": []
    },
    {
      "cell_type": "code",
      "metadata": {
        "id": "iBbSBHWbJQli",
        "colab": {
          "base_uri": "https://localhost:8080/",
          "height": 224
        },
        "outputId": "5b2da98a-d6c8-4145-a362-efeaf60cfd26"
      },
      "source": [
        "x.head()"
      ],
      "execution_count": null,
      "outputs": [
        {
          "output_type": "execute_result",
          "data": {
            "text/html": [
              "<div>\n",
              "<style scoped>\n",
              "    .dataframe tbody tr th:only-of-type {\n",
              "        vertical-align: middle;\n",
              "    }\n",
              "\n",
              "    .dataframe tbody tr th {\n",
              "        vertical-align: top;\n",
              "    }\n",
              "\n",
              "    .dataframe thead th {\n",
              "        text-align: right;\n",
              "    }\n",
              "</style>\n",
              "<table border=\"1\" class=\"dataframe\">\n",
              "  <thead>\n",
              "    <tr style=\"text-align: right;\">\n",
              "      <th></th>\n",
              "      <th>crime_rate</th>\n",
              "      <th>resid_area</th>\n",
              "      <th>air_qual</th>\n",
              "      <th>room_num</th>\n",
              "      <th>age</th>\n",
              "      <th>dist1</th>\n",
              "      <th>dist2</th>\n",
              "      <th>dist3</th>\n",
              "      <th>dist4</th>\n",
              "      <th>teachers</th>\n",
              "      <th>poor_prop</th>\n",
              "      <th>airport</th>\n",
              "      <th>n_hos_beds</th>\n",
              "      <th>n_hot_rooms</th>\n",
              "      <th>waterbody</th>\n",
              "      <th>rainfall</th>\n",
              "      <th>bus_ter</th>\n",
              "      <th>parks</th>\n",
              "    </tr>\n",
              "  </thead>\n",
              "  <tbody>\n",
              "    <tr>\n",
              "      <th>0</th>\n",
              "      <td>0.00632</td>\n",
              "      <td>32.31</td>\n",
              "      <td>0.538</td>\n",
              "      <td>6.575</td>\n",
              "      <td>65.2</td>\n",
              "      <td>4.35</td>\n",
              "      <td>3.81</td>\n",
              "      <td>4.18</td>\n",
              "      <td>4.01</td>\n",
              "      <td>24.7</td>\n",
              "      <td>4.98</td>\n",
              "      <td>YES</td>\n",
              "      <td>5.480</td>\n",
              "      <td>11.1920</td>\n",
              "      <td>River</td>\n",
              "      <td>23</td>\n",
              "      <td>YES</td>\n",
              "      <td>0.049347</td>\n",
              "    </tr>\n",
              "    <tr>\n",
              "      <th>1</th>\n",
              "      <td>0.02731</td>\n",
              "      <td>37.07</td>\n",
              "      <td>0.469</td>\n",
              "      <td>6.421</td>\n",
              "      <td>78.9</td>\n",
              "      <td>4.99</td>\n",
              "      <td>4.70</td>\n",
              "      <td>5.12</td>\n",
              "      <td>5.06</td>\n",
              "      <td>22.2</td>\n",
              "      <td>9.14</td>\n",
              "      <td>NO</td>\n",
              "      <td>7.332</td>\n",
              "      <td>12.1728</td>\n",
              "      <td>Lake</td>\n",
              "      <td>42</td>\n",
              "      <td>YES</td>\n",
              "      <td>0.046146</td>\n",
              "    </tr>\n",
              "    <tr>\n",
              "      <th>2</th>\n",
              "      <td>0.02729</td>\n",
              "      <td>37.07</td>\n",
              "      <td>0.469</td>\n",
              "      <td>7.185</td>\n",
              "      <td>61.1</td>\n",
              "      <td>5.03</td>\n",
              "      <td>4.86</td>\n",
              "      <td>5.01</td>\n",
              "      <td>4.97</td>\n",
              "      <td>22.2</td>\n",
              "      <td>4.03</td>\n",
              "      <td>NO</td>\n",
              "      <td>7.394</td>\n",
              "      <td>101.1200</td>\n",
              "      <td>None</td>\n",
              "      <td>38</td>\n",
              "      <td>YES</td>\n",
              "      <td>0.045764</td>\n",
              "    </tr>\n",
              "    <tr>\n",
              "      <th>3</th>\n",
              "      <td>0.03237</td>\n",
              "      <td>32.18</td>\n",
              "      <td>0.458</td>\n",
              "      <td>6.998</td>\n",
              "      <td>45.8</td>\n",
              "      <td>6.21</td>\n",
              "      <td>5.93</td>\n",
              "      <td>6.16</td>\n",
              "      <td>5.96</td>\n",
              "      <td>21.3</td>\n",
              "      <td>2.94</td>\n",
              "      <td>YES</td>\n",
              "      <td>9.268</td>\n",
              "      <td>11.2672</td>\n",
              "      <td>Lake</td>\n",
              "      <td>45</td>\n",
              "      <td>YES</td>\n",
              "      <td>0.047151</td>\n",
              "    </tr>\n",
              "    <tr>\n",
              "      <th>4</th>\n",
              "      <td>0.06905</td>\n",
              "      <td>32.18</td>\n",
              "      <td>0.458</td>\n",
              "      <td>7.147</td>\n",
              "      <td>54.2</td>\n",
              "      <td>6.16</td>\n",
              "      <td>5.86</td>\n",
              "      <td>6.37</td>\n",
              "      <td>5.86</td>\n",
              "      <td>21.3</td>\n",
              "      <td>5.33</td>\n",
              "      <td>NO</td>\n",
              "      <td>8.824</td>\n",
              "      <td>11.2896</td>\n",
              "      <td>Lake</td>\n",
              "      <td>55</td>\n",
              "      <td>YES</td>\n",
              "      <td>0.039474</td>\n",
              "    </tr>\n",
              "  </tbody>\n",
              "</table>\n",
              "</div>"
            ],
            "text/plain": [
              "   crime_rate  resid_area  air_qual  ...  rainfall  bus_ter     parks\n",
              "0     0.00632       32.31     0.538  ...        23      YES  0.049347\n",
              "1     0.02731       37.07     0.469  ...        42      YES  0.046146\n",
              "2     0.02729       37.07     0.469  ...        38      YES  0.045764\n",
              "3     0.03237       32.18     0.458  ...        45      YES  0.047151\n",
              "4     0.06905       32.18     0.458  ...        55      YES  0.039474\n",
              "\n",
              "[5 rows x 18 columns]"
            ]
          },
          "metadata": {
            "tags": []
          },
          "execution_count": 9
        }
      ]
    },
    {
      "cell_type": "code",
      "metadata": {
        "id": "MQVnZpQSJjY9",
        "colab": {
          "base_uri": "https://localhost:8080/"
        },
        "outputId": "7dcd6153-0d19-4467-c2a6-9cc8de33c296"
      },
      "source": [
        "print(x.shape)\n",
        "print(y.shape)"
      ],
      "execution_count": null,
      "outputs": [
        {
          "output_type": "stream",
          "text": [
            "(506, 18)\n",
            "(506,)\n"
          ],
          "name": "stdout"
        }
      ]
    },
    {
      "cell_type": "code",
      "metadata": {
        "id": "bjUWzCFhJ0GI",
        "colab": {
          "base_uri": "https://localhost:8080/"
        },
        "outputId": "0bf6bab2-7444-405f-a68e-0972f4ae11fe"
      },
      "source": [
        "df.isnull().sum()"
      ],
      "execution_count": null,
      "outputs": [
        {
          "output_type": "execute_result",
          "data": {
            "text/plain": [
              "price          0\n",
              "crime_rate     0\n",
              "resid_area     0\n",
              "air_qual       0\n",
              "room_num       0\n",
              "age            0\n",
              "dist1          0\n",
              "dist2          0\n",
              "dist3          0\n",
              "dist4          0\n",
              "teachers       0\n",
              "poor_prop      0\n",
              "airport        0\n",
              "n_hos_beds     8\n",
              "n_hot_rooms    0\n",
              "waterbody      0\n",
              "rainfall       0\n",
              "bus_ter        0\n",
              "parks          0\n",
              "dtype: int64"
            ]
          },
          "metadata": {
            "tags": []
          },
          "execution_count": 11
        }
      ]
    },
    {
      "cell_type": "code",
      "metadata": {
        "id": "VPSFqoPrJ_av"
      },
      "source": [
        "from sklearn.impute import SimpleImputer\n",
        "imputer= SimpleImputer(missing_values=np.nan, strategy='mean',)\n",
        "imputer= imputer.fit(x.iloc[:,12:13])\n",
        "x.iloc[:,12:13]=imputer.transform(x.iloc[:,12:13])"
      ],
      "execution_count": null,
      "outputs": []
    },
    {
      "cell_type": "code",
      "metadata": {
        "id": "Hh1c5AV-KSn_",
        "colab": {
          "base_uri": "https://localhost:8080/"
        },
        "outputId": "894b7817-7958-425b-cb35-8ebf49c1bea1"
      },
      "source": [
        "x.isnull().sum()"
      ],
      "execution_count": null,
      "outputs": [
        {
          "output_type": "execute_result",
          "data": {
            "text/plain": [
              "crime_rate     0\n",
              "resid_area     0\n",
              "air_qual       0\n",
              "room_num       0\n",
              "age            0\n",
              "dist1          0\n",
              "dist2          0\n",
              "dist3          0\n",
              "dist4          0\n",
              "teachers       0\n",
              "poor_prop      0\n",
              "airport        0\n",
              "n_hos_beds     0\n",
              "n_hot_rooms    0\n",
              "waterbody      0\n",
              "rainfall       0\n",
              "bus_ter        0\n",
              "parks          0\n",
              "dtype: int64"
            ]
          },
          "metadata": {
            "tags": []
          },
          "execution_count": 15
        }
      ]
    },
    {
      "cell_type": "code",
      "metadata": {
        "id": "ATPhL41hMNMt"
      },
      "source": [
        "cat_df=df.select_dtypes(include=['object']).copy()"
      ],
      "execution_count": null,
      "outputs": []
    },
    {
      "cell_type": "code",
      "metadata": {
        "id": "1tysaVCCMyLo",
        "colab": {
          "base_uri": "https://localhost:8080/",
          "height": 204
        },
        "outputId": "45650a0a-af5d-4b7f-b000-395377553d72"
      },
      "source": [
        "cat_df.head()"
      ],
      "execution_count": null,
      "outputs": [
        {
          "output_type": "execute_result",
          "data": {
            "text/html": [
              "<div>\n",
              "<style scoped>\n",
              "    .dataframe tbody tr th:only-of-type {\n",
              "        vertical-align: middle;\n",
              "    }\n",
              "\n",
              "    .dataframe tbody tr th {\n",
              "        vertical-align: top;\n",
              "    }\n",
              "\n",
              "    .dataframe thead th {\n",
              "        text-align: right;\n",
              "    }\n",
              "</style>\n",
              "<table border=\"1\" class=\"dataframe\">\n",
              "  <thead>\n",
              "    <tr style=\"text-align: right;\">\n",
              "      <th></th>\n",
              "      <th>airport</th>\n",
              "      <th>waterbody</th>\n",
              "      <th>bus_ter</th>\n",
              "    </tr>\n",
              "  </thead>\n",
              "  <tbody>\n",
              "    <tr>\n",
              "      <th>0</th>\n",
              "      <td>YES</td>\n",
              "      <td>River</td>\n",
              "      <td>YES</td>\n",
              "    </tr>\n",
              "    <tr>\n",
              "      <th>1</th>\n",
              "      <td>NO</td>\n",
              "      <td>Lake</td>\n",
              "      <td>YES</td>\n",
              "    </tr>\n",
              "    <tr>\n",
              "      <th>2</th>\n",
              "      <td>NO</td>\n",
              "      <td>None</td>\n",
              "      <td>YES</td>\n",
              "    </tr>\n",
              "    <tr>\n",
              "      <th>3</th>\n",
              "      <td>YES</td>\n",
              "      <td>Lake</td>\n",
              "      <td>YES</td>\n",
              "    </tr>\n",
              "    <tr>\n",
              "      <th>4</th>\n",
              "      <td>NO</td>\n",
              "      <td>Lake</td>\n",
              "      <td>YES</td>\n",
              "    </tr>\n",
              "  </tbody>\n",
              "</table>\n",
              "</div>"
            ],
            "text/plain": [
              "  airport waterbody bus_ter\n",
              "0     YES     River     YES\n",
              "1      NO      Lake     YES\n",
              "2      NO      None     YES\n",
              "3     YES      Lake     YES\n",
              "4      NO      Lake     YES"
            ]
          },
          "metadata": {
            "tags": []
          },
          "execution_count": 17
        }
      ]
    },
    {
      "cell_type": "code",
      "metadata": {
        "id": "q3LdNVFJM3rs",
        "colab": {
          "base_uri": "https://localhost:8080/"
        },
        "outputId": "72f11a3b-3a23-4805-8b20-7ef049d56d26"
      },
      "source": [
        "features=cat_df.columns\n",
        "features"
      ],
      "execution_count": null,
      "outputs": [
        {
          "output_type": "execute_result",
          "data": {
            "text/plain": [
              "Index(['airport', 'waterbody', 'bus_ter'], dtype='object')"
            ]
          },
          "metadata": {
            "tags": []
          },
          "execution_count": 18
        }
      ]
    },
    {
      "cell_type": "code",
      "metadata": {
        "id": "6dIExR-pOcPe",
        "colab": {
          "base_uri": "https://localhost:8080/",
          "height": 224
        },
        "outputId": "293d490f-ccf6-4f1f-ce19-3cc2f411acc1"
      },
      "source": [
        "x.head()"
      ],
      "execution_count": null,
      "outputs": [
        {
          "output_type": "execute_result",
          "data": {
            "text/html": [
              "<div>\n",
              "<style scoped>\n",
              "    .dataframe tbody tr th:only-of-type {\n",
              "        vertical-align: middle;\n",
              "    }\n",
              "\n",
              "    .dataframe tbody tr th {\n",
              "        vertical-align: top;\n",
              "    }\n",
              "\n",
              "    .dataframe thead th {\n",
              "        text-align: right;\n",
              "    }\n",
              "</style>\n",
              "<table border=\"1\" class=\"dataframe\">\n",
              "  <thead>\n",
              "    <tr style=\"text-align: right;\">\n",
              "      <th></th>\n",
              "      <th>crime_rate</th>\n",
              "      <th>resid_area</th>\n",
              "      <th>air_qual</th>\n",
              "      <th>room_num</th>\n",
              "      <th>age</th>\n",
              "      <th>dist1</th>\n",
              "      <th>dist2</th>\n",
              "      <th>dist3</th>\n",
              "      <th>dist4</th>\n",
              "      <th>teachers</th>\n",
              "      <th>poor_prop</th>\n",
              "      <th>airport</th>\n",
              "      <th>n_hos_beds</th>\n",
              "      <th>n_hot_rooms</th>\n",
              "      <th>waterbody</th>\n",
              "      <th>rainfall</th>\n",
              "      <th>bus_ter</th>\n",
              "      <th>parks</th>\n",
              "    </tr>\n",
              "  </thead>\n",
              "  <tbody>\n",
              "    <tr>\n",
              "      <th>0</th>\n",
              "      <td>0.00632</td>\n",
              "      <td>32.31</td>\n",
              "      <td>0.538</td>\n",
              "      <td>6.575</td>\n",
              "      <td>65.2</td>\n",
              "      <td>4.35</td>\n",
              "      <td>3.81</td>\n",
              "      <td>4.18</td>\n",
              "      <td>4.01</td>\n",
              "      <td>24.7</td>\n",
              "      <td>4.98</td>\n",
              "      <td>YES</td>\n",
              "      <td>5.480</td>\n",
              "      <td>11.1920</td>\n",
              "      <td>River</td>\n",
              "      <td>23</td>\n",
              "      <td>YES</td>\n",
              "      <td>0.049347</td>\n",
              "    </tr>\n",
              "    <tr>\n",
              "      <th>1</th>\n",
              "      <td>0.02731</td>\n",
              "      <td>37.07</td>\n",
              "      <td>0.469</td>\n",
              "      <td>6.421</td>\n",
              "      <td>78.9</td>\n",
              "      <td>4.99</td>\n",
              "      <td>4.70</td>\n",
              "      <td>5.12</td>\n",
              "      <td>5.06</td>\n",
              "      <td>22.2</td>\n",
              "      <td>9.14</td>\n",
              "      <td>NO</td>\n",
              "      <td>7.332</td>\n",
              "      <td>12.1728</td>\n",
              "      <td>Lake</td>\n",
              "      <td>42</td>\n",
              "      <td>YES</td>\n",
              "      <td>0.046146</td>\n",
              "    </tr>\n",
              "    <tr>\n",
              "      <th>2</th>\n",
              "      <td>0.02729</td>\n",
              "      <td>37.07</td>\n",
              "      <td>0.469</td>\n",
              "      <td>7.185</td>\n",
              "      <td>61.1</td>\n",
              "      <td>5.03</td>\n",
              "      <td>4.86</td>\n",
              "      <td>5.01</td>\n",
              "      <td>4.97</td>\n",
              "      <td>22.2</td>\n",
              "      <td>4.03</td>\n",
              "      <td>NO</td>\n",
              "      <td>7.394</td>\n",
              "      <td>101.1200</td>\n",
              "      <td>None</td>\n",
              "      <td>38</td>\n",
              "      <td>YES</td>\n",
              "      <td>0.045764</td>\n",
              "    </tr>\n",
              "    <tr>\n",
              "      <th>3</th>\n",
              "      <td>0.03237</td>\n",
              "      <td>32.18</td>\n",
              "      <td>0.458</td>\n",
              "      <td>6.998</td>\n",
              "      <td>45.8</td>\n",
              "      <td>6.21</td>\n",
              "      <td>5.93</td>\n",
              "      <td>6.16</td>\n",
              "      <td>5.96</td>\n",
              "      <td>21.3</td>\n",
              "      <td>2.94</td>\n",
              "      <td>YES</td>\n",
              "      <td>9.268</td>\n",
              "      <td>11.2672</td>\n",
              "      <td>Lake</td>\n",
              "      <td>45</td>\n",
              "      <td>YES</td>\n",
              "      <td>0.047151</td>\n",
              "    </tr>\n",
              "    <tr>\n",
              "      <th>4</th>\n",
              "      <td>0.06905</td>\n",
              "      <td>32.18</td>\n",
              "      <td>0.458</td>\n",
              "      <td>7.147</td>\n",
              "      <td>54.2</td>\n",
              "      <td>6.16</td>\n",
              "      <td>5.86</td>\n",
              "      <td>6.37</td>\n",
              "      <td>5.86</td>\n",
              "      <td>21.3</td>\n",
              "      <td>5.33</td>\n",
              "      <td>NO</td>\n",
              "      <td>8.824</td>\n",
              "      <td>11.2896</td>\n",
              "      <td>Lake</td>\n",
              "      <td>55</td>\n",
              "      <td>YES</td>\n",
              "      <td>0.039474</td>\n",
              "    </tr>\n",
              "  </tbody>\n",
              "</table>\n",
              "</div>"
            ],
            "text/plain": [
              "   crime_rate  resid_area  air_qual  ...  rainfall  bus_ter     parks\n",
              "0     0.00632       32.31     0.538  ...        23      YES  0.049347\n",
              "1     0.02731       37.07     0.469  ...        42      YES  0.046146\n",
              "2     0.02729       37.07     0.469  ...        38      YES  0.045764\n",
              "3     0.03237       32.18     0.458  ...        45      YES  0.047151\n",
              "4     0.06905       32.18     0.458  ...        55      YES  0.039474\n",
              "\n",
              "[5 rows x 18 columns]"
            ]
          },
          "metadata": {
            "tags": []
          },
          "execution_count": 19
        }
      ]
    },
    {
      "cell_type": "code",
      "metadata": {
        "id": "E_O7lgouNHQm"
      },
      "source": [
        "for feature in features:\n",
        "  x[feature]=x[feature].astype('category')\n",
        "  x[feature]=x[feature].cat.codes"
      ],
      "execution_count": null,
      "outputs": []
    },
    {
      "cell_type": "code",
      "metadata": {
        "id": "Y_Lwp1CEOAds",
        "colab": {
          "base_uri": "https://localhost:8080/",
          "height": 224
        },
        "outputId": "2d36c152-fd66-4318-b024-96a16d7bf1c0"
      },
      "source": [
        "x.head()"
      ],
      "execution_count": null,
      "outputs": [
        {
          "output_type": "execute_result",
          "data": {
            "text/html": [
              "<div>\n",
              "<style scoped>\n",
              "    .dataframe tbody tr th:only-of-type {\n",
              "        vertical-align: middle;\n",
              "    }\n",
              "\n",
              "    .dataframe tbody tr th {\n",
              "        vertical-align: top;\n",
              "    }\n",
              "\n",
              "    .dataframe thead th {\n",
              "        text-align: right;\n",
              "    }\n",
              "</style>\n",
              "<table border=\"1\" class=\"dataframe\">\n",
              "  <thead>\n",
              "    <tr style=\"text-align: right;\">\n",
              "      <th></th>\n",
              "      <th>crime_rate</th>\n",
              "      <th>resid_area</th>\n",
              "      <th>air_qual</th>\n",
              "      <th>room_num</th>\n",
              "      <th>age</th>\n",
              "      <th>dist1</th>\n",
              "      <th>dist2</th>\n",
              "      <th>dist3</th>\n",
              "      <th>dist4</th>\n",
              "      <th>teachers</th>\n",
              "      <th>poor_prop</th>\n",
              "      <th>airport</th>\n",
              "      <th>n_hos_beds</th>\n",
              "      <th>n_hot_rooms</th>\n",
              "      <th>waterbody</th>\n",
              "      <th>rainfall</th>\n",
              "      <th>bus_ter</th>\n",
              "      <th>parks</th>\n",
              "    </tr>\n",
              "  </thead>\n",
              "  <tbody>\n",
              "    <tr>\n",
              "      <th>0</th>\n",
              "      <td>0.00632</td>\n",
              "      <td>32.31</td>\n",
              "      <td>0.538</td>\n",
              "      <td>6.575</td>\n",
              "      <td>65.2</td>\n",
              "      <td>4.35</td>\n",
              "      <td>3.81</td>\n",
              "      <td>4.18</td>\n",
              "      <td>4.01</td>\n",
              "      <td>24.7</td>\n",
              "      <td>4.98</td>\n",
              "      <td>1</td>\n",
              "      <td>5.480</td>\n",
              "      <td>11.1920</td>\n",
              "      <td>3</td>\n",
              "      <td>23</td>\n",
              "      <td>0</td>\n",
              "      <td>0.049347</td>\n",
              "    </tr>\n",
              "    <tr>\n",
              "      <th>1</th>\n",
              "      <td>0.02731</td>\n",
              "      <td>37.07</td>\n",
              "      <td>0.469</td>\n",
              "      <td>6.421</td>\n",
              "      <td>78.9</td>\n",
              "      <td>4.99</td>\n",
              "      <td>4.70</td>\n",
              "      <td>5.12</td>\n",
              "      <td>5.06</td>\n",
              "      <td>22.2</td>\n",
              "      <td>9.14</td>\n",
              "      <td>0</td>\n",
              "      <td>7.332</td>\n",
              "      <td>12.1728</td>\n",
              "      <td>0</td>\n",
              "      <td>42</td>\n",
              "      <td>0</td>\n",
              "      <td>0.046146</td>\n",
              "    </tr>\n",
              "    <tr>\n",
              "      <th>2</th>\n",
              "      <td>0.02729</td>\n",
              "      <td>37.07</td>\n",
              "      <td>0.469</td>\n",
              "      <td>7.185</td>\n",
              "      <td>61.1</td>\n",
              "      <td>5.03</td>\n",
              "      <td>4.86</td>\n",
              "      <td>5.01</td>\n",
              "      <td>4.97</td>\n",
              "      <td>22.2</td>\n",
              "      <td>4.03</td>\n",
              "      <td>0</td>\n",
              "      <td>7.394</td>\n",
              "      <td>101.1200</td>\n",
              "      <td>2</td>\n",
              "      <td>38</td>\n",
              "      <td>0</td>\n",
              "      <td>0.045764</td>\n",
              "    </tr>\n",
              "    <tr>\n",
              "      <th>3</th>\n",
              "      <td>0.03237</td>\n",
              "      <td>32.18</td>\n",
              "      <td>0.458</td>\n",
              "      <td>6.998</td>\n",
              "      <td>45.8</td>\n",
              "      <td>6.21</td>\n",
              "      <td>5.93</td>\n",
              "      <td>6.16</td>\n",
              "      <td>5.96</td>\n",
              "      <td>21.3</td>\n",
              "      <td>2.94</td>\n",
              "      <td>1</td>\n",
              "      <td>9.268</td>\n",
              "      <td>11.2672</td>\n",
              "      <td>0</td>\n",
              "      <td>45</td>\n",
              "      <td>0</td>\n",
              "      <td>0.047151</td>\n",
              "    </tr>\n",
              "    <tr>\n",
              "      <th>4</th>\n",
              "      <td>0.06905</td>\n",
              "      <td>32.18</td>\n",
              "      <td>0.458</td>\n",
              "      <td>7.147</td>\n",
              "      <td>54.2</td>\n",
              "      <td>6.16</td>\n",
              "      <td>5.86</td>\n",
              "      <td>6.37</td>\n",
              "      <td>5.86</td>\n",
              "      <td>21.3</td>\n",
              "      <td>5.33</td>\n",
              "      <td>0</td>\n",
              "      <td>8.824</td>\n",
              "      <td>11.2896</td>\n",
              "      <td>0</td>\n",
              "      <td>55</td>\n",
              "      <td>0</td>\n",
              "      <td>0.039474</td>\n",
              "    </tr>\n",
              "  </tbody>\n",
              "</table>\n",
              "</div>"
            ],
            "text/plain": [
              "   crime_rate  resid_area  air_qual  ...  rainfall  bus_ter     parks\n",
              "0     0.00632       32.31     0.538  ...        23        0  0.049347\n",
              "1     0.02731       37.07     0.469  ...        42        0  0.046146\n",
              "2     0.02729       37.07     0.469  ...        38        0  0.045764\n",
              "3     0.03237       32.18     0.458  ...        45        0  0.047151\n",
              "4     0.06905       32.18     0.458  ...        55        0  0.039474\n",
              "\n",
              "[5 rows x 18 columns]"
            ]
          },
          "metadata": {
            "tags": []
          },
          "execution_count": 21
        }
      ]
    },
    {
      "cell_type": "code",
      "metadata": {
        "id": "SODLsIpSO-eA"
      },
      "source": [
        "x['avg-dist']=(x['dist1']+x['dist2']+x['dist3']+x['dist4'])/4"
      ],
      "execution_count": null,
      "outputs": []
    },
    {
      "cell_type": "code",
      "metadata": {
        "id": "CftB_mvSPxSk"
      },
      "source": [
        "x.drop(columns=['dist1','dist2','dist3','dist4'], inplace=True)"
      ],
      "execution_count": null,
      "outputs": []
    },
    {
      "cell_type": "code",
      "metadata": {
        "id": "L0DWJcl_h6H7"
      },
      "source": [
        "x.drop('bus_ter', axis=1, inplace=True)"
      ],
      "execution_count": null,
      "outputs": []
    },
    {
      "cell_type": "code",
      "metadata": {
        "colab": {
          "base_uri": "https://localhost:8080/",
          "height": 204
        },
        "id": "JbpgqrsCh7PK",
        "outputId": "5bcf18da-b9f1-4c29-8186-bb06253602a2"
      },
      "source": [
        "x.head()"
      ],
      "execution_count": null,
      "outputs": [
        {
          "output_type": "execute_result",
          "data": {
            "text/html": [
              "<div>\n",
              "<style scoped>\n",
              "    .dataframe tbody tr th:only-of-type {\n",
              "        vertical-align: middle;\n",
              "    }\n",
              "\n",
              "    .dataframe tbody tr th {\n",
              "        vertical-align: top;\n",
              "    }\n",
              "\n",
              "    .dataframe thead th {\n",
              "        text-align: right;\n",
              "    }\n",
              "</style>\n",
              "<table border=\"1\" class=\"dataframe\">\n",
              "  <thead>\n",
              "    <tr style=\"text-align: right;\">\n",
              "      <th></th>\n",
              "      <th>crime_rate</th>\n",
              "      <th>resid_area</th>\n",
              "      <th>air_qual</th>\n",
              "      <th>room_num</th>\n",
              "      <th>age</th>\n",
              "      <th>teachers</th>\n",
              "      <th>poor_prop</th>\n",
              "      <th>airport</th>\n",
              "      <th>n_hos_beds</th>\n",
              "      <th>n_hot_rooms</th>\n",
              "      <th>waterbody</th>\n",
              "      <th>rainfall</th>\n",
              "      <th>parks</th>\n",
              "      <th>avg-dist</th>\n",
              "    </tr>\n",
              "  </thead>\n",
              "  <tbody>\n",
              "    <tr>\n",
              "      <th>0</th>\n",
              "      <td>0.00632</td>\n",
              "      <td>32.31</td>\n",
              "      <td>0.538</td>\n",
              "      <td>6.575</td>\n",
              "      <td>65.2</td>\n",
              "      <td>24.7</td>\n",
              "      <td>4.98</td>\n",
              "      <td>1</td>\n",
              "      <td>5.480</td>\n",
              "      <td>11.1920</td>\n",
              "      <td>3</td>\n",
              "      <td>23</td>\n",
              "      <td>0.049347</td>\n",
              "      <td>4.0875</td>\n",
              "    </tr>\n",
              "    <tr>\n",
              "      <th>1</th>\n",
              "      <td>0.02731</td>\n",
              "      <td>37.07</td>\n",
              "      <td>0.469</td>\n",
              "      <td>6.421</td>\n",
              "      <td>78.9</td>\n",
              "      <td>22.2</td>\n",
              "      <td>9.14</td>\n",
              "      <td>0</td>\n",
              "      <td>7.332</td>\n",
              "      <td>12.1728</td>\n",
              "      <td>0</td>\n",
              "      <td>42</td>\n",
              "      <td>0.046146</td>\n",
              "      <td>4.9675</td>\n",
              "    </tr>\n",
              "    <tr>\n",
              "      <th>2</th>\n",
              "      <td>0.02729</td>\n",
              "      <td>37.07</td>\n",
              "      <td>0.469</td>\n",
              "      <td>7.185</td>\n",
              "      <td>61.1</td>\n",
              "      <td>22.2</td>\n",
              "      <td>4.03</td>\n",
              "      <td>0</td>\n",
              "      <td>7.394</td>\n",
              "      <td>101.1200</td>\n",
              "      <td>2</td>\n",
              "      <td>38</td>\n",
              "      <td>0.045764</td>\n",
              "      <td>4.9675</td>\n",
              "    </tr>\n",
              "    <tr>\n",
              "      <th>3</th>\n",
              "      <td>0.03237</td>\n",
              "      <td>32.18</td>\n",
              "      <td>0.458</td>\n",
              "      <td>6.998</td>\n",
              "      <td>45.8</td>\n",
              "      <td>21.3</td>\n",
              "      <td>2.94</td>\n",
              "      <td>1</td>\n",
              "      <td>9.268</td>\n",
              "      <td>11.2672</td>\n",
              "      <td>0</td>\n",
              "      <td>45</td>\n",
              "      <td>0.047151</td>\n",
              "      <td>6.0650</td>\n",
              "    </tr>\n",
              "    <tr>\n",
              "      <th>4</th>\n",
              "      <td>0.06905</td>\n",
              "      <td>32.18</td>\n",
              "      <td>0.458</td>\n",
              "      <td>7.147</td>\n",
              "      <td>54.2</td>\n",
              "      <td>21.3</td>\n",
              "      <td>5.33</td>\n",
              "      <td>0</td>\n",
              "      <td>8.824</td>\n",
              "      <td>11.2896</td>\n",
              "      <td>0</td>\n",
              "      <td>55</td>\n",
              "      <td>0.039474</td>\n",
              "      <td>6.0625</td>\n",
              "    </tr>\n",
              "  </tbody>\n",
              "</table>\n",
              "</div>"
            ],
            "text/plain": [
              "   crime_rate  resid_area  air_qual  ...  rainfall     parks  avg-dist\n",
              "0     0.00632       32.31     0.538  ...        23  0.049347    4.0875\n",
              "1     0.02731       37.07     0.469  ...        42  0.046146    4.9675\n",
              "2     0.02729       37.07     0.469  ...        38  0.045764    4.9675\n",
              "3     0.03237       32.18     0.458  ...        45  0.047151    6.0650\n",
              "4     0.06905       32.18     0.458  ...        55  0.039474    6.0625\n",
              "\n",
              "[5 rows x 14 columns]"
            ]
          },
          "metadata": {
            "tags": []
          },
          "execution_count": 31
        }
      ]
    },
    {
      "cell_type": "code",
      "metadata": {
        "id": "BJhhQzjbL8uZ"
      },
      "source": [
        "from sklearn.model_selection import train_test_split\n",
        "x_train, x_test, y_train, y_test= train_test_split(x,y, test_size=0.30)"
      ],
      "execution_count": null,
      "outputs": []
    },
    {
      "cell_type": "code",
      "metadata": {
        "id": "Y8ClnXT7Pwiu",
        "colab": {
          "base_uri": "https://localhost:8080/"
        },
        "outputId": "9652f997-8231-4747-db56-01aa42ad5e2f"
      },
      "source": [
        "print(x_train.shape)\n",
        "print(x_test.shape)"
      ],
      "execution_count": null,
      "outputs": [
        {
          "output_type": "stream",
          "text": [
            "(354, 14)\n",
            "(152, 14)\n"
          ],
          "name": "stdout"
        }
      ]
    },
    {
      "cell_type": "code",
      "metadata": {
        "id": "_7s21SXAQEsj",
        "colab": {
          "base_uri": "https://localhost:8080/"
        },
        "outputId": "ec1863d6-d112-48bc-e6ab-eed2eb41dfa5"
      },
      "source": [
        "print(y_train.shape)\n",
        "print(y_test.shape)"
      ],
      "execution_count": null,
      "outputs": [
        {
          "output_type": "stream",
          "text": [
            "(354,)\n",
            "(152,)\n"
          ],
          "name": "stdout"
        }
      ]
    },
    {
      "cell_type": "code",
      "metadata": {
        "id": "uFEoohz7Qu5h"
      },
      "source": [
        "from sklearn.preprocessing import StandardScaler\n",
        "ss= StandardScaler()\n",
        "x_train= ss.fit_transform(x_train)\n",
        "x_test=ss.transform(x_test)"
      ],
      "execution_count": null,
      "outputs": []
    },
    {
      "cell_type": "code",
      "metadata": {
        "id": "zH4C9Uw8I5wP",
        "colab": {
          "base_uri": "https://localhost:8080/"
        },
        "outputId": "05a3af5a-b09f-4b9a-eb24-03951ba4b15d"
      },
      "source": [
        "from sklearn.decomposition import PCA\n",
        "pca= PCA(0.70)\n",
        "pca.fit(x_train)"
      ],
      "execution_count": null,
      "outputs": [
        {
          "output_type": "execute_result",
          "data": {
            "text/plain": [
              "PCA(copy=True, iterated_power='auto', n_components=0.7, random_state=None,\n",
              "    svd_solver='auto', tol=0.0, whiten=False)"
            ]
          },
          "metadata": {
            "tags": []
          },
          "execution_count": 40
        }
      ]
    },
    {
      "cell_type": "code",
      "metadata": {
        "id": "8BToZ6XKJUx3",
        "colab": {
          "base_uri": "https://localhost:8080/"
        },
        "outputId": "92f13ede-376b-4ed8-80a2-0bcf2d7fd5a2"
      },
      "source": [
        "pca.n_components_"
      ],
      "execution_count": null,
      "outputs": [
        {
          "output_type": "execute_result",
          "data": {
            "text/plain": [
              "6"
            ]
          },
          "metadata": {
            "tags": []
          },
          "execution_count": 41
        }
      ]
    },
    {
      "cell_type": "code",
      "metadata": {
        "id": "8Wta9HCzJc1O",
        "colab": {
          "base_uri": "https://localhost:8080/"
        },
        "outputId": "f5ee5e9b-cfbc-47a2-fb5d-4e1f89f94b07"
      },
      "source": [
        "pca.transform(x_train)\n",
        "pca.transform(x_test)"
      ],
      "execution_count": null,
      "outputs": [
        {
          "output_type": "execute_result",
          "data": {
            "text/plain": [
              "array([[ 7.62209925e-01,  5.69929443e-01, -7.52605390e-01,\n",
              "        -1.32314035e-01,  1.76671041e-01,  2.00246653e-01],\n",
              "       [-4.98160507e-01,  4.57125616e-02,  1.49634435e+00,\n",
              "        -6.05871867e-01,  1.58902348e+00,  8.88888513e-02],\n",
              "       [ 2.24834864e+00, -4.20382046e-01,  3.01308991e-01,\n",
              "        -2.77409848e-01,  1.39356968e-01, -1.86305297e+00],\n",
              "       [-1.20063564e+00, -2.28445954e-01, -9.72116358e-01,\n",
              "         7.88465517e-01,  4.56795006e-01, -1.37310153e+00],\n",
              "       [-1.12044106e+00,  8.51671537e-01,  1.07215261e+00,\n",
              "         1.09976452e-01,  7.33404100e-01,  2.52983007e-01],\n",
              "       [ 2.77613570e+00,  2.62061977e-01,  9.44951943e-01,\n",
              "         7.18799312e-01, -9.06430004e-02, -1.44200489e+00],\n",
              "       [ 3.15637660e+00, -8.13236429e-01,  6.54206326e-01,\n",
              "        -1.27851363e-01,  2.06158685e-01, -2.23400880e+00],\n",
              "       [ 8.44712862e-01, -1.43637704e-01,  6.36966957e-01,\n",
              "        -1.13835387e+00, -6.87738961e-01,  1.01660139e+00],\n",
              "       [-1.62457513e+00,  1.08023042e+00, -4.10460662e-01,\n",
              "         4.04889162e-01,  7.08848215e-01,  5.58947597e-01],\n",
              "       [-3.20294920e+00, -1.80866136e+00, -4.36972457e-01,\n",
              "         5.68931538e-01, -3.06637658e-01, -5.84244599e-01],\n",
              "       [ 2.20044230e+00,  9.38729011e-01,  3.35688067e-02,\n",
              "        -5.06724980e-01,  4.34398618e-01,  3.66170906e-01],\n",
              "       [ 7.25899524e-01, -1.93790936e-01,  4.49946295e-01,\n",
              "        -4.16194555e-01, -9.04396449e-01,  2.40612493e+00],\n",
              "       [ 2.77234080e+00, -2.84110971e-01, -6.91701839e-01,\n",
              "         1.41923379e+00,  3.10283122e-01,  3.78415783e-01],\n",
              "       [ 1.69127545e-01, -5.12831695e-01,  7.61402542e-03,\n",
              "         6.60524910e-01, -6.29202742e-01, -1.50352130e-01],\n",
              "       [-1.12216544e-01,  2.90363208e+00, -1.62710388e-02,\n",
              "         1.03797827e+00,  1.15384554e+00,  1.49725223e-01],\n",
              "       [ 1.81342319e+00, -1.31191900e+00,  1.35179183e+00,\n",
              "        -3.28013064e-01, -2.57179048e-01, -7.85451329e-01],\n",
              "       [-2.74254525e+00,  1.88100062e+00,  7.63050036e-01,\n",
              "         6.90996273e-01,  1.37209044e+00,  2.63258257e-01],\n",
              "       [-8.07655617e-01, -4.70107407e-01, -1.01811423e+00,\n",
              "        -5.11661741e-01,  1.33933495e+00,  7.85176802e-02],\n",
              "       [-3.01566663e+00, -1.13562289e-01, -1.34889277e+00,\n",
              "         1.05406995e-01,  5.69255907e-01,  2.61293014e-01],\n",
              "       [-3.68246443e+00, -7.02158228e-01,  1.81731808e+00,\n",
              "         3.48001468e-01, -8.47782350e-01, -7.64064721e-01],\n",
              "       [ 3.48797044e+00, -1.11656370e+00,  6.33781968e-01,\n",
              "         7.87668794e-01, -2.73648659e-01,  5.50143869e-01],\n",
              "       [ 3.20263830e-01, -6.48345284e-01,  7.07337762e-01,\n",
              "         1.00884727e-01, -1.34299138e+00,  4.85220756e-01],\n",
              "       [ 2.45609564e+00, -1.57409682e+00, -1.58449250e+00,\n",
              "         3.07958879e-01,  4.49853100e-01, -5.56687653e-01],\n",
              "       [ 3.16214563e+00,  1.93999180e+00, -5.37401129e-01,\n",
              "         8.52010331e-01, -8.33971147e-01, -2.50597296e+00],\n",
              "       [-1.83369828e-01, -4.92406141e-01, -3.94275106e-01,\n",
              "         9.04873104e-01, -1.62624013e-01,  3.57709987e-01],\n",
              "       [ 4.11844464e+00, -2.03344303e+00, -2.52004648e-01,\n",
              "         3.33274206e-01,  8.41918571e-01,  3.22353679e-01],\n",
              "       [ 1.68255139e+00,  1.73905928e-01, -1.78022718e+00,\n",
              "         1.76308651e-01,  1.22081392e+00,  7.99621526e-01],\n",
              "       [ 2.46263842e+00,  7.14585176e-02,  6.86832984e-01,\n",
              "        -2.35191534e-01, -8.49768479e-01,  2.48241818e+00],\n",
              "       [ 2.82543982e-01,  2.50820693e-01, -1.15085421e+00,\n",
              "         1.73727181e-02,  7.99133006e-01,  9.68028211e-01],\n",
              "       [-2.19064324e-01, -7.69191047e-01,  9.26660121e-02,\n",
              "         2.78129565e-01, -1.52772634e+00,  6.07684827e-01],\n",
              "       [ 2.55877438e+00, -8.96776806e-01, -4.11204115e-01,\n",
              "         2.12822558e-01, -3.50224718e-01, -7.87082084e-01],\n",
              "       [-2.56411213e+00,  5.43628010e-01,  3.93490657e-01,\n",
              "        -3.48960407e-01,  1.51599765e+00, -6.95785273e-01],\n",
              "       [ 1.19399156e-01,  7.34363597e-01, -1.90823586e-01,\n",
              "         4.27377312e-01, -2.59929986e+00, -8.82350212e-01],\n",
              "       [ 1.06891149e+00, -6.32165111e-01,  2.08754328e+00,\n",
              "         3.26701236e-01, -4.43279788e-01, -6.05415002e-01],\n",
              "       [ 2.76322556e+00,  2.29035363e-01,  1.07409413e+00,\n",
              "         6.02554773e-01, -1.29719693e+00,  4.40705700e-01],\n",
              "       [ 4.16524116e-03,  3.11147735e+00,  5.69543004e-01,\n",
              "         1.18423528e+00,  1.59197297e+00,  5.76176583e-02],\n",
              "       [-1.56935338e-01,  7.99640243e-01,  1.64194834e-01,\n",
              "        -6.55021598e-02,  7.14048371e-01,  1.01024024e-01],\n",
              "       [ 2.23839817e+00, -4.33484266e-01, -9.31033228e-01,\n",
              "        -1.01022498e-01,  6.71520727e-01,  1.46512129e+00],\n",
              "       [ 3.61975271e+00,  1.31316318e+00, -9.22551788e-01,\n",
              "         6.50243273e-01, -2.69629695e+00, -3.78706292e-01],\n",
              "       [ 1.43687978e+00,  2.02207368e-01, -1.16943824e+00,\n",
              "        -5.52200831e-01,  1.21806430e+00, -1.92517183e-01],\n",
              "       [ 6.73887169e-01, -8.00356522e-01,  8.38718484e-01,\n",
              "         4.37819721e-01, -1.31883458e+00,  8.46729376e-01],\n",
              "       [-1.76228079e+00, -1.14738827e+00, -1.64393688e-02,\n",
              "        -1.30998927e-02,  2.10504559e-01, -1.55939119e+00],\n",
              "       [ 3.46379488e+00,  2.78558772e-01,  4.46083940e-01,\n",
              "        -4.74678575e-01, -2.65759373e-01,  5.49036596e-01],\n",
              "       [ 1.45515974e+00, -6.65772610e-01,  8.65753299e-01,\n",
              "        -1.34681319e-02, -2.95581761e-01, -1.47149120e+00],\n",
              "       [-9.22829242e-01,  4.07171696e-01, -1.45250073e+00,\n",
              "         1.02003380e+00, -1.58281286e-01, -3.73548506e-01],\n",
              "       [ 3.70345687e+00, -2.46234978e+00,  2.92980348e-01,\n",
              "         1.32919087e-02,  9.80754483e-03, -6.74619191e-01],\n",
              "       [ 8.77280916e-01,  4.42240669e-01, -1.17921368e+00,\n",
              "         1.86305206e+00,  1.25709524e-01, -8.42288013e-02],\n",
              "       [ 2.30179495e+00, -4.82293682e-01, -1.08066050e+00,\n",
              "         1.30996746e+00,  7.05013716e-01, -3.27535400e-01],\n",
              "       [ 4.76580462e-01,  1.82813953e-01, -1.15515198e+00,\n",
              "        -7.72698402e-02, -1.13261581e-01,  1.41220623e+00],\n",
              "       [-1.66990605e+00,  7.07959192e-02,  4.84797933e-01,\n",
              "         2.96893328e-01, -7.47263765e-01, -1.68375226e+00],\n",
              "       [-2.03266335e+00, -1.23389560e+00, -1.65807571e+00,\n",
              "         2.38047252e-01,  2.11041101e-01, -8.53224214e-01],\n",
              "       [ 7.20648147e-01, -8.44008610e-01,  7.45178239e-01,\n",
              "        -3.54895239e-01,  1.37254067e+00,  1.55985809e+00],\n",
              "       [ 3.03782223e+00,  8.22300275e-01, -1.00932712e+00,\n",
              "        -9.28800777e-01, -9.24615339e-01,  8.24846837e-01],\n",
              "       [ 2.86821348e+00, -6.50541156e-01,  7.46371058e-01,\n",
              "         1.77186515e-01, -9.58690274e-02, -5.34907248e-01],\n",
              "       [ 8.65779005e-01, -1.73610960e+00, -5.70394760e-01,\n",
              "         2.64048952e-01,  6.58139373e-01, -1.00065159e+00],\n",
              "       [ 2.15495154e+00,  1.10415699e+00,  1.72963900e+00,\n",
              "        -9.73291603e-01, -2.24059695e-01, -5.50433016e-01],\n",
              "       [ 1.35373039e+00,  3.54341492e-01,  4.24486461e-01,\n",
              "         1.00830879e+00,  1.92271312e-01, -7.75506709e-01],\n",
              "       [-9.16397372e-01,  5.38591385e-01, -1.27544887e+00,\n",
              "        -5.01705538e-01, -6.46421312e-01,  3.40921332e-01],\n",
              "       [-2.22326892e+00, -3.18925799e-03,  1.20667716e+00,\n",
              "         7.27392182e-01,  3.62125665e-01, -5.65746981e-01],\n",
              "       [ 2.43082200e-01, -7.84957883e-01,  1.45288069e+00,\n",
              "         9.52752559e-02, -6.14227514e-01, -6.32108062e-01],\n",
              "       [-2.69409753e-01, -3.39653669e-01, -6.13664791e-01,\n",
              "        -4.13112559e-01,  9.84896143e-01,  1.58251325e-01],\n",
              "       [ 2.49820223e+00, -4.69706594e-01, -1.30502738e+00,\n",
              "         1.10434347e+00,  5.68572499e-01, -1.87456119e-01],\n",
              "       [-1.93828788e+00,  5.87582164e-01, -7.65057471e-02,\n",
              "        -1.16044342e-01, -4.44164505e-01,  7.16816703e-01],\n",
              "       [-1.26302547e+00, -1.07939934e+00,  1.09154835e+00,\n",
              "        -1.96281593e+00, -8.51864332e-01,  4.64109551e-01],\n",
              "       [-3.38542402e+00,  2.24232554e+00,  2.44216540e-03,\n",
              "         1.91516533e-01, -7.68098765e-01, -2.88809192e-01],\n",
              "       [-1.29692275e+00, -3.88898173e-01,  2.08254050e+00,\n",
              "        -5.92801639e-01, -9.70622118e-02,  1.14196608e+00],\n",
              "       [ 3.12813825e+00,  7.08866251e-01, -7.76762052e-02,\n",
              "        -8.08184220e-01, -8.40416695e-02,  6.04096841e-01],\n",
              "       [-2.64001062e-01, -5.04016423e-01, -1.66402986e+00,\n",
              "        -2.09520598e-01,  1.13161433e+00,  4.50365443e-01],\n",
              "       [ 3.15990532e+00,  3.61377398e-01,  2.19303195e+00,\n",
              "        -3.53207727e-01,  5.23068560e-01,  6.53386072e-01],\n",
              "       [-2.74709200e+00,  9.70671760e-02,  4.67046180e-01,\n",
              "        -5.98433130e-01,  9.36145833e-02,  5.53944881e-01],\n",
              "       [-2.32290168e-01,  2.92589956e-01, -1.28393755e+00,\n",
              "         6.22371571e-01, -1.88122720e-01, -9.98380995e-01],\n",
              "       [-5.51995650e-02,  9.77391854e-01, -1.80400965e+00,\n",
              "         5.64539340e-02,  2.70756160e-02,  8.93340671e-01],\n",
              "       [-1.47589608e+00,  2.03534972e-02,  6.16302965e-01,\n",
              "        -2.10869124e-01, -1.40384513e+00, -1.50728365e+00],\n",
              "       [-1.27123600e+00, -4.28773790e-01, -1.19515715e+00,\n",
              "        -1.12790648e+00, -9.11739194e-01,  1.07410438e+00],\n",
              "       [ 4.31888508e-01, -3.54490218e-01, -1.58916715e-01,\n",
              "         1.04983606e+00,  6.30163317e-01,  5.96734808e-01],\n",
              "       [ 1.74437624e-01, -1.34357672e+00,  4.98853975e-01,\n",
              "         3.44010810e-01,  7.74409860e-01, -5.66030721e-01],\n",
              "       [ 2.73363923e+00,  5.41349102e-01, -5.34351394e-01,\n",
              "        -3.94321140e-01,  1.75333123e+00, -8.15985297e-01],\n",
              "       [ 2.44236137e+00, -8.30351538e-01,  8.23436424e-01,\n",
              "         1.88428662e-01,  5.83576451e-01, -7.99762901e-01],\n",
              "       [ 2.92766419e+00,  7.87894540e-01,  2.60579076e-01,\n",
              "         3.36267199e-01,  1.80636676e+00, -2.25354242e-01],\n",
              "       [-2.62487679e+00,  1.21468756e+00, -3.06328030e-01,\n",
              "         5.68243533e-01, -1.39498164e+00, -7.49154861e-01],\n",
              "       [ 3.15698218e+00, -9.43197534e-01,  5.57369401e-01,\n",
              "         5.35657328e-01,  5.45001737e-01, -1.31832178e+00],\n",
              "       [-2.99089985e+00, -8.16150401e-01, -1.29137801e+00,\n",
              "        -5.04483035e-01, -4.16536603e-02,  1.06011710e+00],\n",
              "       [-7.44868173e-01,  1.11930262e-01, -3.92335138e-01,\n",
              "        -9.06414943e-01, -1.56752006e+00,  1.57714116e+00],\n",
              "       [-1.83003172e+00, -1.30794007e+00,  1.56359841e-01,\n",
              "         1.10261197e+00,  7.93874085e-01,  3.25209461e-01],\n",
              "       [ 2.39059095e+00, -6.86293654e-01, -1.18287033e+00,\n",
              "         7.98936145e-01, -1.00333872e-01, -6.44932472e-01],\n",
              "       [-2.70583509e+00,  2.53596542e-01, -6.58476650e-02,\n",
              "        -1.12164076e+00, -5.68240783e-01,  2.70907050e-01],\n",
              "       [-1.41822541e+00, -3.12725315e-01,  8.20931201e-01,\n",
              "        -5.29209477e-01, -5.44074375e-01,  1.49005847e+00],\n",
              "       [ 3.48605014e+00,  1.17962801e+00,  6.16997153e-01,\n",
              "         8.61431608e-01, -1.42722703e+00, -1.83337639e+00],\n",
              "       [-8.25710672e-01, -1.99901762e-01, -3.11185623e-01,\n",
              "        -8.53132146e-01, -2.94065477e-01,  4.88809858e-01],\n",
              "       [-1.56988004e+00,  2.44003972e+00, -1.64307945e+00,\n",
              "         4.88629792e-01,  7.12559989e-01,  2.63731896e-01],\n",
              "       [-1.71034583e+00,  3.45371022e-01, -1.45888599e+00,\n",
              "         1.02718545e+00, -1.92678141e-01, -6.32546566e-01],\n",
              "       [ 2.74578898e+00,  5.91245467e-01,  6.71479705e-01,\n",
              "        -8.21418754e-01, -1.05527480e-01,  3.01618228e-01],\n",
              "       [-3.32465092e+00,  1.57935842e-01, -1.28976296e+00,\n",
              "         8.54733544e-01, -8.47680320e-01, -7.24932362e-01],\n",
              "       [ 1.44129613e+00, -1.10664341e+00,  4.00853363e-01,\n",
              "         4.93235445e-01,  5.71070559e-01, -1.25920380e+00],\n",
              "       [-1.34152490e+00,  1.99752629e+00,  2.15005804e-01,\n",
              "        -1.25904356e-01,  7.67440636e-01, -1.04365971e+00],\n",
              "       [ 2.62359565e+00,  2.03941495e-01, -1.51245485e+00,\n",
              "        -6.91260945e-02,  1.04132798e+00,  4.12914720e-01],\n",
              "       [-1.09917402e+00, -1.57882228e+00, -7.56446559e-02,\n",
              "         6.76206975e-01, -3.62008806e-01,  3.00305868e-01],\n",
              "       [-1.49788706e+00, -2.31887646e-01, -1.30584681e+00,\n",
              "         3.99994863e-02,  2.67469786e+00,  1.88955928e-02],\n",
              "       [ 3.76962296e+00, -7.43398675e-01, -4.16254253e-01,\n",
              "         4.71440750e-01,  5.24782975e-02, -7.44607696e-01],\n",
              "       [ 3.97126864e+00, -1.94300774e+00,  1.19934424e+00,\n",
              "         1.34046089e-02, -6.81971337e-01, -3.38463210e-01],\n",
              "       [-2.05939495e+00, -3.29903722e-01, -2.30407197e-01,\n",
              "        -5.87957812e-01, -1.37817443e-01,  4.39679644e-01],\n",
              "       [-2.35227712e+00,  4.35390020e-02,  2.50030732e-01,\n",
              "         4.29712042e-01,  4.27597319e-01, -2.34731316e+00],\n",
              "       [-1.18599337e+00,  6.88495179e-01,  4.21755374e-01,\n",
              "         3.82303827e-01,  7.60977495e-01,  1.20488614e+00],\n",
              "       [-2.27733703e+00, -1.87242943e-01, -1.49644903e+00,\n",
              "        -9.37411810e-01, -5.43789616e-01,  8.02412928e-01],\n",
              "       [-3.50307166e+00, -1.11911573e+00,  1.54036190e+00,\n",
              "        -2.15266849e-01, -1.16623381e+00, -4.59864434e-01],\n",
              "       [ 1.97770485e+00, -1.91117762e-01,  2.90891674e-01,\n",
              "        -2.59770885e-01, -9.35001626e-01, -1.38600947e+00],\n",
              "       [-3.12917488e+00, -2.52016373e+00,  5.70815003e-01,\n",
              "        -8.34659550e-01, -1.11175949e+00, -7.45170006e-01],\n",
              "       [ 2.69365926e+00, -2.97373362e-01,  4.41648245e-01,\n",
              "         2.93400156e-01, -6.13710541e-01, -9.86168769e-01],\n",
              "       [ 1.97822498e+00, -3.46630296e-01,  3.02331805e-01,\n",
              "         4.89193885e-01, -2.20237503e-01, -5.59394764e-01],\n",
              "       [-3.80414412e+00, -6.04270099e-01,  1.72662968e-01,\n",
              "        -3.28171669e-01, -4.43921075e-02,  1.97392565e+00],\n",
              "       [ 3.10384771e+00, -1.75190195e+00, -4.21015667e-01,\n",
              "        -1.83449417e-01, -1.27207476e+00, -4.43034372e-01],\n",
              "       [ 2.96375647e+00, -1.03587329e+00,  9.97360851e-01,\n",
              "        -7.14278916e-03, -2.47030840e-01, -6.00986483e-02],\n",
              "       [ 2.03292148e+00,  4.54284437e-01,  1.18401420e-01,\n",
              "         3.71576509e-01, -1.93273032e-02, -1.30801413e+00],\n",
              "       [ 1.27350689e+00, -1.13646333e+00, -5.67394056e-01,\n",
              "        -2.13090870e-01, -1.00370407e+00, -8.82994509e-01],\n",
              "       [-8.41301618e-01, -6.09191450e-01, -1.18104763e+00,\n",
              "        -1.12278199e-01,  1.33946754e+00,  1.06170762e+00],\n",
              "       [-1.86935841e+00, -1.18365753e+00, -1.25044943e+00,\n",
              "        -1.25386095e-01,  1.24925042e+00,  1.27367943e+00],\n",
              "       [-2.51269870e+00, -6.10606534e-01, -1.92451082e+00,\n",
              "         7.52192059e-01,  3.67183766e-01, -8.03920981e-01],\n",
              "       [ 1.16022873e+00,  9.68433091e-01,  8.86667930e-01,\n",
              "        -1.08333710e-01, -4.87722609e-01,  1.29941996e+00],\n",
              "       [ 2.57684187e-01, -6.84476337e-01,  1.01387972e+00,\n",
              "        -3.08326114e-01,  1.62052551e+00,  1.22972395e+00],\n",
              "       [ 2.71212211e-01, -7.12431530e-01, -6.66630051e-01,\n",
              "        -3.00054384e-01, -2.14544956e+00, -3.41120224e-01],\n",
              "       [-2.77187010e+00,  1.10582164e-02, -6.50481126e-01,\n",
              "         2.73821793e-01, -2.05142482e+00, -1.87359604e-01],\n",
              "       [-2.13109955e+00,  1.79586321e+00, -8.58704305e-01,\n",
              "        -2.78428287e-01, -8.31261778e-01,  8.70379803e-01],\n",
              "       [-2.86356027e+00, -7.63942062e-01,  9.99932088e-01,\n",
              "        -6.65168107e-02, -1.80999780e+00, -8.65217779e-01],\n",
              "       [-1.18787399e+00,  2.26708408e+00,  2.78920477e-04,\n",
              "        -1.23631544e-01, -7.26364393e-01,  1.39875910e+00],\n",
              "       [-2.49785047e-01, -9.08160846e-01,  8.82624908e-01,\n",
              "        -9.66680554e-01,  5.30121575e-01,  7.96206248e-01],\n",
              "       [-4.59982798e-02,  3.26787410e+00, -6.51390017e-01,\n",
              "         8.94487380e-01,  8.50813459e-02, -4.68698699e-01],\n",
              "       [-1.10386786e+00, -4.73295710e-01,  1.78720376e+00,\n",
              "         3.48637370e-01, -3.60807010e-01, -1.28525114e+00],\n",
              "       [-2.62273911e+00,  9.81944757e-02, -7.83745920e-01,\n",
              "        -8.11661775e-01, -6.90203025e-01,  6.61977182e-01],\n",
              "       [ 1.85131981e+00,  3.24466685e-01,  7.41292542e-01,\n",
              "         3.54951332e-01,  1.76518972e+00,  8.36537079e-01],\n",
              "       [ 2.89829942e-01, -9.58114104e-01, -8.38614787e-02,\n",
              "         7.04338016e-02, -1.07952205e+00,  8.90299641e-02],\n",
              "       [ 3.89217368e+00, -1.09681329e+00,  6.32748878e-03,\n",
              "        -1.25277071e+00, -7.45425138e-01,  1.23242248e+00],\n",
              "       [ 3.29919800e+00,  3.07901817e-01,  1.52879602e+00,\n",
              "         4.13137324e-01, -7.25058131e-02, -1.24480603e+00],\n",
              "       [ 2.17391165e+00,  6.03740561e-01,  1.67662387e+00,\n",
              "        -2.62356642e-01, -6.46366994e-03,  1.41792471e+00],\n",
              "       [ 2.06651848e+00, -1.03997548e+00,  4.25880933e-01,\n",
              "        -4.31449978e-01, -1.30647238e+00, -5.61403780e-01],\n",
              "       [-6.27909416e-01,  6.23908309e-01, -6.33122840e-01,\n",
              "        -5.44418180e-01, -1.57482080e+00,  9.90934608e-01],\n",
              "       [ 2.81172393e+00,  8.25112381e-01, -4.57436740e-01,\n",
              "        -2.35587494e-02,  1.27833900e+00,  2.60422754e-01],\n",
              "       [-1.20929508e+00,  1.56667947e+00, -1.09621404e+00,\n",
              "         1.51747812e-01,  9.59067857e-01,  4.97852650e-01],\n",
              "       [ 7.78944852e-01,  2.09472481e+00, -9.68537608e-01,\n",
              "         1.54304222e+00,  7.35302068e-01, -1.43227003e+00],\n",
              "       [-2.17186894e+00, -5.56286740e-01, -1.25397432e+00,\n",
              "        -5.90382333e-01,  1.08651625e+00, -1.19632598e-01],\n",
              "       [-3.23854384e-01,  3.15179190e+00, -9.04208479e-01,\n",
              "         6.84678054e-01, -2.44563155e-01, -6.38808040e-01],\n",
              "       [ 3.61824480e+00, -1.45648799e+00,  1.39185585e+00,\n",
              "         1.53976922e-01,  6.96785132e-01, -1.28664596e+00],\n",
              "       [-3.54401838e+00, -8.76813670e-01, -4.46459126e-01,\n",
              "         9.58938893e-01,  6.49548031e-01,  2.76378783e-01],\n",
              "       [ 1.99004109e+00, -8.60659535e-01,  3.30143083e-01,\n",
              "         8.51505692e-02,  3.28925382e-01, -1.29656447e+00],\n",
              "       [-3.94460086e+00,  5.04656650e-01,  7.51622155e-01,\n",
              "        -1.12415703e-01,  4.92153821e-01,  7.19255604e-01],\n",
              "       [ 3.02693014e-01,  2.40605867e-01, -1.29113088e+00,\n",
              "         2.75037428e-01,  8.48281733e-01,  1.26273686e+00],\n",
              "       [-3.32567407e+00,  1.31691433e+00,  1.98281573e+00,\n",
              "        -2.03728302e-01,  6.67945338e-01, -2.44096863e-01],\n",
              "       [-6.59822423e-01, -8.98114689e-01,  1.30211763e+00,\n",
              "         5.66929053e-01,  7.15318952e-01, -1.31274470e+00],\n",
              "       [ 1.02367596e+00, -8.20104329e-01,  2.81290788e-01,\n",
              "        -5.85391121e-02, -4.56704950e-01, -9.23793485e-01],\n",
              "       [ 2.18555936e-01, -1.54738518e+00, -1.38175910e+00,\n",
              "         6.96957477e-02, -2.43089514e-03, -1.11087310e+00],\n",
              "       [ 3.24948338e+00,  1.51192641e+00, -2.43201478e+00,\n",
              "         1.29712718e+00, -1.34076752e+00, -7.82218026e-01],\n",
              "       [ 5.46125297e-01, -4.42033541e-01,  1.75272814e+00,\n",
              "        -1.31066385e-01,  2.42909935e+00,  3.39471634e-01],\n",
              "       [-2.95396783e+00, -1.55993561e+00, -2.77820526e-01,\n",
              "        -9.38633707e-02, -1.69449443e+00, -1.05188396e-01]])"
            ]
          },
          "metadata": {
            "tags": []
          },
          "execution_count": 42
        }
      ]
    },
    {
      "cell_type": "code",
      "metadata": {
        "id": "rM0vuEqARyoO"
      },
      "source": [
        "from sklearn.ensemble import GradientBoostingRegressor"
      ],
      "execution_count": null,
      "outputs": []
    },
    {
      "cell_type": "code",
      "metadata": {
        "id": "VE1AWjQNSTDD"
      },
      "source": [
        "from sklearn.model_selection import GridSearchCV\n",
        "reg= GridSearchCV(GradientBoostingRegressor(learning_rate=0.1), param_grid={'max_depth':[3],\n",
        "                                                                           'loss':['ls'],\n",
        "                                                                           'random_state':[0],\n",
        "                                                                           },return_train_score= False)"
      ],
      "execution_count": null,
      "outputs": []
    },
    {
      "cell_type": "code",
      "metadata": {
        "colab": {
          "base_uri": "https://localhost:8080/"
        },
        "id": "ZddB78YeovHV",
        "outputId": "0f532849-7251-4eed-e572-4eb5c2b26c77"
      },
      "source": [
        "reg.fit(x_train, y_train)"
      ],
      "execution_count": null,
      "outputs": [
        {
          "output_type": "execute_result",
          "data": {
            "text/plain": [
              "GridSearchCV(cv=None, error_score=nan,\n",
              "             estimator=GradientBoostingRegressor(alpha=0.9, ccp_alpha=0.0,\n",
              "                                                 criterion='friedman_mse',\n",
              "                                                 init=None, learning_rate=0.1,\n",
              "                                                 loss='ls', max_depth=3,\n",
              "                                                 max_features=None,\n",
              "                                                 max_leaf_nodes=None,\n",
              "                                                 min_impurity_decrease=0.0,\n",
              "                                                 min_impurity_split=None,\n",
              "                                                 min_samples_leaf=1,\n",
              "                                                 min_samples_split=2,\n",
              "                                                 min_weight_fraction_leaf=0.0,\n",
              "                                                 n_estimators=100,\n",
              "                                                 n_iter_no_change=None,\n",
              "                                                 presort='deprecated',\n",
              "                                                 random_state=None,\n",
              "                                                 subsample=1.0, tol=0.0001,\n",
              "                                                 validation_fraction=0.1,\n",
              "                                                 verbose=0, warm_start=False),\n",
              "             iid='deprecated', n_jobs=None,\n",
              "             param_grid={'loss': ['ls'], 'max_depth': [3], 'random_state': [0]},\n",
              "             pre_dispatch='2*n_jobs', refit=True, return_train_score=False,\n",
              "             scoring=None, verbose=0)"
            ]
          },
          "metadata": {
            "tags": []
          },
          "execution_count": 51
        }
      ]
    },
    {
      "cell_type": "code",
      "metadata": {
        "colab": {
          "base_uri": "https://localhost:8080/"
        },
        "id": "_6Fx-QYNo0i8",
        "outputId": "7c100661-0b26-4b32-c6c4-dc1f76cc5925"
      },
      "source": [
        "pred= reg.predict(x_test)\n",
        "pred"
      ],
      "execution_count": null,
      "outputs": [
        {
          "output_type": "execute_result",
          "data": {
            "text/plain": [
              "array([18.39609065, 21.85216334, 16.9909538 , 22.9629398 , 27.24727799,\n",
              "       16.31932192, 31.18472423, 17.66053114, 35.69441091, 20.05193656,\n",
              "       16.35098971, 21.52669331, 14.24898437, 24.70037472, 32.37841601,\n",
              "       16.07664673, 43.3988663 , 19.39236425, 25.15522787, 25.71668856,\n",
              "       10.68387281, 21.57457488, 12.60689264, 18.34379671, 15.52018482,\n",
              "        8.22923213, 17.89985024, 17.98723535, 20.56858067, 22.79220917,\n",
              "       12.5327773 , 26.84645556, 22.71311544, 20.29102736, 19.23603094,\n",
              "       48.78190449, 22.71787389, 14.68220094, 16.70922802, 21.21476516,\n",
              "       20.69517092, 20.95945856, 11.08368929, 20.72313726, 28.35906777,\n",
              "       11.10559686, 22.86171488, 16.75458994, 18.35484878, 27.2128027 ,\n",
              "       23.5812556 , 13.69165186, 13.37782978,  8.80062797, 13.19329807,\n",
              "       44.72891282, 19.76087086, 19.52399573, 33.48689036, 21.67300132,\n",
              "       19.36876921, 12.13168252, 33.48824293, 18.20878504, 47.79035884,\n",
              "       20.61442393,  9.11212413, 20.3172868 ,  9.24921398, 22.57096503,\n",
              "       32.26909913, 25.04055605, 25.72500931, 20.23338932, 32.20500803,\n",
              "       19.54355924, 13.47743621, 16.27405796, 10.31324575, 43.40283936,\n",
              "       13.28612112, 23.53776932, 18.17472426, 21.6441954 , 16.27666406,\n",
              "       32.46640127, 21.96054554, 15.92337306, 17.62596825, 48.67906414,\n",
              "       33.70612558, 12.18984002, 41.85379922, 16.37720815, 36.59507009,\n",
              "       27.84407352, 21.26586083, 24.74247228,  8.70278233,  9.27214287,\n",
              "       22.18798939, 30.87097522, 24.8514647 , 21.25854449, 32.10100215,\n",
              "       16.76095093, 22.12518323, 15.77659215, 16.09819023, 28.70249037,\n",
              "       13.18229048, 12.57189542, 22.35503549, 18.38668019, 20.50272149,\n",
              "       21.03915015, 32.16463872, 28.67022508, 16.32773215, 21.74257185,\n",
              "       31.46481093, 46.88187703, 24.13083531, 45.94848076, 20.83067955,\n",
              "       52.30311501, 24.9062012 , 28.93125297, 19.17071565, 19.47979505,\n",
              "       12.32424372, 12.60272444, 16.41427197, 16.81314815, 24.16770078,\n",
              "       14.85247732, 38.02146835, 47.2442149 , 20.08743798, 33.51009915,\n",
              "        8.6425923 , 34.81885018, 18.88836664, 35.35366805, 20.77914056,\n",
              "       35.98065591, 21.96279525, 20.99015597, 21.06885142, 19.2891605 ,\n",
              "       18.30303083, 23.91285933])"
            ]
          },
          "metadata": {
            "tags": []
          },
          "execution_count": 53
        }
      ]
    },
    {
      "cell_type": "code",
      "metadata": {
        "colab": {
          "base_uri": "https://localhost:8080/"
        },
        "id": "QLzDzqw1pAMS",
        "outputId": "af8b572c-ce6c-4812-99d3-7de32bf38bd1"
      },
      "source": [
        "reg.score(x_test, y_test)"
      ],
      "execution_count": null,
      "outputs": [
        {
          "output_type": "execute_result",
          "data": {
            "text/plain": [
              "0.8030108719617923"
            ]
          },
          "metadata": {
            "tags": []
          },
          "execution_count": 54
        }
      ]
    },
    {
      "cell_type": "code",
      "metadata": {
        "colab": {
          "base_uri": "https://localhost:8080/",
          "height": 151
        },
        "id": "n0wJiKkupJLO",
        "outputId": "a52a4ca4-aa06-4b1b-8326-274bcb5b2cc8"
      },
      "source": [
        "result_df= pd.DataFrame(reg.cv_results_)\n",
        "result_df.head()"
      ],
      "execution_count": null,
      "outputs": [
        {
          "output_type": "execute_result",
          "data": {
            "text/html": [
              "<div>\n",
              "<style scoped>\n",
              "    .dataframe tbody tr th:only-of-type {\n",
              "        vertical-align: middle;\n",
              "    }\n",
              "\n",
              "    .dataframe tbody tr th {\n",
              "        vertical-align: top;\n",
              "    }\n",
              "\n",
              "    .dataframe thead th {\n",
              "        text-align: right;\n",
              "    }\n",
              "</style>\n",
              "<table border=\"1\" class=\"dataframe\">\n",
              "  <thead>\n",
              "    <tr style=\"text-align: right;\">\n",
              "      <th></th>\n",
              "      <th>mean_fit_time</th>\n",
              "      <th>std_fit_time</th>\n",
              "      <th>mean_score_time</th>\n",
              "      <th>std_score_time</th>\n",
              "      <th>param_loss</th>\n",
              "      <th>param_max_depth</th>\n",
              "      <th>param_random_state</th>\n",
              "      <th>params</th>\n",
              "      <th>split0_test_score</th>\n",
              "      <th>split1_test_score</th>\n",
              "      <th>split2_test_score</th>\n",
              "      <th>split3_test_score</th>\n",
              "      <th>split4_test_score</th>\n",
              "      <th>mean_test_score</th>\n",
              "      <th>std_test_score</th>\n",
              "      <th>rank_test_score</th>\n",
              "    </tr>\n",
              "  </thead>\n",
              "  <tbody>\n",
              "    <tr>\n",
              "      <th>0</th>\n",
              "      <td>0.120035</td>\n",
              "      <td>0.007015</td>\n",
              "      <td>0.001263</td>\n",
              "      <td>0.000269</td>\n",
              "      <td>ls</td>\n",
              "      <td>3</td>\n",
              "      <td>0</td>\n",
              "      <td>{'loss': 'ls', 'max_depth': 3, 'random_state': 0}</td>\n",
              "      <td>0.88129</td>\n",
              "      <td>0.889405</td>\n",
              "      <td>0.922238</td>\n",
              "      <td>0.894258</td>\n",
              "      <td>0.830335</td>\n",
              "      <td>0.883505</td>\n",
              "      <td>0.029942</td>\n",
              "      <td>1</td>\n",
              "    </tr>\n",
              "  </tbody>\n",
              "</table>\n",
              "</div>"
            ],
            "text/plain": [
              "   mean_fit_time  std_fit_time  ...  std_test_score  rank_test_score\n",
              "0       0.120035      0.007015  ...        0.029942                1\n",
              "\n",
              "[1 rows x 16 columns]"
            ]
          },
          "metadata": {
            "tags": []
          },
          "execution_count": 55
        }
      ]
    },
    {
      "cell_type": "code",
      "metadata": {
        "colab": {
          "base_uri": "https://localhost:8080/"
        },
        "id": "UN1UYWGKpY7Z",
        "outputId": "b5e5ac25-e671-4e4c-816b-509620f28546"
      },
      "source": [
        "print(reg.best_score_)\n",
        "print(reg.best_params_)"
      ],
      "execution_count": null,
      "outputs": [
        {
          "output_type": "stream",
          "text": [
            "0.8835053814346084\n",
            "{'loss': 'ls', 'max_depth': 3, 'random_state': 0}\n"
          ],
          "name": "stdout"
        }
      ]
    },
    {
      "cell_type": "code",
      "metadata": {
        "colab": {
          "base_uri": "https://localhost:8080/"
        },
        "id": "E7I_uxQTpjzW",
        "outputId": "52328db8-2f0e-4d60-acb1-ce464f51485e"
      },
      "source": [
        "from sklearn.metrics import mean_squared_error\n",
        "error=mean_squared_error(y_test, pred)\n",
        "np.sqrt(error)"
      ],
      "execution_count": null,
      "outputs": [
        {
          "output_type": "execute_result",
          "data": {
            "text/plain": [
              "4.000145572962761"
            ]
          },
          "metadata": {
            "tags": []
          },
          "execution_count": 57
        }
      ]
    },
    {
      "cell_type": "code",
      "metadata": {
        "id": "_kAkwn1PTH2k"
      },
      "source": [
        "from sklearn.ensemble import RandomForestRegressor"
      ],
      "execution_count": null,
      "outputs": []
    },
    {
      "cell_type": "code",
      "metadata": {
        "id": "vx4K_e-XSXCL",
        "colab": {
          "base_uri": "https://localhost:8080/"
        },
        "outputId": "67911c23-6f02-4420-b71a-09d68cf11186"
      },
      "source": [
        "reg_1= GridSearchCV(RandomForestRegressor(),param_grid={\n",
        "                                                        'criterion': ['mse'],\n",
        "                                                        'random_state':[0]\n",
        "                                                        }, return_train_score= False)\n",
        "reg_1.fit(x_train, y_train)"
      ],
      "execution_count": null,
      "outputs": [
        {
          "output_type": "execute_result",
          "data": {
            "text/plain": [
              "GridSearchCV(cv=None, error_score=nan,\n",
              "             estimator=RandomForestRegressor(bootstrap=True, ccp_alpha=0.0,\n",
              "                                             criterion='mse', max_depth=None,\n",
              "                                             max_features='auto',\n",
              "                                             max_leaf_nodes=None,\n",
              "                                             max_samples=None,\n",
              "                                             min_impurity_decrease=0.0,\n",
              "                                             min_impurity_split=None,\n",
              "                                             min_samples_leaf=1,\n",
              "                                             min_samples_split=2,\n",
              "                                             min_weight_fraction_leaf=0.0,\n",
              "                                             n_estimators=100, n_jobs=None,\n",
              "                                             oob_score=False, random_state=None,\n",
              "                                             verbose=0, warm_start=False),\n",
              "             iid='deprecated', n_jobs=None,\n",
              "             param_grid={'criterion': ['mse'], 'random_state': [0]},\n",
              "             pre_dispatch='2*n_jobs', refit=True, return_train_score=False,\n",
              "             scoring=None, verbose=0)"
            ]
          },
          "metadata": {
            "tags": []
          },
          "execution_count": 62
        }
      ]
    },
    {
      "cell_type": "code",
      "metadata": {
        "id": "WxhWsyh8T1zv",
        "colab": {
          "base_uri": "https://localhost:8080/"
        },
        "outputId": "a7f2cc13-89c4-4aea-8f54-251db9aef05e"
      },
      "source": [
        "pred_1= reg_1.predict(x_test)\n",
        "pred_1"
      ],
      "execution_count": null,
      "outputs": [
        {
          "output_type": "execute_result",
          "data": {
            "text/plain": [
              "array([19.672, 23.881, 16.914, 22.257, 27.139, 15.91 , 27.246, 18.499,\n",
              "       32.936, 20.684, 14.971, 20.882, 14.602, 29.104, 31.14 , 15.071,\n",
              "       44.876, 19.587, 25.538, 25.561, 11.902, 21.451, 12.195, 16.667,\n",
              "       17.53 ,  8.485, 15.946, 15.18 , 21.044, 21.62 , 14.585, 26.264,\n",
              "       22.013, 20.311, 20.545, 47.561, 22.854, 16.139, 15.366, 20.917,\n",
              "       21.169, 20.96 , 12.237, 20.98 , 27.895, 11.739, 22.543, 15.826,\n",
              "       18.266, 27.885, 23.772, 14.201, 12.731, 11.086, 17.582, 36.931,\n",
              "       19.317, 20.041, 33.701, 22.335, 20.666, 11.938, 29.294, 19.968,\n",
              "       48.412, 21.651,  9.837, 20.858, 10.72 , 22.78 , 30.282, 25.539,\n",
              "       26.341, 20.677, 34.035, 20.432, 14.197, 14.844, 11.155, 45.703,\n",
              "       14.679, 24.913, 20.567, 21.174, 15.726, 31.568, 23.809, 14.855,\n",
              "       20.443, 48.401, 34.49 , 11.8  , 40.529, 15.523, 35.597, 30.352,\n",
              "       21.293, 22.622,  9.509,  8.751, 22.322, 29.566, 24.735, 20.323,\n",
              "       33.144, 14.746, 23.503, 17.412, 16.744, 28.805, 13.008, 13.884,\n",
              "       23.155, 19.123, 20.054, 20.166, 31.002, 26.809, 15.764, 21.24 ,\n",
              "       32.727, 46.514, 23.76 , 45.73 , 20.719, 49.374, 24.607, 28.166,\n",
              "       18.314, 20.418, 10.77 , 12.702, 15.122, 17.374, 24.515, 14.291,\n",
              "       36.863, 46.835, 19.829, 32.86 ,  8.498, 33.283, 19.919, 34.57 ,\n",
              "       21.262, 35.208, 21.289, 21.341, 21.178, 19.042, 18.721, 24.405])"
            ]
          },
          "metadata": {
            "tags": []
          },
          "execution_count": 63
        }
      ]
    },
    {
      "cell_type": "code",
      "metadata": {
        "id": "sQMfHdPLUDEF",
        "colab": {
          "base_uri": "https://localhost:8080/"
        },
        "outputId": "bbfada6e-9a11-4d4e-cbad-cb381a19f363"
      },
      "source": [
        "reg_1.score(x_test, y_test)"
      ],
      "execution_count": null,
      "outputs": [
        {
          "output_type": "execute_result",
          "data": {
            "text/plain": [
              "0.8044886977593242"
            ]
          },
          "metadata": {
            "tags": []
          },
          "execution_count": 64
        }
      ]
    },
    {
      "cell_type": "code",
      "metadata": {
        "colab": {
          "base_uri": "https://localhost:8080/",
          "height": 151
        },
        "id": "EGMCD7A5yNJx",
        "outputId": "b40af6de-7e64-40bc-d31a-f458fe063bb5"
      },
      "source": [
        "result_df_1= pd.DataFrame(reg.cv_results_)\n",
        "result_df_1.head()"
      ],
      "execution_count": null,
      "outputs": [
        {
          "output_type": "execute_result",
          "data": {
            "text/html": [
              "<div>\n",
              "<style scoped>\n",
              "    .dataframe tbody tr th:only-of-type {\n",
              "        vertical-align: middle;\n",
              "    }\n",
              "\n",
              "    .dataframe tbody tr th {\n",
              "        vertical-align: top;\n",
              "    }\n",
              "\n",
              "    .dataframe thead th {\n",
              "        text-align: right;\n",
              "    }\n",
              "</style>\n",
              "<table border=\"1\" class=\"dataframe\">\n",
              "  <thead>\n",
              "    <tr style=\"text-align: right;\">\n",
              "      <th></th>\n",
              "      <th>mean_fit_time</th>\n",
              "      <th>std_fit_time</th>\n",
              "      <th>mean_score_time</th>\n",
              "      <th>std_score_time</th>\n",
              "      <th>param_loss</th>\n",
              "      <th>param_max_depth</th>\n",
              "      <th>param_random_state</th>\n",
              "      <th>params</th>\n",
              "      <th>split0_test_score</th>\n",
              "      <th>split1_test_score</th>\n",
              "      <th>split2_test_score</th>\n",
              "      <th>split3_test_score</th>\n",
              "      <th>split4_test_score</th>\n",
              "      <th>mean_test_score</th>\n",
              "      <th>std_test_score</th>\n",
              "      <th>rank_test_score</th>\n",
              "    </tr>\n",
              "  </thead>\n",
              "  <tbody>\n",
              "    <tr>\n",
              "      <th>0</th>\n",
              "      <td>0.120035</td>\n",
              "      <td>0.007015</td>\n",
              "      <td>0.001263</td>\n",
              "      <td>0.000269</td>\n",
              "      <td>ls</td>\n",
              "      <td>3</td>\n",
              "      <td>0</td>\n",
              "      <td>{'loss': 'ls', 'max_depth': 3, 'random_state': 0}</td>\n",
              "      <td>0.88129</td>\n",
              "      <td>0.889405</td>\n",
              "      <td>0.922238</td>\n",
              "      <td>0.894258</td>\n",
              "      <td>0.830335</td>\n",
              "      <td>0.883505</td>\n",
              "      <td>0.029942</td>\n",
              "      <td>1</td>\n",
              "    </tr>\n",
              "  </tbody>\n",
              "</table>\n",
              "</div>"
            ],
            "text/plain": [
              "   mean_fit_time  std_fit_time  ...  std_test_score  rank_test_score\n",
              "0       0.120035      0.007015  ...        0.029942                1\n",
              "\n",
              "[1 rows x 16 columns]"
            ]
          },
          "metadata": {
            "tags": []
          },
          "execution_count": 67
        }
      ]
    },
    {
      "cell_type": "code",
      "metadata": {
        "colab": {
          "base_uri": "https://localhost:8080/",
          "height": 80
        },
        "id": "rIdZqAYLzQMD",
        "outputId": "112795ee-cca7-4397-d9d5-2b2a7d9ef97d"
      },
      "source": [
        "result_df_1[['param_max_depth','param_random_state','mean_test_score']].head()"
      ],
      "execution_count": null,
      "outputs": [
        {
          "output_type": "execute_result",
          "data": {
            "text/html": [
              "<div>\n",
              "<style scoped>\n",
              "    .dataframe tbody tr th:only-of-type {\n",
              "        vertical-align: middle;\n",
              "    }\n",
              "\n",
              "    .dataframe tbody tr th {\n",
              "        vertical-align: top;\n",
              "    }\n",
              "\n",
              "    .dataframe thead th {\n",
              "        text-align: right;\n",
              "    }\n",
              "</style>\n",
              "<table border=\"1\" class=\"dataframe\">\n",
              "  <thead>\n",
              "    <tr style=\"text-align: right;\">\n",
              "      <th></th>\n",
              "      <th>param_max_depth</th>\n",
              "      <th>param_random_state</th>\n",
              "      <th>mean_test_score</th>\n",
              "    </tr>\n",
              "  </thead>\n",
              "  <tbody>\n",
              "    <tr>\n",
              "      <th>0</th>\n",
              "      <td>3</td>\n",
              "      <td>0</td>\n",
              "      <td>0.883505</td>\n",
              "    </tr>\n",
              "  </tbody>\n",
              "</table>\n",
              "</div>"
            ],
            "text/plain": [
              "  param_max_depth param_random_state  mean_test_score\n",
              "0               3                  0         0.883505"
            ]
          },
          "metadata": {
            "tags": []
          },
          "execution_count": 69
        }
      ]
    },
    {
      "cell_type": "code",
      "metadata": {
        "colab": {
          "base_uri": "https://localhost:8080/"
        },
        "id": "qm-vs1b-z--c",
        "outputId": "2ee1b786-b8f3-42aa-bd0f-ab596ee983f5"
      },
      "source": [
        "print(reg_1.best_score_)\n",
        "print(reg_1.best_params_)"
      ],
      "execution_count": null,
      "outputs": [
        {
          "output_type": "stream",
          "text": [
            "0.8657411397405047\n",
            "{'criterion': 'mse', 'random_state': 0}\n"
          ],
          "name": "stdout"
        }
      ]
    },
    {
      "cell_type": "code",
      "metadata": {
        "colab": {
          "base_uri": "https://localhost:8080/"
        },
        "id": "uzgONkt90QSa",
        "outputId": "e8fa5dd8-1ece-4103-b457-5cdc42a191f7"
      },
      "source": [
        "error_1= mean_squared_error(y_test, pred_1)\n",
        "np.sqrt(error_1)"
      ],
      "execution_count": null,
      "outputs": [
        {
          "output_type": "execute_result",
          "data": {
            "text/plain": [
              "3.985112643689605"
            ]
          },
          "metadata": {
            "tags": []
          },
          "execution_count": 71
        }
      ]
    },
    {
      "cell_type": "code",
      "metadata": {
        "id": "Li8VDIxU0gV-"
      },
      "source": [
        "from sklearn.neighbors import KNeighborsRegressor"
      ],
      "execution_count": null,
      "outputs": []
    },
    {
      "cell_type": "code",
      "metadata": {
        "colab": {
          "base_uri": "https://localhost:8080/"
        },
        "id": "nNDwcOlB0tGp",
        "outputId": "ec279bff-e369-4a8a-ffc8-3681f34a7a19"
      },
      "source": [
        "from sklearn.model_selection import GridSearchCV\n",
        "reg_2= GridSearchCV(KNeighborsRegressor(), param_grid={'n_neighbors': [5],\n",
        "                                                       'weights':['uniform'],\n",
        "                                                       'algorithm':['auto'],\n",
        "                                                       'leaf_size':[30]\n",
        "                                                       },return_train_score= False)\n",
        "reg_2.fit(x_train, y_train)"
      ],
      "execution_count": null,
      "outputs": [
        {
          "output_type": "execute_result",
          "data": {
            "text/plain": [
              "GridSearchCV(cv=None, error_score=nan,\n",
              "             estimator=KNeighborsRegressor(algorithm='auto', leaf_size=30,\n",
              "                                           metric='minkowski',\n",
              "                                           metric_params=None, n_jobs=None,\n",
              "                                           n_neighbors=5, p=2,\n",
              "                                           weights='uniform'),\n",
              "             iid='deprecated', n_jobs=None,\n",
              "             param_grid={'algorithm': ['auto'], 'leaf_size': [30],\n",
              "                         'n_neighbors': [5], 'weights': ['uniform']},\n",
              "             pre_dispatch='2*n_jobs', refit=True, return_train_score=False,\n",
              "             scoring=None, verbose=0)"
            ]
          },
          "metadata": {
            "tags": []
          },
          "execution_count": 73
        }
      ]
    },
    {
      "cell_type": "code",
      "metadata": {
        "colab": {
          "base_uri": "https://localhost:8080/"
        },
        "id": "ALiU94JI79TJ",
        "outputId": "1029a80a-61ef-4dd5-ef30-7eadcbceaeff"
      },
      "source": [
        "pred_2=reg_2.predict(x_test)\n",
        "pred_2"
      ],
      "execution_count": null,
      "outputs": [
        {
          "output_type": "execute_result",
          "data": {
            "text/plain": [
              "array([21.08, 23.38, 13.56, 24.02, 27.64, 12.46,  8.3 , 18.46, 27.92,\n",
              "       21.88, 15.66, 20.96, 15.66, 21.58, 34.8 , 16.12, 38.88, 20.78,\n",
              "       27.06, 26.04, 11.34, 19.86, 15.96, 15.54, 20.1 , 11.56, 16.5 ,\n",
              "       14.06, 20.42, 20.02, 13.32, 28.54, 24.3 , 18.52, 19.4 , 38.44,\n",
              "       22.22, 17.26, 15.76, 18.4 , 20.42, 20.12, 12.38, 20.22, 24.66,\n",
              "       10.28, 20.96, 15.52, 18.96, 22.8 , 22.48, 16.08, 15.9 , 12.46,\n",
              "       17.52, 24.94, 22.46, 19.36, 31.34, 22.04, 19.54, 15.  , 26.84,\n",
              "       21.08, 36.66, 23.84, 12.12, 21.52, 12.12, 27.46, 25.4 , 20.74,\n",
              "       23.  , 24.06, 19.38, 20.96, 23.14, 16.44, 13.04, 34.  , 14.12,\n",
              "       24.16, 24.02, 21.5 , 15.66, 27.62, 24.1 , 16.26, 22.28, 43.02,\n",
              "       29.28, 14.44, 34.22, 17.58, 33.04, 14.36, 20.88, 23.54, 13.44,\n",
              "        9.26, 24.68, 28.18, 24.28, 24.56, 26.3 , 15.3 , 19.18, 13.44,\n",
              "       14.6 , 27.38, 10.22, 13.68, 15.3 , 20.  , 20.32, 22.18, 24.48,\n",
              "       20.14, 15.12, 21.04, 29.56, 34.42, 24.8 , 38.2 , 22.08, 48.02,\n",
              "       21.56, 27.06, 17.78, 20.34, 10.5 , 12.42, 14.42, 15.64, 24.38,\n",
              "       14.26, 36.1 , 24.16, 22.36, 41.6 ,  7.86, 26.74, 12.86, 28.18,\n",
              "       22.18, 30.96, 20.84, 18.84, 19.78, 16.12, 17.9 , 22.12])"
            ]
          },
          "metadata": {
            "tags": []
          },
          "execution_count": 74
        }
      ]
    },
    {
      "cell_type": "code",
      "metadata": {
        "colab": {
          "base_uri": "https://localhost:8080/"
        },
        "id": "QuTVn6H58Kjz",
        "outputId": "ece4bc09-9e68-4090-d4b8-4b186e234865"
      },
      "source": [
        "reg_2.score(x_test, y_test)"
      ],
      "execution_count": null,
      "outputs": [
        {
          "output_type": "execute_result",
          "data": {
            "text/plain": [
              "0.725971003808607"
            ]
          },
          "metadata": {
            "tags": []
          },
          "execution_count": 75
        }
      ]
    },
    {
      "cell_type": "code",
      "metadata": {
        "id": "_--0Mi32WMPm",
        "colab": {
          "base_uri": "https://localhost:8080/",
          "height": 151
        },
        "outputId": "e0788796-af12-4a00-d366-65bee5299b43"
      },
      "source": [
        "result_df_2= pd.DataFrame(reg.cv_results_)\n",
        "result_df_2.head()"
      ],
      "execution_count": null,
      "outputs": [
        {
          "output_type": "execute_result",
          "data": {
            "text/html": [
              "<div>\n",
              "<style scoped>\n",
              "    .dataframe tbody tr th:only-of-type {\n",
              "        vertical-align: middle;\n",
              "    }\n",
              "\n",
              "    .dataframe tbody tr th {\n",
              "        vertical-align: top;\n",
              "    }\n",
              "\n",
              "    .dataframe thead th {\n",
              "        text-align: right;\n",
              "    }\n",
              "</style>\n",
              "<table border=\"1\" class=\"dataframe\">\n",
              "  <thead>\n",
              "    <tr style=\"text-align: right;\">\n",
              "      <th></th>\n",
              "      <th>mean_fit_time</th>\n",
              "      <th>std_fit_time</th>\n",
              "      <th>mean_score_time</th>\n",
              "      <th>std_score_time</th>\n",
              "      <th>param_loss</th>\n",
              "      <th>param_max_depth</th>\n",
              "      <th>param_random_state</th>\n",
              "      <th>params</th>\n",
              "      <th>split0_test_score</th>\n",
              "      <th>split1_test_score</th>\n",
              "      <th>split2_test_score</th>\n",
              "      <th>split3_test_score</th>\n",
              "      <th>split4_test_score</th>\n",
              "      <th>mean_test_score</th>\n",
              "      <th>std_test_score</th>\n",
              "      <th>rank_test_score</th>\n",
              "    </tr>\n",
              "  </thead>\n",
              "  <tbody>\n",
              "    <tr>\n",
              "      <th>0</th>\n",
              "      <td>0.120035</td>\n",
              "      <td>0.007015</td>\n",
              "      <td>0.001263</td>\n",
              "      <td>0.000269</td>\n",
              "      <td>ls</td>\n",
              "      <td>3</td>\n",
              "      <td>0</td>\n",
              "      <td>{'loss': 'ls', 'max_depth': 3, 'random_state': 0}</td>\n",
              "      <td>0.88129</td>\n",
              "      <td>0.889405</td>\n",
              "      <td>0.922238</td>\n",
              "      <td>0.894258</td>\n",
              "      <td>0.830335</td>\n",
              "      <td>0.883505</td>\n",
              "      <td>0.029942</td>\n",
              "      <td>1</td>\n",
              "    </tr>\n",
              "  </tbody>\n",
              "</table>\n",
              "</div>"
            ],
            "text/plain": [
              "   mean_fit_time  std_fit_time  ...  std_test_score  rank_test_score\n",
              "0       0.120035      0.007015  ...        0.029942                1\n",
              "\n",
              "[1 rows x 16 columns]"
            ]
          },
          "metadata": {
            "tags": []
          },
          "execution_count": 76
        }
      ]
    },
    {
      "cell_type": "code",
      "metadata": {
        "id": "c2O9YzmjWzWM",
        "colab": {
          "base_uri": "https://localhost:8080/"
        },
        "outputId": "52fbe900-6b97-4476-e19e-6a547dc67723"
      },
      "source": [
        "print(reg_2.best_score_)\n",
        "print(reg_2+.best_params_)"
      ],
      "execution_count": null,
      "outputs": [
        {
          "output_type": "stream",
          "text": [
            "0.6740670283533785\n",
            "{'algorithm': 'auto', 'leaf_size': 30, 'n_neighbors': 5, 'weights': 'uniform'}\n"
          ],
          "name": "stdout"
        }
      ]
    },
    {
      "cell_type": "code",
      "metadata": {
        "colab": {
          "base_uri": "https://localhost:8080/"
        },
        "id": "jLiHbu6A8xc-",
        "outputId": "316636d1-a9ff-4a12-a0cb-f9a064c67cd6"
      },
      "source": [
        "error_2= mean_squared_error(y_test, pred_2)\n",
        "np.sqrt(error_2)"
      ],
      "execution_count": null,
      "outputs": [
        {
          "output_type": "execute_result",
          "data": {
            "text/plain": [
              "4.717945583229611"
            ]
          },
          "metadata": {
            "tags": []
          },
          "execution_count": 78
        }
      ]
    },
    {
      "cell_type": "code",
      "metadata": {
        "id": "ZYW5M4xWD1OD"
      },
      "source": [
        "from sklearn.svm import SVR\n"
      ],
      "execution_count": null,
      "outputs": []
    },
    {
      "cell_type": "code",
      "metadata": {
        "id": "-jn7lgR7HCWi"
      },
      "source": [
        "reg_4= GridSearchCV(SVR(), param_grid={\n",
        "       'C':[1.0],\n",
        "       'kernel':['rbf'],\n",
        "       'gamma':['scale'],\n",
        "       'degree':[3]\n",
        "       },\n",
        "       cv=5, return_train_score= False\n",
        "reg_4.fit(x_train, y_train)\n",
        "     "
      ],
      "execution_count": null,
      "outputs": []
    },
    {
      "cell_type": "code",
      "metadata": {
        "id": "LyiFkCcyC0Nb"
      },
      "source": [
        "pred_3= reg_3.predict(x_test)"
      ],
      "execution_count": null,
      "outputs": []
    },
    {
      "cell_type": "code",
      "metadata": {
        "id": "1sdn84JEC7VW"
      },
      "source": [
        "reg_3.score(x_test, y_test)"
      ],
      "execution_count": null,
      "outputs": []
    },
    {
      "cell_type": "code",
      "metadata": {
        "id": "VQNJn6nXDEMc"
      },
      "source": [
        "result_df_3= pd.DataFrame(reg_3.cv_results_)\n",
        "result_df_3.head()"
      ],
      "execution_count": null,
      "outputs": []
    },
    {
      "cell_type": "code",
      "metadata": {
        "id": "x3NLdKqbDTzS"
      },
      "source": [
        "result_df_3[['param_kernel', 'param_gamma', 'param_degree', 'mean_test_score']].head()"
      ],
      "execution_count": null,
      "outputs": []
    },
    {
      "cell_type": "code",
      "metadata": {
        "id": "Qi_6eVBRDn37"
      },
      "source": [
        "print(reg_3.best_params_)\n",
        "print(reg_3.best_score_)"
      ],
      "execution_count": null,
      "outputs": []
    },
    {
      "cell_type": "code",
      "metadata": {
        "id": "gjjPJCw5EW21"
      },
      "source": [
        "error_3= mean_squared_error(y_test, pred_3)\n",
        "np.sqrt(error_3)"
      ],
      "execution_count": null,
      "outputs": []
    }
  ]
}
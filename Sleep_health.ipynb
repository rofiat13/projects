{
  "cells": [
    {
      "cell_type": "markdown",
      "metadata": {
        "id": "view-in-github",
        "colab_type": "text"
      },
      "source": [
        "<a href=\"https://colab.research.google.com/github/rofiat13/data-science-ML-projects/blob/main/Sleep_health.ipynb\" target=\"_parent\"><img src=\"https://colab.research.google.com/assets/colab-badge.svg\" alt=\"Open In Colab\"/></a>"
      ]
    },
    {
      "source": [
        "![insomnia](insomnia.jpg)\n"
      ],
      "metadata": {
        "id": "fe7ecb8d-ad0b-40c0-b404-8b4c339d1c8b"
      },
      "id": "fe7ecb8d-ad0b-40c0-b404-8b4c339d1c8b",
      "cell_type": "markdown"
    },
    {
      "source": [
        "Your client, SleepInc, has shared anonymized sleep data from their hot new sleep tracking app SleepScope. As their data science consultant, your mission is to analyze the lifestyle survey data with Python to discover relationships between exercise, gender, occupation, and sleep quality. See if you can identify patterns leading to insights on sleep quality.\n",
        "\n",
        "## 💾 The data: sleep_health_data.csv\n",
        "\n",
        "SleepInc has provided you with an anonymized dataset of sleep and lifestyle metrics for 374 individuals. This dataset contains average values for each person calculated over the past six months. The data is saved as `sleep_health_data.csv`.\n",
        "\n",
        "The dataset includes 13 columns covering sleep duration, quality, disorders, exercise, stress, diet, demographics, and other factors related to sleep health.\n",
        "\n",
        "| Column | Description |\n",
        "|---------|----------------------------------------|  \n",
        "| `Person ID` | An identifier for each individual. |\n",
        "| `Gender` | The gender of the person (Male/Female). |  \n",
        "| `Age` | The age of the person in years. |\n",
        "| `Occupation` | The occupation or profession of the person. |\n",
        "| `Sleep Duration (hours)` | The average number of hours the person sleeps per day. |\n",
        "| `Quality of Sleep (scale: 1-10)` | A subjective rating of the quality of sleep, ranging from 1 to 10. |\n",
        "| `Physical Activity Level (minutes/day)` | The average number of minutes the person engages in physical activity daily. |  \n",
        "| `Stress Level (scale: 1-10)` | A subjective rating of the stress level experienced by the person, ranging from 1 to 10. |\n",
        "| `BMI Category` | The BMI category of the person (e.g., Underweight, Normal, Overweight). |\n",
        "| `Blood Pressure (systolic/diastolic)` | The average blood pressure measurement of the person, indicated as systolic pressure over diastolic pressure. |\n",
        "| `Heart Rate (bpm)` | The average resting heart rate of the person in beats per minute. |\n",
        "| `Daily Steps` | The average number of steps the person takes per day. |\n",
        "| `Sleep Disorder` | The presence or absence of a sleep disorder in the person (None, Insomnia, Sleep Apnea). |"
      ],
      "metadata": {
        "id": "04929432-e076-40ef-b2a7-8e67dc7ba1a3"
      },
      "id": "04929432-e076-40ef-b2a7-8e67dc7ba1a3",
      "cell_type": "markdown"
    },
    {
      "source": [
        "# Start coding here\n",
        "# Use as many cells as you need\n",
        "import pandas as pd"
      ],
      "metadata": {
        "executionCancelledAt": null,
        "executionTime": 10,
        "lastExecutedAt": 1705326023586,
        "lastScheduledRunId": null,
        "lastSuccessfullyExecutedCode": "# Start coding here\n# Use as many cells as you need\nimport pandas as pd",
        "id": "a622f61f-54d5-468a-83b6-41f0ff404278"
      },
      "id": "a622f61f-54d5-468a-83b6-41f0ff404278",
      "cell_type": "code",
      "execution_count": null,
      "outputs": []
    },
    {
      "source": [
        "sleep_data = pd.read_csv('sleep_health_data.csv')\n",
        "sleep_data.head()"
      ],
      "metadata": {
        "executionCancelledAt": null,
        "executionTime": 48,
        "lastExecutedAt": 1705326023634,
        "lastScheduledRunId": null,
        "lastSuccessfullyExecutedCode": "sleep_data = pd.read_csv('sleep_health_data.csv')\nsleep_data.head()",
        "visualizeDataframe": false,
        "chartConfig": {
          "bar": {
            "hasRoundedCorners": true,
            "stacked": false
          },
          "type": "bar",
          "version": "v1"
        },
        "outputsMetadata": {
          "0": {
            "height": 215,
            "type": "dataFrame"
          }
        },
        "id": "9e8a7fed-1606-4fe0-97b2-11b9dec4f8ef",
        "outputId": "ef281869-e544-47a0-b1c8-71fdbdbfe0b5"
      },
      "cell_type": "code",
      "id": "9e8a7fed-1606-4fe0-97b2-11b9dec4f8ef",
      "execution_count": null,
      "outputs": [
        {
          "output_type": "execute_result",
          "data": {
            "application/com.datacamp.data-table.v2+json": {
              "table": {
                "schema": {
                  "fields": [
                    {
                      "name": "index",
                      "type": "integer"
                    },
                    {
                      "name": "Person ID",
                      "type": "integer"
                    },
                    {
                      "name": "Gender",
                      "type": "string"
                    },
                    {
                      "name": "Age",
                      "type": "integer"
                    },
                    {
                      "name": "Occupation",
                      "type": "string"
                    },
                    {
                      "name": "Sleep Duration",
                      "type": "number"
                    },
                    {
                      "name": "Quality of Sleep",
                      "type": "integer"
                    },
                    {
                      "name": "Physical Activity Level",
                      "type": "integer"
                    },
                    {
                      "name": "Stress Level",
                      "type": "integer"
                    },
                    {
                      "name": "BMI Category",
                      "type": "string"
                    },
                    {
                      "name": "Blood Pressure",
                      "type": "string"
                    },
                    {
                      "name": "Heart Rate",
                      "type": "integer"
                    },
                    {
                      "name": "Daily Steps",
                      "type": "integer"
                    },
                    {
                      "name": "Sleep Disorder",
                      "type": "string"
                    }
                  ],
                  "primaryKey": [
                    "index"
                  ],
                  "pandas_version": "1.4.0"
                },
                "data": {
                  "index": [
                    0,
                    1,
                    2,
                    3,
                    4
                  ],
                  "Person ID": [
                    1,
                    2,
                    3,
                    4,
                    5
                  ],
                  "Gender": [
                    "Male",
                    "Male",
                    "Male",
                    "Male",
                    "Male"
                  ],
                  "Age": [
                    27,
                    28,
                    28,
                    28,
                    28
                  ],
                  "Occupation": [
                    "Software Engineer",
                    "Doctor",
                    "Doctor",
                    "Sales Representative",
                    "Sales Representative"
                  ],
                  "Sleep Duration": [
                    6.1,
                    6.2,
                    6.2,
                    5.9,
                    5.9
                  ],
                  "Quality of Sleep": [
                    6,
                    6,
                    6,
                    4,
                    4
                  ],
                  "Physical Activity Level": [
                    42,
                    60,
                    60,
                    30,
                    30
                  ],
                  "Stress Level": [
                    6,
                    8,
                    8,
                    8,
                    8
                  ],
                  "BMI Category": [
                    "Overweight",
                    "Normal",
                    "Normal",
                    "Obese",
                    "Obese"
                  ],
                  "Blood Pressure": [
                    "126/83",
                    "125/80",
                    "125/80",
                    "140/90",
                    "140/90"
                  ],
                  "Heart Rate": [
                    77,
                    75,
                    75,
                    85,
                    85
                  ],
                  "Daily Steps": [
                    4200,
                    10000,
                    10000,
                    3000,
                    3000
                  ],
                  "Sleep Disorder": [
                    "None",
                    "None",
                    "None",
                    "Sleep Apnea",
                    "Sleep Apnea"
                  ]
                }
              },
              "total_rows": 5,
              "truncation_type": null
            },
            "text/plain": "   Person ID Gender  Age  ... Heart Rate  Daily Steps  Sleep Disorder\n0          1   Male   27  ...         77         4200            None\n1          2   Male   28  ...         75        10000            None\n2          3   Male   28  ...         75        10000            None\n3          4   Male   28  ...         85         3000     Sleep Apnea\n4          5   Male   28  ...         85         3000     Sleep Apnea\n\n[5 rows x 13 columns]",
            "text/html": "<div>\n<style scoped>\n    .dataframe tbody tr th:only-of-type {\n        vertical-align: middle;\n    }\n\n    .dataframe tbody tr th {\n        vertical-align: top;\n    }\n\n    .dataframe thead th {\n        text-align: right;\n    }\n</style>\n<table border=\"1\" class=\"dataframe\">\n  <thead>\n    <tr style=\"text-align: right;\">\n      <th></th>\n      <th>Person ID</th>\n      <th>Gender</th>\n      <th>Age</th>\n      <th>Occupation</th>\n      <th>Sleep Duration</th>\n      <th>Quality of Sleep</th>\n      <th>Physical Activity Level</th>\n      <th>Stress Level</th>\n      <th>BMI Category</th>\n      <th>Blood Pressure</th>\n      <th>Heart Rate</th>\n      <th>Daily Steps</th>\n      <th>Sleep Disorder</th>\n    </tr>\n  </thead>\n  <tbody>\n    <tr>\n      <th>0</th>\n      <td>1</td>\n      <td>Male</td>\n      <td>27</td>\n      <td>Software Engineer</td>\n      <td>6.1</td>\n      <td>6</td>\n      <td>42</td>\n      <td>6</td>\n      <td>Overweight</td>\n      <td>126/83</td>\n      <td>77</td>\n      <td>4200</td>\n      <td>None</td>\n    </tr>\n    <tr>\n      <th>1</th>\n      <td>2</td>\n      <td>Male</td>\n      <td>28</td>\n      <td>Doctor</td>\n      <td>6.2</td>\n      <td>6</td>\n      <td>60</td>\n      <td>8</td>\n      <td>Normal</td>\n      <td>125/80</td>\n      <td>75</td>\n      <td>10000</td>\n      <td>None</td>\n    </tr>\n    <tr>\n      <th>2</th>\n      <td>3</td>\n      <td>Male</td>\n      <td>28</td>\n      <td>Doctor</td>\n      <td>6.2</td>\n      <td>6</td>\n      <td>60</td>\n      <td>8</td>\n      <td>Normal</td>\n      <td>125/80</td>\n      <td>75</td>\n      <td>10000</td>\n      <td>None</td>\n    </tr>\n    <tr>\n      <th>3</th>\n      <td>4</td>\n      <td>Male</td>\n      <td>28</td>\n      <td>Sales Representative</td>\n      <td>5.9</td>\n      <td>4</td>\n      <td>30</td>\n      <td>8</td>\n      <td>Obese</td>\n      <td>140/90</td>\n      <td>85</td>\n      <td>3000</td>\n      <td>Sleep Apnea</td>\n    </tr>\n    <tr>\n      <th>4</th>\n      <td>5</td>\n      <td>Male</td>\n      <td>28</td>\n      <td>Sales Representative</td>\n      <td>5.9</td>\n      <td>4</td>\n      <td>30</td>\n      <td>8</td>\n      <td>Obese</td>\n      <td>140/90</td>\n      <td>85</td>\n      <td>3000</td>\n      <td>Sleep Apnea</td>\n    </tr>\n  </tbody>\n</table>\n</div>"
          },
          "metadata": {},
          "execution_count": 151
        }
      ]
    },
    {
      "source": [
        "sleep_data['Occupation'].unique()"
      ],
      "metadata": {
        "executionCancelledAt": null,
        "executionTime": 48,
        "lastExecutedAt": 1705326023682,
        "lastScheduledRunId": null,
        "lastSuccessfullyExecutedCode": "sleep_data['Occupation'].unique()",
        "id": "d1b98d2c-4eb9-4e03-8840-c41141949643",
        "outputId": "4cd73b26-3309-4933-ec94-0be17cb7b965"
      },
      "cell_type": "code",
      "id": "d1b98d2c-4eb9-4e03-8840-c41141949643",
      "execution_count": null,
      "outputs": [
        {
          "output_type": "execute_result",
          "data": {
            "text/plain": "array(['Software Engineer', 'Doctor', 'Sales Representative', 'Teacher',\n       'Nurse', 'Engineer', 'Accountant', 'Scientist', 'Lawyer',\n       'Salesperson', 'Manager'], dtype=object)"
          },
          "metadata": {},
          "execution_count": 152
        }
      ]
    },
    {
      "source": [
        "sleep_duration= sleep_data.groupby('Occupation')['Sleep Duration'].mean()\n",
        "print(sleep_duration)"
      ],
      "metadata": {
        "executionCancelledAt": null,
        "executionTime": 49,
        "lastExecutedAt": 1705326023731,
        "lastScheduledRunId": null,
        "lastSuccessfullyExecutedCode": "sleep_duration= sleep_data.groupby('Occupation')['Sleep Duration'].mean()\nprint(sleep_duration)",
        "outputsMetadata": {
          "0": {
            "height": 277,
            "type": "stream"
          }
        },
        "id": "574cc437-12ba-45ca-9255-c91f3c3de203",
        "outputId": "2707fa96-1268-4d42-e7ec-7c85fb49fb07"
      },
      "cell_type": "code",
      "id": "574cc437-12ba-45ca-9255-c91f3c3de203",
      "execution_count": null,
      "outputs": [
        {
          "output_type": "stream",
          "name": "stdout",
          "text": "Occupation\nAccountant              7.113514\nDoctor                  6.970423\nEngineer                7.987302\nLawyer                  7.410638\nManager                 6.900000\nNurse                   7.063014\nSales Representative    5.900000\nSalesperson             6.403125\nScientist               6.000000\nSoftware Engineer       6.750000\nTeacher                 6.690000\nName: Sleep Duration, dtype: float64\n"
        }
      ]
    },
    {
      "source": [
        "lowest_sleep_occ = sleep_duration.sort_values().index[0]\n",
        "lowest_sleep_occ"
      ],
      "metadata": {
        "executionCancelledAt": null,
        "executionTime": 47,
        "lastExecutedAt": 1705326023778,
        "lastScheduledRunId": null,
        "lastSuccessfullyExecutedCode": "lowest_sleep_occ = sleep_duration.sort_values().index[0]\nlowest_sleep_occ",
        "outputsMetadata": {
          "0": {
            "height": 77,
            "type": "stream"
          }
        },
        "id": "831643b8-6be5-45d4-b752-c786df9b8b6d",
        "outputId": "01d5c8af-d06c-4ae6-fd72-3d0fc4e350cd"
      },
      "cell_type": "code",
      "id": "831643b8-6be5-45d4-b752-c786df9b8b6d",
      "execution_count": null,
      "outputs": [
        {
          "output_type": "execute_result",
          "data": {
            "text/plain": "'Sales Representative'"
          },
          "metadata": {},
          "execution_count": 154
        }
      ]
    },
    {
      "source": [
        "sleep_quality = sleep_data.groupby('Occupation')['Quality of Sleep'].mean()\n",
        "sleep_quality"
      ],
      "metadata": {
        "executionCancelledAt": null,
        "executionTime": 52,
        "lastExecutedAt": 1705326023831,
        "lastScheduledRunId": null,
        "lastSuccessfullyExecutedCode": "sleep_quality = sleep_data.groupby('Occupation')['Quality of Sleep'].mean()\nsleep_quality",
        "id": "29dedb56-01b0-46ea-aeda-3bda1156df26",
        "outputId": "2321ea36-c8dc-495b-b6ad-7ed5092c7a23"
      },
      "cell_type": "code",
      "id": "29dedb56-01b0-46ea-aeda-3bda1156df26",
      "execution_count": null,
      "outputs": [
        {
          "output_type": "execute_result",
          "data": {
            "text/plain": "Occupation\nAccountant              7.891892\nDoctor                  6.647887\nEngineer                8.412698\nLawyer                  7.893617\nManager                 7.000000\nNurse                   7.369863\nSales Representative    4.000000\nSalesperson             6.000000\nScientist               5.000000\nSoftware Engineer       6.500000\nTeacher                 6.975000\nName: Quality of Sleep, dtype: float64"
          },
          "metadata": {},
          "execution_count": 155
        }
      ]
    },
    {
      "source": [
        "lowest_sleep_quality_occ = sleep_quality.sort_values().index[0]\n",
        "lowest_sleep_quality_occ"
      ],
      "metadata": {
        "executionCancelledAt": null,
        "executionTime": 47,
        "lastExecutedAt": 1705326023878,
        "lastScheduledRunId": null,
        "lastSuccessfullyExecutedCode": "lowest_sleep_quality_occ = sleep_quality.sort_values().index[0]\nlowest_sleep_quality_occ",
        "outputsMetadata": {
          "0": {
            "height": 77,
            "type": "stream"
          }
        },
        "id": "76dbf8e1-3440-4d56-b97d-b7d679a8599c",
        "outputId": "4affe5ac-bbd1-4106-ce42-c00a97d4a9ce"
      },
      "cell_type": "code",
      "id": "76dbf8e1-3440-4d56-b97d-b7d679a8599c",
      "execution_count": null,
      "outputs": [
        {
          "output_type": "execute_result",
          "data": {
            "text/plain": "'Sales Representative'"
          },
          "metadata": {},
          "execution_count": 156
        }
      ]
    },
    {
      "source": [
        "if lowest_sleep_occ == lowest_sleep_quality_occ:\n",
        "    same_occ = True\n",
        "else:\n",
        "    same_occ = False\n",
        "print(same_occ)"
      ],
      "metadata": {
        "executionCancelledAt": null,
        "executionTime": 47,
        "lastExecutedAt": 1705326023925,
        "lastScheduledRunId": null,
        "lastSuccessfullyExecutedCode": "if lowest_sleep_occ == lowest_sleep_quality_occ:\n    same_occ = True\nelse:\n    same_occ = False\nprint(same_occ)",
        "outputsMetadata": {
          "0": {
            "height": 37,
            "type": "stream"
          }
        },
        "id": "e07b28fc-f61a-4f89-ac44-370297aac528",
        "outputId": "42a53ad8-7830-41d7-8ec8-c48c735812b1"
      },
      "cell_type": "code",
      "id": "e07b28fc-f61a-4f89-ac44-370297aac528",
      "execution_count": null,
      "outputs": [
        {
          "output_type": "stream",
          "name": "stdout",
          "text": "True\n"
        }
      ]
    },
    {
      "source": [
        "sleep_data['BMI Category'].unique()"
      ],
      "metadata": {
        "executionCancelledAt": null,
        "executionTime": 53,
        "lastExecutedAt": 1705326023978,
        "lastScheduledRunId": null,
        "lastSuccessfullyExecutedCode": "sleep_data['BMI Category'].unique()",
        "id": "63a13597-3287-4991-bcdf-a05c56a17270",
        "outputId": "b4c6c25c-59f0-4919-8c07-8783f595e777"
      },
      "cell_type": "code",
      "id": "63a13597-3287-4991-bcdf-a05c56a17270",
      "execution_count": null,
      "outputs": [
        {
          "output_type": "execute_result",
          "data": {
            "text/plain": "array(['Overweight', 'Normal', 'Obese'], dtype=object)"
          },
          "metadata": {},
          "execution_count": 158
        }
      ]
    },
    {
      "source": [
        "sleep_data['Sleep Disorder'].unique()"
      ],
      "metadata": {
        "executionCancelledAt": null,
        "executionTime": 52,
        "lastExecutedAt": 1705326024030,
        "lastScheduledRunId": null,
        "lastSuccessfullyExecutedCode": "sleep_data['Sleep Disorder'].unique()",
        "id": "d6fd4dc1-eda1-4284-ac3a-278c5c21b372",
        "outputId": "cdb35e34-e045-4760-fcd0-5cbcf8ba190c"
      },
      "cell_type": "code",
      "id": "d6fd4dc1-eda1-4284-ac3a-278c5c21b372",
      "execution_count": null,
      "outputs": [
        {
          "output_type": "execute_result",
          "data": {
            "text/plain": "array(['None', 'Sleep Apnea', 'Insomnia'], dtype=object)"
          },
          "metadata": {},
          "execution_count": 159
        }
      ]
    },
    {
      "source": [
        "normal_insomnia = sleep_data[(sleep_data['Sleep Disorder'] == 'Insomnia') & (sleep_data['BMI Category'] == 'Normal')]\n",
        "normal_insomnia"
      ],
      "metadata": {
        "executionCancelledAt": null,
        "executionTime": 69,
        "lastExecutedAt": 1705326024099,
        "lastScheduledRunId": null,
        "lastSuccessfullyExecutedCode": "normal_insomnia = sleep_data[(sleep_data['Sleep Disorder'] == 'Insomnia') & (sleep_data['BMI Category'] == 'Normal')]\nnormal_insomnia",
        "outputsMetadata": {
          "0": {
            "height": 315,
            "type": "dataFrame"
          }
        },
        "id": "e1691b03-7323-4616-8347-97e22c2f7ec7",
        "outputId": "1f97cb31-e26b-4abe-c8b2-245e2db99d87"
      },
      "cell_type": "code",
      "id": "e1691b03-7323-4616-8347-97e22c2f7ec7",
      "execution_count": null,
      "outputs": [
        {
          "output_type": "execute_result",
          "data": {
            "application/com.datacamp.data-table.v2+json": {
              "table": {
                "schema": {
                  "fields": [
                    {
                      "name": "index",
                      "type": "integer"
                    },
                    {
                      "name": "Person ID",
                      "type": "integer"
                    },
                    {
                      "name": "Gender",
                      "type": "string"
                    },
                    {
                      "name": "Age",
                      "type": "integer"
                    },
                    {
                      "name": "Occupation",
                      "type": "string"
                    },
                    {
                      "name": "Sleep Duration",
                      "type": "number"
                    },
                    {
                      "name": "Quality of Sleep",
                      "type": "integer"
                    },
                    {
                      "name": "Physical Activity Level",
                      "type": "integer"
                    },
                    {
                      "name": "Stress Level",
                      "type": "integer"
                    },
                    {
                      "name": "BMI Category",
                      "type": "string"
                    },
                    {
                      "name": "Blood Pressure",
                      "type": "string"
                    },
                    {
                      "name": "Heart Rate",
                      "type": "integer"
                    },
                    {
                      "name": "Daily Steps",
                      "type": "integer"
                    },
                    {
                      "name": "Sleep Disorder",
                      "type": "string"
                    }
                  ],
                  "primaryKey": [
                    "index"
                  ],
                  "pandas_version": "1.4.0"
                },
                "data": {
                  "index": [
                    18,
                    31,
                    67,
                    94,
                    146,
                    165,
                    201,
                    202,
                    315
                  ],
                  "Person ID": [
                    19,
                    32,
                    68,
                    95,
                    147,
                    166,
                    202,
                    203,
                    316
                  ],
                  "Gender": [
                    "Female",
                    "Female",
                    "Male",
                    "Female",
                    "Male",
                    "Male",
                    "Male",
                    "Male",
                    "Female"
                  ],
                  "Age": [
                    29,
                    30,
                    33,
                    36,
                    39,
                    41,
                    43,
                    43,
                    53
                  ],
                  "Occupation": [
                    "Nurse",
                    "Nurse",
                    "Doctor",
                    "Accountant",
                    "Lawyer",
                    "Lawyer",
                    "Engineer",
                    "Engineer",
                    "Engineer"
                  ],
                  "Sleep Duration": [
                    6.5,
                    6.4,
                    6,
                    7.2,
                    7.2,
                    7.6,
                    7.8,
                    7.8,
                    8.3
                  ],
                  "Quality of Sleep": [
                    5,
                    5,
                    6,
                    8,
                    8,
                    8,
                    8,
                    8,
                    9
                  ],
                  "Physical Activity Level": [
                    40,
                    35,
                    30,
                    60,
                    60,
                    90,
                    90,
                    90,
                    30
                  ],
                  "Stress Level": [
                    7,
                    7,
                    8,
                    4,
                    5,
                    5,
                    5,
                    5,
                    3
                  ],
                  "BMI Category": [
                    "Normal",
                    "Normal",
                    "Normal",
                    "Normal",
                    "Normal",
                    "Normal",
                    "Normal",
                    "Normal",
                    "Normal"
                  ],
                  "Blood Pressure": [
                    "132/87",
                    "130/86",
                    "125/80",
                    "115/75",
                    "130/85",
                    "130/85",
                    "130/85",
                    "130/85",
                    "125/80"
                  ],
                  "Heart Rate": [
                    80,
                    78,
                    72,
                    68,
                    68,
                    70,
                    70,
                    70,
                    65
                  ],
                  "Daily Steps": [
                    4000,
                    4100,
                    5000,
                    7000,
                    8000,
                    8000,
                    8000,
                    8000,
                    5000
                  ],
                  "Sleep Disorder": [
                    "Insomnia",
                    "Insomnia",
                    "Insomnia",
                    "Insomnia",
                    "Insomnia",
                    "Insomnia",
                    "Insomnia",
                    "Insomnia",
                    "Insomnia"
                  ]
                }
              },
              "total_rows": 9,
              "truncation_type": null
            },
            "text/plain": "     Person ID  Gender  Age  ... Heart Rate  Daily Steps  Sleep Disorder\n18          19  Female   29  ...         80         4000        Insomnia\n31          32  Female   30  ...         78         4100        Insomnia\n67          68    Male   33  ...         72         5000        Insomnia\n94          95  Female   36  ...         68         7000        Insomnia\n146        147    Male   39  ...         68         8000        Insomnia\n165        166    Male   41  ...         70         8000        Insomnia\n201        202    Male   43  ...         70         8000        Insomnia\n202        203    Male   43  ...         70         8000        Insomnia\n315        316  Female   53  ...         65         5000        Insomnia\n\n[9 rows x 13 columns]",
            "text/html": "<div>\n<style scoped>\n    .dataframe tbody tr th:only-of-type {\n        vertical-align: middle;\n    }\n\n    .dataframe tbody tr th {\n        vertical-align: top;\n    }\n\n    .dataframe thead th {\n        text-align: right;\n    }\n</style>\n<table border=\"1\" class=\"dataframe\">\n  <thead>\n    <tr style=\"text-align: right;\">\n      <th></th>\n      <th>Person ID</th>\n      <th>Gender</th>\n      <th>Age</th>\n      <th>Occupation</th>\n      <th>Sleep Duration</th>\n      <th>Quality of Sleep</th>\n      <th>Physical Activity Level</th>\n      <th>Stress Level</th>\n      <th>BMI Category</th>\n      <th>Blood Pressure</th>\n      <th>Heart Rate</th>\n      <th>Daily Steps</th>\n      <th>Sleep Disorder</th>\n    </tr>\n  </thead>\n  <tbody>\n    <tr>\n      <th>18</th>\n      <td>19</td>\n      <td>Female</td>\n      <td>29</td>\n      <td>Nurse</td>\n      <td>6.5</td>\n      <td>5</td>\n      <td>40</td>\n      <td>7</td>\n      <td>Normal</td>\n      <td>132/87</td>\n      <td>80</td>\n      <td>4000</td>\n      <td>Insomnia</td>\n    </tr>\n    <tr>\n      <th>31</th>\n      <td>32</td>\n      <td>Female</td>\n      <td>30</td>\n      <td>Nurse</td>\n      <td>6.4</td>\n      <td>5</td>\n      <td>35</td>\n      <td>7</td>\n      <td>Normal</td>\n      <td>130/86</td>\n      <td>78</td>\n      <td>4100</td>\n      <td>Insomnia</td>\n    </tr>\n    <tr>\n      <th>67</th>\n      <td>68</td>\n      <td>Male</td>\n      <td>33</td>\n      <td>Doctor</td>\n      <td>6.0</td>\n      <td>6</td>\n      <td>30</td>\n      <td>8</td>\n      <td>Normal</td>\n      <td>125/80</td>\n      <td>72</td>\n      <td>5000</td>\n      <td>Insomnia</td>\n    </tr>\n    <tr>\n      <th>94</th>\n      <td>95</td>\n      <td>Female</td>\n      <td>36</td>\n      <td>Accountant</td>\n      <td>7.2</td>\n      <td>8</td>\n      <td>60</td>\n      <td>4</td>\n      <td>Normal</td>\n      <td>115/75</td>\n      <td>68</td>\n      <td>7000</td>\n      <td>Insomnia</td>\n    </tr>\n    <tr>\n      <th>146</th>\n      <td>147</td>\n      <td>Male</td>\n      <td>39</td>\n      <td>Lawyer</td>\n      <td>7.2</td>\n      <td>8</td>\n      <td>60</td>\n      <td>5</td>\n      <td>Normal</td>\n      <td>130/85</td>\n      <td>68</td>\n      <td>8000</td>\n      <td>Insomnia</td>\n    </tr>\n    <tr>\n      <th>165</th>\n      <td>166</td>\n      <td>Male</td>\n      <td>41</td>\n      <td>Lawyer</td>\n      <td>7.6</td>\n      <td>8</td>\n      <td>90</td>\n      <td>5</td>\n      <td>Normal</td>\n      <td>130/85</td>\n      <td>70</td>\n      <td>8000</td>\n      <td>Insomnia</td>\n    </tr>\n    <tr>\n      <th>201</th>\n      <td>202</td>\n      <td>Male</td>\n      <td>43</td>\n      <td>Engineer</td>\n      <td>7.8</td>\n      <td>8</td>\n      <td>90</td>\n      <td>5</td>\n      <td>Normal</td>\n      <td>130/85</td>\n      <td>70</td>\n      <td>8000</td>\n      <td>Insomnia</td>\n    </tr>\n    <tr>\n      <th>202</th>\n      <td>203</td>\n      <td>Male</td>\n      <td>43</td>\n      <td>Engineer</td>\n      <td>7.8</td>\n      <td>8</td>\n      <td>90</td>\n      <td>5</td>\n      <td>Normal</td>\n      <td>130/85</td>\n      <td>70</td>\n      <td>8000</td>\n      <td>Insomnia</td>\n    </tr>\n    <tr>\n      <th>315</th>\n      <td>316</td>\n      <td>Female</td>\n      <td>53</td>\n      <td>Engineer</td>\n      <td>8.3</td>\n      <td>9</td>\n      <td>30</td>\n      <td>3</td>\n      <td>Normal</td>\n      <td>125/80</td>\n      <td>65</td>\n      <td>5000</td>\n      <td>Insomnia</td>\n    </tr>\n  </tbody>\n</table>\n</div>"
          },
          "metadata": {},
          "execution_count": 160
        }
      ]
    },
    {
      "source": [
        "overweight_insomnia = sleep_data[(sleep_data['Sleep Disorder'] == 'Insomnia') & (sleep_data['BMI Category'] == 'Overweight')]\n",
        "overweight_insomnia"
      ],
      "metadata": {
        "executionCancelledAt": null,
        "executionTime": 51,
        "lastExecutedAt": 1705326024150,
        "lastScheduledRunId": null,
        "lastSuccessfullyExecutedCode": "overweight_insomnia = sleep_data[(sleep_data['Sleep Disorder'] == 'Insomnia') & (sleep_data['BMI Category'] == 'Overweight')]\noverweight_insomnia",
        "outputsMetadata": {
          "0": {
            "height": 340,
            "type": "dataFrame"
          }
        },
        "id": "0c493fce-480b-4edc-a9fe-f23ebaf5f0f2",
        "outputId": "bf0e093e-1f92-49a9-9886-130e05552eb4"
      },
      "cell_type": "code",
      "id": "0c493fce-480b-4edc-a9fe-f23ebaf5f0f2",
      "execution_count": null,
      "outputs": [
        {
          "output_type": "execute_result",
          "data": {
            "application/com.datacamp.data-table.v2+json": {
              "table": {
                "schema": {
                  "fields": [
                    {
                      "name": "index",
                      "type": "integer"
                    },
                    {
                      "name": "Person ID",
                      "type": "integer"
                    },
                    {
                      "name": "Gender",
                      "type": "string"
                    },
                    {
                      "name": "Age",
                      "type": "integer"
                    },
                    {
                      "name": "Occupation",
                      "type": "string"
                    },
                    {
                      "name": "Sleep Duration",
                      "type": "number"
                    },
                    {
                      "name": "Quality of Sleep",
                      "type": "integer"
                    },
                    {
                      "name": "Physical Activity Level",
                      "type": "integer"
                    },
                    {
                      "name": "Stress Level",
                      "type": "integer"
                    },
                    {
                      "name": "BMI Category",
                      "type": "string"
                    },
                    {
                      "name": "Blood Pressure",
                      "type": "string"
                    },
                    {
                      "name": "Heart Rate",
                      "type": "integer"
                    },
                    {
                      "name": "Daily Steps",
                      "type": "integer"
                    },
                    {
                      "name": "Sleep Disorder",
                      "type": "string"
                    }
                  ],
                  "primaryKey": [
                    "index"
                  ],
                  "pandas_version": "1.4.0"
                },
                "data": {
                  "index": [
                    105,
                    147,
                    177,
                    186,
                    187,
                    188,
                    189,
                    190,
                    191,
                    192,
                    193,
                    194,
                    195,
                    196,
                    197,
                    198,
                    199,
                    200,
                    220,
                    221,
                    222,
                    223,
                    224,
                    225,
                    226,
                    227,
                    228,
                    229,
                    230,
                    231,
                    232,
                    233,
                    234,
                    235,
                    236,
                    237,
                    238,
                    239,
                    240,
                    241,
                    242,
                    243,
                    244,
                    245,
                    246,
                    247,
                    250,
                    251,
                    252,
                    253,
                    254,
                    255,
                    256,
                    257,
                    258,
                    259,
                    260,
                    278,
                    306,
                    307,
                    308,
                    309,
                    310,
                    311
                  ],
                  "Person ID": [
                    106,
                    148,
                    178,
                    187,
                    188,
                    189,
                    190,
                    191,
                    192,
                    193,
                    194,
                    195,
                    196,
                    197,
                    198,
                    199,
                    200,
                    201,
                    221,
                    222,
                    223,
                    224,
                    225,
                    226,
                    227,
                    228,
                    229,
                    230,
                    231,
                    232,
                    233,
                    234,
                    235,
                    236,
                    237,
                    238,
                    239,
                    240,
                    241,
                    242,
                    243,
                    244,
                    245,
                    246,
                    247,
                    248,
                    251,
                    252,
                    253,
                    254,
                    255,
                    256,
                    257,
                    258,
                    259,
                    260,
                    261,
                    279,
                    307,
                    308,
                    309,
                    310,
                    311,
                    312
                  ],
                  "Gender": [
                    "Male",
                    "Male",
                    "Male",
                    "Female",
                    "Male",
                    "Female",
                    "Male",
                    "Female",
                    "Male",
                    "Male",
                    "Male",
                    "Male",
                    "Male",
                    "Male",
                    "Male",
                    "Male",
                    "Male",
                    "Male",
                    "Female",
                    "Male",
                    "Male",
                    "Male",
                    "Female",
                    "Male",
                    "Female",
                    "Male",
                    "Female",
                    "Male",
                    "Female",
                    "Male",
                    "Female",
                    "Male",
                    "Female",
                    "Male",
                    "Male",
                    "Female",
                    "Male",
                    "Male",
                    "Female",
                    "Male",
                    "Male",
                    "Female",
                    "Male",
                    "Female",
                    "Male",
                    "Male",
                    "Female",
                    "Female",
                    "Female",
                    "Female",
                    "Female",
                    "Female",
                    "Female",
                    "Female",
                    "Female",
                    "Female",
                    "Female",
                    "Female",
                    "Female",
                    "Female",
                    "Female",
                    "Female",
                    "Female",
                    "Female"
                  ],
                  "Age": [
                    36,
                    39,
                    42,
                    43,
                    43,
                    43,
                    43,
                    43,
                    43,
                    43,
                    43,
                    43,
                    43,
                    43,
                    43,
                    43,
                    43,
                    43,
                    44,
                    44,
                    44,
                    44,
                    44,
                    44,
                    44,
                    44,
                    44,
                    44,
                    44,
                    44,
                    44,
                    44,
                    44,
                    44,
                    44,
                    44,
                    44,
                    44,
                    44,
                    44,
                    44,
                    44,
                    44,
                    44,
                    44,
                    44,
                    45,
                    45,
                    45,
                    45,
                    45,
                    45,
                    45,
                    45,
                    45,
                    45,
                    45,
                    50,
                    52,
                    52,
                    52,
                    52,
                    52,
                    52
                  ],
                  "Occupation": [
                    "Teacher",
                    "Engineer",
                    "Salesperson",
                    "Teacher",
                    "Salesperson",
                    "Teacher",
                    "Salesperson",
                    "Teacher",
                    "Salesperson",
                    "Salesperson",
                    "Salesperson",
                    "Salesperson",
                    "Salesperson",
                    "Salesperson",
                    "Salesperson",
                    "Salesperson",
                    "Salesperson",
                    "Salesperson",
                    "Teacher",
                    "Salesperson",
                    "Salesperson",
                    "Salesperson",
                    "Teacher",
                    "Salesperson",
                    "Teacher",
                    "Salesperson",
                    "Teacher",
                    "Salesperson",
                    "Teacher",
                    "Salesperson",
                    "Teacher",
                    "Salesperson",
                    "Teacher",
                    "Salesperson",
                    "Salesperson",
                    "Teacher",
                    "Salesperson",
                    "Salesperson",
                    "Teacher",
                    "Salesperson",
                    "Salesperson",
                    "Teacher",
                    "Salesperson",
                    "Teacher",
                    "Salesperson",
                    "Engineer",
                    "Teacher",
                    "Teacher",
                    "Teacher",
                    "Teacher",
                    "Teacher",
                    "Teacher",
                    "Teacher",
                    "Teacher",
                    "Teacher",
                    "Teacher",
                    "Teacher",
                    "Nurse",
                    "Accountant",
                    "Accountant",
                    "Accountant",
                    "Accountant",
                    "Accountant",
                    "Accountant"
                  ],
                  "Sleep Duration": [
                    6.6,
                    6.5,
                    6.5,
                    6.7,
                    6.3,
                    6.7,
                    6.5,
                    6.7,
                    6.4,
                    6.5,
                    6.5,
                    6.5,
                    6.5,
                    6.5,
                    6.5,
                    6.5,
                    6.5,
                    6.5,
                    6.6,
                    6.4,
                    6.3,
                    6.4,
                    6.6,
                    6.3,
                    6.6,
                    6.3,
                    6.6,
                    6.3,
                    6.6,
                    6.3,
                    6.6,
                    6.3,
                    6.6,
                    6.3,
                    6.4,
                    6.5,
                    6.3,
                    6.4,
                    6.5,
                    6.3,
                    6.4,
                    6.5,
                    6.3,
                    6.5,
                    6.3,
                    6.8,
                    6.8,
                    6.8,
                    6.5,
                    6.5,
                    6.5,
                    6.5,
                    6.6,
                    6.6,
                    6.6,
                    6.6,
                    6.6,
                    6.1,
                    6.5,
                    6.5,
                    6.6,
                    6.6,
                    6.6,
                    6.6
                  ],
                  "Quality of Sleep": [
                    5,
                    5,
                    6,
                    7,
                    6,
                    7,
                    6,
                    7,
                    6,
                    6,
                    6,
                    6,
                    6,
                    6,
                    6,
                    6,
                    6,
                    6,
                    7,
                    6,
                    6,
                    6,
                    7,
                    6,
                    7,
                    6,
                    7,
                    6,
                    7,
                    6,
                    7,
                    6,
                    7,
                    6,
                    6,
                    7,
                    6,
                    6,
                    7,
                    6,
                    6,
                    7,
                    6,
                    7,
                    6,
                    7,
                    7,
                    7,
                    7,
                    7,
                    7,
                    7,
                    7,
                    7,
                    7,
                    7,
                    7,
                    6,
                    7,
                    7,
                    7,
                    7,
                    7,
                    7
                  ],
                  "Physical Activity Level": [
                    35,
                    40,
                    45,
                    45,
                    45,
                    45,
                    45,
                    45,
                    45,
                    45,
                    45,
                    45,
                    45,
                    45,
                    45,
                    45,
                    45,
                    45,
                    45,
                    45,
                    45,
                    45,
                    45,
                    45,
                    45,
                    45,
                    45,
                    45,
                    45,
                    45,
                    45,
                    45,
                    45,
                    45,
                    45,
                    45,
                    45,
                    45,
                    45,
                    45,
                    45,
                    45,
                    45,
                    45,
                    45,
                    45,
                    30,
                    30,
                    45,
                    45,
                    45,
                    45,
                    45,
                    45,
                    45,
                    45,
                    45,
                    90,
                    45,
                    45,
                    45,
                    45,
                    45,
                    45
                  ],
                  "Stress Level": [
                    7,
                    7,
                    7,
                    4,
                    7,
                    4,
                    7,
                    4,
                    7,
                    7,
                    7,
                    7,
                    7,
                    7,
                    7,
                    7,
                    7,
                    7,
                    4,
                    7,
                    7,
                    7,
                    4,
                    7,
                    4,
                    7,
                    4,
                    7,
                    4,
                    7,
                    4,
                    7,
                    4,
                    7,
                    7,
                    4,
                    7,
                    7,
                    4,
                    7,
                    7,
                    4,
                    7,
                    4,
                    7,
                    7,
                    6,
                    6,
                    4,
                    4,
                    4,
                    4,
                    4,
                    4,
                    4,
                    4,
                    4,
                    8,
                    7,
                    7,
                    7,
                    7,
                    7,
                    7
                  ],
                  "BMI Category": [
                    "Overweight",
                    "Overweight",
                    "Overweight",
                    "Overweight",
                    "Overweight",
                    "Overweight",
                    "Overweight",
                    "Overweight",
                    "Overweight",
                    "Overweight",
                    "Overweight",
                    "Overweight",
                    "Overweight",
                    "Overweight",
                    "Overweight",
                    "Overweight",
                    "Overweight",
                    "Overweight",
                    "Overweight",
                    "Overweight",
                    "Overweight",
                    "Overweight",
                    "Overweight",
                    "Overweight",
                    "Overweight",
                    "Overweight",
                    "Overweight",
                    "Overweight",
                    "Overweight",
                    "Overweight",
                    "Overweight",
                    "Overweight",
                    "Overweight",
                    "Overweight",
                    "Overweight",
                    "Overweight",
                    "Overweight",
                    "Overweight",
                    "Overweight",
                    "Overweight",
                    "Overweight",
                    "Overweight",
                    "Overweight",
                    "Overweight",
                    "Overweight",
                    "Overweight",
                    "Overweight",
                    "Overweight",
                    "Overweight",
                    "Overweight",
                    "Overweight",
                    "Overweight",
                    "Overweight",
                    "Overweight",
                    "Overweight",
                    "Overweight",
                    "Overweight",
                    "Overweight",
                    "Overweight",
                    "Overweight",
                    "Overweight",
                    "Overweight",
                    "Overweight",
                    "Overweight"
                  ],
                  "Blood Pressure": [
                    "129/84",
                    "132/87",
                    "130/85",
                    "135/90",
                    "130/85",
                    "135/90",
                    "130/85",
                    "135/90",
                    "130/85",
                    "130/85",
                    "130/85",
                    "130/85",
                    "130/85",
                    "130/85",
                    "130/85",
                    "130/85",
                    "130/85",
                    "130/85",
                    "135/90",
                    "130/85",
                    "130/85",
                    "130/85",
                    "135/90",
                    "130/85",
                    "135/90",
                    "130/85",
                    "135/90",
                    "130/85",
                    "135/90",
                    "130/85",
                    "135/90",
                    "130/85",
                    "135/90",
                    "130/85",
                    "130/85",
                    "135/90",
                    "130/85",
                    "130/85",
                    "135/90",
                    "130/85",
                    "130/85",
                    "135/90",
                    "130/85",
                    "135/90",
                    "130/85",
                    "130/85",
                    "135/90",
                    "135/90",
                    "135/90",
                    "135/90",
                    "135/90",
                    "135/90",
                    "135/90",
                    "135/90",
                    "135/90",
                    "135/90",
                    "135/90",
                    "140/95",
                    "130/85",
                    "130/85",
                    "130/85",
                    "130/85",
                    "130/85",
                    "130/85"
                  ],
                  "Heart Rate": [
                    74,
                    80,
                    72,
                    65,
                    72,
                    65,
                    72,
                    65,
                    72,
                    72,
                    72,
                    72,
                    72,
                    72,
                    72,
                    72,
                    72,
                    72,
                    65,
                    72,
                    72,
                    72,
                    65,
                    72,
                    65,
                    72,
                    65,
                    72,
                    65,
                    72,
                    65,
                    72,
                    65,
                    72,
                    72,
                    65,
                    72,
                    72,
                    65,
                    72,
                    72,
                    65,
                    72,
                    65,
                    72,
                    78,
                    65,
                    65,
                    65,
                    65,
                    65,
                    65,
                    65,
                    65,
                    65,
                    65,
                    65,
                    75,
                    72,
                    72,
                    72,
                    72,
                    72,
                    72
                  ],
                  "Daily Steps": [
                    4800,
                    4000,
                    6000,
                    6000,
                    6000,
                    6000,
                    6000,
                    6000,
                    6000,
                    6000,
                    6000,
                    6000,
                    6000,
                    6000,
                    6000,
                    6000,
                    6000,
                    6000,
                    6000,
                    6000,
                    6000,
                    6000,
                    6000,
                    6000,
                    6000,
                    6000,
                    6000,
                    6000,
                    6000,
                    6000,
                    6000,
                    6000,
                    6000,
                    6000,
                    6000,
                    6000,
                    6000,
                    6000,
                    6000,
                    6000,
                    6000,
                    6000,
                    6000,
                    6000,
                    6000,
                    5000,
                    6000,
                    6000,
                    6000,
                    6000,
                    6000,
                    6000,
                    6000,
                    6000,
                    6000,
                    6000,
                    6000,
                    10000,
                    6000,
                    6000,
                    6000,
                    6000,
                    6000,
                    6000
                  ],
                  "Sleep Disorder": [
                    "Insomnia",
                    "Insomnia",
                    "Insomnia",
                    "Insomnia",
                    "Insomnia",
                    "Insomnia",
                    "Insomnia",
                    "Insomnia",
                    "Insomnia",
                    "Insomnia",
                    "Insomnia",
                    "Insomnia",
                    "Insomnia",
                    "Insomnia",
                    "Insomnia",
                    "Insomnia",
                    "Insomnia",
                    "Insomnia",
                    "Insomnia",
                    "Insomnia",
                    "Insomnia",
                    "Insomnia",
                    "Insomnia",
                    "Insomnia",
                    "Insomnia",
                    "Insomnia",
                    "Insomnia",
                    "Insomnia",
                    "Insomnia",
                    "Insomnia",
                    "Insomnia",
                    "Insomnia",
                    "Insomnia",
                    "Insomnia",
                    "Insomnia",
                    "Insomnia",
                    "Insomnia",
                    "Insomnia",
                    "Insomnia",
                    "Insomnia",
                    "Insomnia",
                    "Insomnia",
                    "Insomnia",
                    "Insomnia",
                    "Insomnia",
                    "Insomnia",
                    "Insomnia",
                    "Insomnia",
                    "Insomnia",
                    "Insomnia",
                    "Insomnia",
                    "Insomnia",
                    "Insomnia",
                    "Insomnia",
                    "Insomnia",
                    "Insomnia",
                    "Insomnia",
                    "Insomnia",
                    "Insomnia",
                    "Insomnia",
                    "Insomnia",
                    "Insomnia",
                    "Insomnia",
                    "Insomnia"
                  ]
                }
              },
              "total_rows": 64,
              "truncation_type": null
            },
            "text/plain": "     Person ID  Gender  Age  ... Heart Rate  Daily Steps  Sleep Disorder\n105        106    Male   36  ...         74         4800        Insomnia\n147        148    Male   39  ...         80         4000        Insomnia\n177        178    Male   42  ...         72         6000        Insomnia\n186        187  Female   43  ...         65         6000        Insomnia\n187        188    Male   43  ...         72         6000        Insomnia\n..         ...     ...  ...  ...        ...          ...             ...\n307        308  Female   52  ...         72         6000        Insomnia\n308        309  Female   52  ...         72         6000        Insomnia\n309        310  Female   52  ...         72         6000        Insomnia\n310        311  Female   52  ...         72         6000        Insomnia\n311        312  Female   52  ...         72         6000        Insomnia\n\n[64 rows x 13 columns]",
            "text/html": "<div>\n<style scoped>\n    .dataframe tbody tr th:only-of-type {\n        vertical-align: middle;\n    }\n\n    .dataframe tbody tr th {\n        vertical-align: top;\n    }\n\n    .dataframe thead th {\n        text-align: right;\n    }\n</style>\n<table border=\"1\" class=\"dataframe\">\n  <thead>\n    <tr style=\"text-align: right;\">\n      <th></th>\n      <th>Person ID</th>\n      <th>Gender</th>\n      <th>Age</th>\n      <th>Occupation</th>\n      <th>Sleep Duration</th>\n      <th>Quality of Sleep</th>\n      <th>Physical Activity Level</th>\n      <th>Stress Level</th>\n      <th>BMI Category</th>\n      <th>Blood Pressure</th>\n      <th>Heart Rate</th>\n      <th>Daily Steps</th>\n      <th>Sleep Disorder</th>\n    </tr>\n  </thead>\n  <tbody>\n    <tr>\n      <th>105</th>\n      <td>106</td>\n      <td>Male</td>\n      <td>36</td>\n      <td>Teacher</td>\n      <td>6.6</td>\n      <td>5</td>\n      <td>35</td>\n      <td>7</td>\n      <td>Overweight</td>\n      <td>129/84</td>\n      <td>74</td>\n      <td>4800</td>\n      <td>Insomnia</td>\n    </tr>\n    <tr>\n      <th>147</th>\n      <td>148</td>\n      <td>Male</td>\n      <td>39</td>\n      <td>Engineer</td>\n      <td>6.5</td>\n      <td>5</td>\n      <td>40</td>\n      <td>7</td>\n      <td>Overweight</td>\n      <td>132/87</td>\n      <td>80</td>\n      <td>4000</td>\n      <td>Insomnia</td>\n    </tr>\n    <tr>\n      <th>177</th>\n      <td>178</td>\n      <td>Male</td>\n      <td>42</td>\n      <td>Salesperson</td>\n      <td>6.5</td>\n      <td>6</td>\n      <td>45</td>\n      <td>7</td>\n      <td>Overweight</td>\n      <td>130/85</td>\n      <td>72</td>\n      <td>6000</td>\n      <td>Insomnia</td>\n    </tr>\n    <tr>\n      <th>186</th>\n      <td>187</td>\n      <td>Female</td>\n      <td>43</td>\n      <td>Teacher</td>\n      <td>6.7</td>\n      <td>7</td>\n      <td>45</td>\n      <td>4</td>\n      <td>Overweight</td>\n      <td>135/90</td>\n      <td>65</td>\n      <td>6000</td>\n      <td>Insomnia</td>\n    </tr>\n    <tr>\n      <th>187</th>\n      <td>188</td>\n      <td>Male</td>\n      <td>43</td>\n      <td>Salesperson</td>\n      <td>6.3</td>\n      <td>6</td>\n      <td>45</td>\n      <td>7</td>\n      <td>Overweight</td>\n      <td>130/85</td>\n      <td>72</td>\n      <td>6000</td>\n      <td>Insomnia</td>\n    </tr>\n    <tr>\n      <th>...</th>\n      <td>...</td>\n      <td>...</td>\n      <td>...</td>\n      <td>...</td>\n      <td>...</td>\n      <td>...</td>\n      <td>...</td>\n      <td>...</td>\n      <td>...</td>\n      <td>...</td>\n      <td>...</td>\n      <td>...</td>\n      <td>...</td>\n    </tr>\n    <tr>\n      <th>307</th>\n      <td>308</td>\n      <td>Female</td>\n      <td>52</td>\n      <td>Accountant</td>\n      <td>6.5</td>\n      <td>7</td>\n      <td>45</td>\n      <td>7</td>\n      <td>Overweight</td>\n      <td>130/85</td>\n      <td>72</td>\n      <td>6000</td>\n      <td>Insomnia</td>\n    </tr>\n    <tr>\n      <th>308</th>\n      <td>309</td>\n      <td>Female</td>\n      <td>52</td>\n      <td>Accountant</td>\n      <td>6.6</td>\n      <td>7</td>\n      <td>45</td>\n      <td>7</td>\n      <td>Overweight</td>\n      <td>130/85</td>\n      <td>72</td>\n      <td>6000</td>\n      <td>Insomnia</td>\n    </tr>\n    <tr>\n      <th>309</th>\n      <td>310</td>\n      <td>Female</td>\n      <td>52</td>\n      <td>Accountant</td>\n      <td>6.6</td>\n      <td>7</td>\n      <td>45</td>\n      <td>7</td>\n      <td>Overweight</td>\n      <td>130/85</td>\n      <td>72</td>\n      <td>6000</td>\n      <td>Insomnia</td>\n    </tr>\n    <tr>\n      <th>310</th>\n      <td>311</td>\n      <td>Female</td>\n      <td>52</td>\n      <td>Accountant</td>\n      <td>6.6</td>\n      <td>7</td>\n      <td>45</td>\n      <td>7</td>\n      <td>Overweight</td>\n      <td>130/85</td>\n      <td>72</td>\n      <td>6000</td>\n      <td>Insomnia</td>\n    </tr>\n    <tr>\n      <th>311</th>\n      <td>312</td>\n      <td>Female</td>\n      <td>52</td>\n      <td>Accountant</td>\n      <td>6.6</td>\n      <td>7</td>\n      <td>45</td>\n      <td>7</td>\n      <td>Overweight</td>\n      <td>130/85</td>\n      <td>72</td>\n      <td>6000</td>\n      <td>Insomnia</td>\n    </tr>\n  </tbody>\n</table>\n<p>64 rows × 13 columns</p>\n</div>"
          },
          "metadata": {},
          "execution_count": 161
        }
      ]
    },
    {
      "source": [
        "obese_insomnia = sleep_data[(sleep_data['Sleep Disorder'] == 'Insomnia') & (sleep_data['BMI Category'] == 'Obese')]\n",
        "obese_insomnia"
      ],
      "metadata": {
        "executionCancelledAt": null,
        "executionTime": 48,
        "lastExecutedAt": 1705326024199,
        "lastScheduledRunId": null,
        "lastSuccessfullyExecutedCode": "obese_insomnia = sleep_data[(sleep_data['Sleep Disorder'] == 'Insomnia') & (sleep_data['BMI Category'] == 'Obese')]\nobese_insomnia",
        "outputsMetadata": {
          "0": {
            "height": 190,
            "type": "dataFrame"
          }
        },
        "id": "4246d5e6-59a6-4005-b57c-c2e7e32ab923",
        "outputId": "b17c7f57-1b60-464f-beb6-e853c0f32fc9"
      },
      "cell_type": "code",
      "id": "4246d5e6-59a6-4005-b57c-c2e7e32ab923",
      "execution_count": null,
      "outputs": [
        {
          "output_type": "execute_result",
          "data": {
            "application/com.datacamp.data-table.v2+json": {
              "table": {
                "schema": {
                  "fields": [
                    {
                      "name": "index",
                      "type": "integer"
                    },
                    {
                      "name": "Person ID",
                      "type": "integer"
                    },
                    {
                      "name": "Gender",
                      "type": "string"
                    },
                    {
                      "name": "Age",
                      "type": "integer"
                    },
                    {
                      "name": "Occupation",
                      "type": "string"
                    },
                    {
                      "name": "Sleep Duration",
                      "type": "number"
                    },
                    {
                      "name": "Quality of Sleep",
                      "type": "integer"
                    },
                    {
                      "name": "Physical Activity Level",
                      "type": "integer"
                    },
                    {
                      "name": "Stress Level",
                      "type": "integer"
                    },
                    {
                      "name": "BMI Category",
                      "type": "string"
                    },
                    {
                      "name": "Blood Pressure",
                      "type": "string"
                    },
                    {
                      "name": "Heart Rate",
                      "type": "integer"
                    },
                    {
                      "name": "Daily Steps",
                      "type": "integer"
                    },
                    {
                      "name": "Sleep Disorder",
                      "type": "string"
                    }
                  ],
                  "primaryKey": [
                    "index"
                  ],
                  "pandas_version": "1.4.0"
                },
                "data": {
                  "index": [
                    5,
                    6,
                    264,
                    266
                  ],
                  "Person ID": [
                    6,
                    7,
                    265,
                    267
                  ],
                  "Gender": [
                    "Male",
                    "Male",
                    "Male",
                    "Male"
                  ],
                  "Age": [
                    28,
                    29,
                    48,
                    48
                  ],
                  "Occupation": [
                    "Software Engineer",
                    "Teacher",
                    "Doctor",
                    "Doctor"
                  ],
                  "Sleep Duration": [
                    5.9,
                    6.3,
                    7.3,
                    7.3
                  ],
                  "Quality of Sleep": [
                    4,
                    6,
                    7,
                    7
                  ],
                  "Physical Activity Level": [
                    30,
                    40,
                    65,
                    65
                  ],
                  "Stress Level": [
                    8,
                    7,
                    5,
                    5
                  ],
                  "BMI Category": [
                    "Obese",
                    "Obese",
                    "Obese",
                    "Obese"
                  ],
                  "Blood Pressure": [
                    "140/90",
                    "140/90",
                    "142/92",
                    "142/92"
                  ],
                  "Heart Rate": [
                    85,
                    82,
                    83,
                    83
                  ],
                  "Daily Steps": [
                    3000,
                    3500,
                    3500,
                    3500
                  ],
                  "Sleep Disorder": [
                    "Insomnia",
                    "Insomnia",
                    "Insomnia",
                    "Insomnia"
                  ]
                }
              },
              "total_rows": 4,
              "truncation_type": null
            },
            "text/plain": "     Person ID Gender  Age  ... Heart Rate  Daily Steps  Sleep Disorder\n5            6   Male   28  ...         85         3000        Insomnia\n6            7   Male   29  ...         82         3500        Insomnia\n264        265   Male   48  ...         83         3500        Insomnia\n266        267   Male   48  ...         83         3500        Insomnia\n\n[4 rows x 13 columns]",
            "text/html": "<div>\n<style scoped>\n    .dataframe tbody tr th:only-of-type {\n        vertical-align: middle;\n    }\n\n    .dataframe tbody tr th {\n        vertical-align: top;\n    }\n\n    .dataframe thead th {\n        text-align: right;\n    }\n</style>\n<table border=\"1\" class=\"dataframe\">\n  <thead>\n    <tr style=\"text-align: right;\">\n      <th></th>\n      <th>Person ID</th>\n      <th>Gender</th>\n      <th>Age</th>\n      <th>Occupation</th>\n      <th>Sleep Duration</th>\n      <th>Quality of Sleep</th>\n      <th>Physical Activity Level</th>\n      <th>Stress Level</th>\n      <th>BMI Category</th>\n      <th>Blood Pressure</th>\n      <th>Heart Rate</th>\n      <th>Daily Steps</th>\n      <th>Sleep Disorder</th>\n    </tr>\n  </thead>\n  <tbody>\n    <tr>\n      <th>5</th>\n      <td>6</td>\n      <td>Male</td>\n      <td>28</td>\n      <td>Software Engineer</td>\n      <td>5.9</td>\n      <td>4</td>\n      <td>30</td>\n      <td>8</td>\n      <td>Obese</td>\n      <td>140/90</td>\n      <td>85</td>\n      <td>3000</td>\n      <td>Insomnia</td>\n    </tr>\n    <tr>\n      <th>6</th>\n      <td>7</td>\n      <td>Male</td>\n      <td>29</td>\n      <td>Teacher</td>\n      <td>6.3</td>\n      <td>6</td>\n      <td>40</td>\n      <td>7</td>\n      <td>Obese</td>\n      <td>140/90</td>\n      <td>82</td>\n      <td>3500</td>\n      <td>Insomnia</td>\n    </tr>\n    <tr>\n      <th>264</th>\n      <td>265</td>\n      <td>Male</td>\n      <td>48</td>\n      <td>Doctor</td>\n      <td>7.3</td>\n      <td>7</td>\n      <td>65</td>\n      <td>5</td>\n      <td>Obese</td>\n      <td>142/92</td>\n      <td>83</td>\n      <td>3500</td>\n      <td>Insomnia</td>\n    </tr>\n    <tr>\n      <th>266</th>\n      <td>267</td>\n      <td>Male</td>\n      <td>48</td>\n      <td>Doctor</td>\n      <td>7.3</td>\n      <td>7</td>\n      <td>65</td>\n      <td>5</td>\n      <td>Obese</td>\n      <td>142/92</td>\n      <td>83</td>\n      <td>3500</td>\n      <td>Insomnia</td>\n    </tr>\n  </tbody>\n</table>\n</div>"
          },
          "metadata": {},
          "execution_count": 162
        }
      ]
    },
    {
      "source": [
        "sleep_data['BMI Category'].value_counts()"
      ],
      "metadata": {
        "executionCancelledAt": null,
        "executionTime": 47,
        "lastExecutedAt": 1705326024246,
        "lastScheduledRunId": null,
        "lastSuccessfullyExecutedCode": "sleep_data['BMI Category'].value_counts()",
        "id": "8b9cb4c7-66ba-444f-b883-397078f2558f",
        "outputId": "e6225988-9fcf-432f-a0d6-1a0b0a9e83f4"
      },
      "cell_type": "code",
      "id": "8b9cb4c7-66ba-444f-b883-397078f2558f",
      "execution_count": null,
      "outputs": [
        {
          "output_type": "execute_result",
          "data": {
            "text/plain": "Normal        216\nOverweight    148\nObese          10\nName: BMI Category, dtype: int64"
          },
          "metadata": {},
          "execution_count": 163
        }
      ]
    },
    {
      "source": [
        "total_normal = len(normal_insomnia)\n",
        "normal_ratio = round(total_normal/216, 2)\n",
        "normal_ratio"
      ],
      "metadata": {
        "executionCancelledAt": null,
        "executionTime": 52,
        "lastExecutedAt": 1705326024298,
        "lastScheduledRunId": null,
        "lastSuccessfullyExecutedCode": "total_normal = len(normal_insomnia)\nnormal_ratio = round(total_normal/216, 2)\nnormal_ratio",
        "id": "f699fcee-8e1f-48a2-9e00-5960752d8cfc",
        "outputId": "6306ef08-6c6c-4444-cc19-e83748bd9853"
      },
      "cell_type": "code",
      "id": "f699fcee-8e1f-48a2-9e00-5960752d8cfc",
      "execution_count": null,
      "outputs": [
        {
          "output_type": "execute_result",
          "data": {
            "text/plain": "0.04"
          },
          "metadata": {},
          "execution_count": 164
        }
      ]
    },
    {
      "source": [
        "total_overweight = len(overweight_insomnia)\n",
        "overweight_ratio = round(total_overweight/148, 2)\n",
        "overweight_ratio"
      ],
      "metadata": {
        "executionCancelledAt": null,
        "executionTime": 52,
        "lastExecutedAt": 1705326024350,
        "lastScheduledRunId": null,
        "lastSuccessfullyExecutedCode": "total_overweight = len(overweight_insomnia)\noverweight_ratio = round(total_overweight/148, 2)\noverweight_ratio",
        "id": "6d811c30-66fe-42f8-b4ed-7ab9dcdac50d",
        "outputId": "77d6d6aa-7797-4ecc-ece4-556f5679dba5"
      },
      "cell_type": "code",
      "id": "6d811c30-66fe-42f8-b4ed-7ab9dcdac50d",
      "execution_count": null,
      "outputs": [
        {
          "output_type": "execute_result",
          "data": {
            "text/plain": "0.43"
          },
          "metadata": {},
          "execution_count": 165
        }
      ]
    },
    {
      "source": [
        "total_obese = len(obese_insomnia)\n",
        "obese_ratio = round(total_obese/10, 2)\n",
        "obese_ratio"
      ],
      "metadata": {
        "executionCancelledAt": null,
        "executionTime": 52,
        "lastExecutedAt": 1705326024402,
        "lastScheduledRunId": null,
        "lastSuccessfullyExecutedCode": "total_obese = len(obese_insomnia)\nobese_ratio = round(total_obese/10, 2)\nobese_ratio",
        "id": "311917af-68bf-48aa-af47-c4e0cbc3e966",
        "outputId": "7cac8f82-d2ec-4ad8-c002-9b73f5ccd7b7"
      },
      "cell_type": "code",
      "id": "311917af-68bf-48aa-af47-c4e0cbc3e966",
      "execution_count": null,
      "outputs": [
        {
          "output_type": "execute_result",
          "data": {
            "text/plain": "0.4"
          },
          "metadata": {},
          "execution_count": 166
        }
      ]
    },
    {
      "source": [
        "bmi_insomnia_ratios = {\n",
        "    \"Normal\": normal_ratio,\n",
        "    \"Overweight\": overweight_ratio,\n",
        "    \"Obese\": obese_ratio\n",
        "}\n",
        "bmi_insomnia_ratios"
      ],
      "metadata": {
        "executionCancelledAt": null,
        "executionTime": 52,
        "lastExecutedAt": 1705326024454,
        "lastScheduledRunId": null,
        "lastSuccessfullyExecutedCode": "bmi_insomnia_ratios = {\n    \"Normal\": normal_ratio,\n    \"Overweight\": overweight_ratio,\n    \"Obese\": obese_ratio\n}\nbmi_insomnia_ratios",
        "id": "9fb00af5-f101-4415-b1ff-21f2f370ed29",
        "outputId": "edaeb4a1-70e0-416c-b0fc-596a71f183b2"
      },
      "cell_type": "code",
      "id": "9fb00af5-f101-4415-b1ff-21f2f370ed29",
      "execution_count": null,
      "outputs": [
        {
          "output_type": "execute_result",
          "data": {
            "text/plain": "{'Normal': 0.04, 'Overweight': 0.43, 'Obese': 0.4}"
          },
          "metadata": {},
          "execution_count": 167
        }
      ]
    }
  ],
  "metadata": {
    "colab": {
      "provenance": [],
      "include_colab_link": true
    },
    "kernelspec": {
      "display_name": "Python 3 (ipykernel)",
      "language": "python",
      "name": "python3"
    },
    "language_info": {
      "codemirror_mode": {
        "name": "ipython",
        "version": 3
      },
      "file_extension": ".py",
      "mimetype": "text/x-python",
      "name": "python",
      "nbconvert_exporter": "python",
      "pygments_lexer": "ipython3",
      "version": "3.8.10"
    }
  },
  "nbformat": 4,
  "nbformat_minor": 5
}